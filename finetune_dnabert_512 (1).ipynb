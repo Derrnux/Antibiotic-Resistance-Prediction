{
  "cells": [
    {
      "cell_type": "markdown",
      "metadata": {
        "id": "g851Vzkkh_VR"
      },
      "source": [
        "Load Libraries"
      ]
    },
    {
      "cell_type": "code",
      "execution_count": 1,
      "metadata": {
        "id": "XSXU0VkviCJ2",
        "colab": {
          "base_uri": "https://localhost:8080/"
        },
        "outputId": "4402a001-d28d-41cf-ee8e-d8eac4ea51cc"
      },
      "outputs": [
        {
          "output_type": "stream",
          "name": "stdout",
          "text": [
            "Collecting biopython\n",
            "  Downloading biopython-1.84-cp310-cp310-manylinux_2_17_x86_64.manylinux2014_x86_64.whl.metadata (12 kB)\n",
            "Requirement already satisfied: seaborn in /usr/local/lib/python3.10/dist-packages (0.13.2)\n",
            "Requirement already satisfied: numpy in /usr/local/lib/python3.10/dist-packages (from biopython) (1.26.4)\n",
            "Requirement already satisfied: pandas>=1.2 in /usr/local/lib/python3.10/dist-packages (from seaborn) (2.2.2)\n",
            "Requirement already satisfied: matplotlib!=3.6.1,>=3.4 in /usr/local/lib/python3.10/dist-packages (from seaborn) (3.10.0)\n",
            "Requirement already satisfied: contourpy>=1.0.1 in /usr/local/lib/python3.10/dist-packages (from matplotlib!=3.6.1,>=3.4->seaborn) (1.3.1)\n",
            "Requirement already satisfied: cycler>=0.10 in /usr/local/lib/python3.10/dist-packages (from matplotlib!=3.6.1,>=3.4->seaborn) (0.12.1)\n",
            "Requirement already satisfied: fonttools>=4.22.0 in /usr/local/lib/python3.10/dist-packages (from matplotlib!=3.6.1,>=3.4->seaborn) (4.55.3)\n",
            "Requirement already satisfied: kiwisolver>=1.3.1 in /usr/local/lib/python3.10/dist-packages (from matplotlib!=3.6.1,>=3.4->seaborn) (1.4.8)\n",
            "Requirement already satisfied: packaging>=20.0 in /usr/local/lib/python3.10/dist-packages (from matplotlib!=3.6.1,>=3.4->seaborn) (24.2)\n",
            "Requirement already satisfied: pillow>=8 in /usr/local/lib/python3.10/dist-packages (from matplotlib!=3.6.1,>=3.4->seaborn) (11.1.0)\n",
            "Requirement already satisfied: pyparsing>=2.3.1 in /usr/local/lib/python3.10/dist-packages (from matplotlib!=3.6.1,>=3.4->seaborn) (3.2.1)\n",
            "Requirement already satisfied: python-dateutil>=2.7 in /usr/local/lib/python3.10/dist-packages (from matplotlib!=3.6.1,>=3.4->seaborn) (2.8.2)\n",
            "Requirement already satisfied: pytz>=2020.1 in /usr/local/lib/python3.10/dist-packages (from pandas>=1.2->seaborn) (2024.2)\n",
            "Requirement already satisfied: tzdata>=2022.7 in /usr/local/lib/python3.10/dist-packages (from pandas>=1.2->seaborn) (2024.2)\n",
            "Requirement already satisfied: six>=1.5 in /usr/local/lib/python3.10/dist-packages (from python-dateutil>=2.7->matplotlib!=3.6.1,>=3.4->seaborn) (1.17.0)\n",
            "Downloading biopython-1.84-cp310-cp310-manylinux_2_17_x86_64.manylinux2014_x86_64.whl (3.2 MB)\n",
            "\u001b[2K   \u001b[90m━━━━━━━━━━━━━━━━━━━━━━━━━━━━━━━━━━━━━━━━\u001b[0m \u001b[32m3.2/3.2 MB\u001b[0m \u001b[31m38.4 MB/s\u001b[0m eta \u001b[36m0:00:00\u001b[0m\n",
            "\u001b[?25hInstalling collected packages: biopython\n",
            "Successfully installed biopython-1.84\n",
            "Requirement already satisfied: biopython in /usr/local/lib/python3.10/dist-packages (1.84)\n",
            "Requirement already satisfied: numpy in /usr/local/lib/python3.10/dist-packages (from biopython) (1.26.4)\n",
            "Requirement already satisfied: seaborn in /usr/local/lib/python3.10/dist-packages (0.13.2)\n",
            "Requirement already satisfied: numpy!=1.24.0,>=1.20 in /usr/local/lib/python3.10/dist-packages (from seaborn) (1.26.4)\n",
            "Requirement already satisfied: pandas>=1.2 in /usr/local/lib/python3.10/dist-packages (from seaborn) (2.2.2)\n",
            "Requirement already satisfied: matplotlib!=3.6.1,>=3.4 in /usr/local/lib/python3.10/dist-packages (from seaborn) (3.10.0)\n",
            "Requirement already satisfied: contourpy>=1.0.1 in /usr/local/lib/python3.10/dist-packages (from matplotlib!=3.6.1,>=3.4->seaborn) (1.3.1)\n",
            "Requirement already satisfied: cycler>=0.10 in /usr/local/lib/python3.10/dist-packages (from matplotlib!=3.6.1,>=3.4->seaborn) (0.12.1)\n",
            "Requirement already satisfied: fonttools>=4.22.0 in /usr/local/lib/python3.10/dist-packages (from matplotlib!=3.6.1,>=3.4->seaborn) (4.55.3)\n",
            "Requirement already satisfied: kiwisolver>=1.3.1 in /usr/local/lib/python3.10/dist-packages (from matplotlib!=3.6.1,>=3.4->seaborn) (1.4.8)\n",
            "Requirement already satisfied: packaging>=20.0 in /usr/local/lib/python3.10/dist-packages (from matplotlib!=3.6.1,>=3.4->seaborn) (24.2)\n",
            "Requirement already satisfied: pillow>=8 in /usr/local/lib/python3.10/dist-packages (from matplotlib!=3.6.1,>=3.4->seaborn) (11.1.0)\n",
            "Requirement already satisfied: pyparsing>=2.3.1 in /usr/local/lib/python3.10/dist-packages (from matplotlib!=3.6.1,>=3.4->seaborn) (3.2.1)\n",
            "Requirement already satisfied: python-dateutil>=2.7 in /usr/local/lib/python3.10/dist-packages (from matplotlib!=3.6.1,>=3.4->seaborn) (2.8.2)\n",
            "Requirement already satisfied: pytz>=2020.1 in /usr/local/lib/python3.10/dist-packages (from pandas>=1.2->seaborn) (2024.2)\n",
            "Requirement already satisfied: tzdata>=2022.7 in /usr/local/lib/python3.10/dist-packages (from pandas>=1.2->seaborn) (2024.2)\n",
            "Requirement already satisfied: six>=1.5 in /usr/local/lib/python3.10/dist-packages (from python-dateutil>=2.7->matplotlib!=3.6.1,>=3.4->seaborn) (1.17.0)\n",
            "\u001b[2K   \u001b[90m━━━━━━━━━━━━━━━━━━━━━━━━━━━━━━━━━━━━━━━━\u001b[0m \u001b[32m480.6/480.6 kB\u001b[0m \u001b[31m14.7 MB/s\u001b[0m eta \u001b[36m0:00:00\u001b[0m\n",
            "\u001b[2K   \u001b[90m━━━━━━━━━━━━━━━━━━━━━━━━━━━━━━━━━━━━━━━━\u001b[0m \u001b[32m116.3/116.3 kB\u001b[0m \u001b[31m11.7 MB/s\u001b[0m eta \u001b[36m0:00:00\u001b[0m\n",
            "\u001b[2K   \u001b[90m━━━━━━━━━━━━━━━━━━━━━━━━━━━━━━━━━━━━━━━━\u001b[0m \u001b[32m179.3/179.3 kB\u001b[0m \u001b[31m18.3 MB/s\u001b[0m eta \u001b[36m0:00:00\u001b[0m\n",
            "\u001b[2K   \u001b[90m━━━━━━━━━━━━━━━━━━━━━━━━━━━━━━━━━━━━━━━━\u001b[0m \u001b[32m134.8/134.8 kB\u001b[0m \u001b[31m13.5 MB/s\u001b[0m eta \u001b[36m0:00:00\u001b[0m\n",
            "\u001b[2K   \u001b[90m━━━━━━━━━━━━━━━━━━━━━━━━━━━━━━━━━━━━━━━━\u001b[0m \u001b[32m194.1/194.1 kB\u001b[0m \u001b[31m18.6 MB/s\u001b[0m eta \u001b[36m0:00:00\u001b[0m\n",
            "\u001b[?25h\u001b[31mERROR: pip's dependency resolver does not currently take into account all the packages that are installed. This behaviour is the source of the following dependency conflicts.\n",
            "gcsfs 2024.10.0 requires fsspec==2024.10.0, but you have fsspec 2024.9.0 which is incompatible.\u001b[0m\u001b[31m\n",
            "\u001b[0mWANDB_DISABLED: true\n"
          ]
        }
      ],
      "source": [
        "!pip install biopython seaborn\n",
        "%pip install biopython\n",
        "%pip install seaborn\n",
        "!pip install -q biopython transformers datasets huggingface_hub accelerate\n",
        "\n",
        "import os\n",
        "import zipfile\n",
        "import torch\n",
        "import random\n",
        "import sys\n",
        "\n",
        "import matplotlib.pyplot as plt\n",
        "import numpy as np\n",
        "\n",
        "from Bio import SeqIO, Entrez\n",
        "from Bio.Seq import Seq\n",
        "from Bio.SeqRecord import SeqRecord\n",
        "from datasets import Dataset\n",
        "from itertools import product\n",
        "from sklearn.metrics import precision_recall_curve, auc, confusion_matrix, ConfusionMatrixDisplay, classification_report, precision_score, recall_score, f1_score, accuracy_score\n",
        "from sklearn.model_selection import train_test_split\n",
        "from sklearn.utils.class_weight import compute_class_weight\n",
        "from transformers import AutoTokenizer, AutoModelForSequenceClassification, Trainer, TrainingArguments, DataCollatorWithPadding, BertForSequenceClassification, BertTokenizer\n",
        "from tqdm import tqdm\n",
        "\n",
        "os.environ[\"WANDB_DISABLED\"] = \"true\"\n",
        "os.environ[\"WANDB_MODE\"] = \"offline\"\n",
        "\n",
        "# Verify wandb is disabled\n",
        "print(\"WANDB_DISABLED:\", os.environ.get(\"WANDB_DISABLED\"))"
      ]
    },
    {
      "cell_type": "markdown",
      "metadata": {
        "id": "81O-9-AHj2k7"
      },
      "source": [
        "Seeding"
      ]
    },
    {
      "cell_type": "code",
      "execution_count": 2,
      "metadata": {
        "id": "FunO1_c2j_Vp",
        "colab": {
          "base_uri": "https://localhost:8080/"
        },
        "outputId": "1ce4a5e3-ef7a-41b3-ff52-56d49987f566"
      },
      "outputs": [
        {
          "output_type": "stream",
          "name": "stdout",
          "text": [
            "Random seeds set for reproducibility.\n"
          ]
        }
      ],
      "source": [
        "import random\n",
        "import numpy as np\n",
        "import torch\n",
        "from transformers import set_seed\n",
        "\n",
        "\n",
        "# Set random seeds for reproducibility\n",
        "SEED = 42\n",
        "\n",
        "# Python's random module\n",
        "random.seed(SEED)\n",
        "\n",
        "# NumPy\n",
        "np.random.seed(SEED)\n",
        "\n",
        "# PyTorch\n",
        "torch.manual_seed(SEED)\n",
        "torch.cuda.manual_seed(SEED)\n",
        "torch.backends.cudnn.deterministic = True\n",
        "torch.backends.cudnn.benchmark = False\n",
        "\n",
        "# For TensorFlow (if using it)\n",
        "try:\n",
        "    import tensorflow as tf\n",
        "    tf.random.set_seed(SEED)\n",
        "except ImportError:\n",
        "    pass\n",
        "\n",
        "# Hugging Face Transformers\n",
        "set_seed(SEED)\n",
        "\n",
        "print(\"Random seeds set for reproducibility.\")\n"
      ]
    },
    {
      "cell_type": "markdown",
      "metadata": {
        "id": "-w5D4JmBQPQw"
      },
      "source": [
        "Clone DNABERT6 Repository"
      ]
    },
    {
      "cell_type": "code",
      "execution_count": 3,
      "metadata": {
        "id": "2RLP3njkMlzK",
        "colab": {
          "base_uri": "https://localhost:8080/"
        },
        "outputId": "d3e4b372-d8b5-40ed-bb63-e1841e13df38"
      },
      "outputs": [
        {
          "output_type": "stream",
          "name": "stdout",
          "text": [
            "Requirement already satisfied: torch in /usr/local/lib/python3.10/dist-packages (2.5.1+cu121)\n",
            "Requirement already satisfied: torchvision in /usr/local/lib/python3.10/dist-packages (0.20.1+cu121)\n",
            "Requirement already satisfied: transformers in /usr/local/lib/python3.10/dist-packages (4.47.1)\n",
            "Requirement already satisfied: datasets in /usr/local/lib/python3.10/dist-packages (3.2.0)\n",
            "Requirement already satisfied: gdown in /usr/local/lib/python3.10/dist-packages (5.2.0)\n",
            "Requirement already satisfied: filelock in /usr/local/lib/python3.10/dist-packages (from torch) (3.16.1)\n",
            "Requirement already satisfied: typing-extensions>=4.8.0 in /usr/local/lib/python3.10/dist-packages (from torch) (4.12.2)\n",
            "Requirement already satisfied: networkx in /usr/local/lib/python3.10/dist-packages (from torch) (3.4.2)\n",
            "Requirement already satisfied: jinja2 in /usr/local/lib/python3.10/dist-packages (from torch) (3.1.5)\n",
            "Requirement already satisfied: fsspec in /usr/local/lib/python3.10/dist-packages (from torch) (2024.9.0)\n",
            "Requirement already satisfied: sympy==1.13.1 in /usr/local/lib/python3.10/dist-packages (from torch) (1.13.1)\n",
            "Requirement already satisfied: mpmath<1.4,>=1.1.0 in /usr/local/lib/python3.10/dist-packages (from sympy==1.13.1->torch) (1.3.0)\n",
            "Requirement already satisfied: numpy in /usr/local/lib/python3.10/dist-packages (from torchvision) (1.26.4)\n",
            "Requirement already satisfied: pillow!=8.3.*,>=5.3.0 in /usr/local/lib/python3.10/dist-packages (from torchvision) (11.1.0)\n",
            "Requirement already satisfied: huggingface-hub<1.0,>=0.24.0 in /usr/local/lib/python3.10/dist-packages (from transformers) (0.27.1)\n",
            "Requirement already satisfied: packaging>=20.0 in /usr/local/lib/python3.10/dist-packages (from transformers) (24.2)\n",
            "Requirement already satisfied: pyyaml>=5.1 in /usr/local/lib/python3.10/dist-packages (from transformers) (6.0.2)\n",
            "Requirement already satisfied: regex!=2019.12.17 in /usr/local/lib/python3.10/dist-packages (from transformers) (2024.11.6)\n",
            "Requirement already satisfied: requests in /usr/local/lib/python3.10/dist-packages (from transformers) (2.32.3)\n",
            "Requirement already satisfied: tokenizers<0.22,>=0.21 in /usr/local/lib/python3.10/dist-packages (from transformers) (0.21.0)\n",
            "Requirement already satisfied: safetensors>=0.4.1 in /usr/local/lib/python3.10/dist-packages (from transformers) (0.5.0)\n",
            "Requirement already satisfied: tqdm>=4.27 in /usr/local/lib/python3.10/dist-packages (from transformers) (4.67.1)\n",
            "Requirement already satisfied: pyarrow>=15.0.0 in /usr/local/lib/python3.10/dist-packages (from datasets) (17.0.0)\n",
            "Requirement already satisfied: dill<0.3.9,>=0.3.0 in /usr/local/lib/python3.10/dist-packages (from datasets) (0.3.8)\n",
            "Requirement already satisfied: pandas in /usr/local/lib/python3.10/dist-packages (from datasets) (2.2.2)\n",
            "Requirement already satisfied: xxhash in /usr/local/lib/python3.10/dist-packages (from datasets) (3.5.0)\n",
            "Requirement already satisfied: multiprocess<0.70.17 in /usr/local/lib/python3.10/dist-packages (from datasets) (0.70.16)\n",
            "Requirement already satisfied: aiohttp in /usr/local/lib/python3.10/dist-packages (from datasets) (3.11.11)\n",
            "Requirement already satisfied: beautifulsoup4 in /usr/local/lib/python3.10/dist-packages (from gdown) (4.12.3)\n",
            "Requirement already satisfied: aiohappyeyeballs>=2.3.0 in /usr/local/lib/python3.10/dist-packages (from aiohttp->datasets) (2.4.4)\n",
            "Requirement already satisfied: aiosignal>=1.1.2 in /usr/local/lib/python3.10/dist-packages (from aiohttp->datasets) (1.3.2)\n",
            "Requirement already satisfied: async-timeout<6.0,>=4.0 in /usr/local/lib/python3.10/dist-packages (from aiohttp->datasets) (4.0.3)\n",
            "Requirement already satisfied: attrs>=17.3.0 in /usr/local/lib/python3.10/dist-packages (from aiohttp->datasets) (24.3.0)\n",
            "Requirement already satisfied: frozenlist>=1.1.1 in /usr/local/lib/python3.10/dist-packages (from aiohttp->datasets) (1.5.0)\n",
            "Requirement already satisfied: multidict<7.0,>=4.5 in /usr/local/lib/python3.10/dist-packages (from aiohttp->datasets) (6.1.0)\n",
            "Requirement already satisfied: propcache>=0.2.0 in /usr/local/lib/python3.10/dist-packages (from aiohttp->datasets) (0.2.1)\n",
            "Requirement already satisfied: yarl<2.0,>=1.17.0 in /usr/local/lib/python3.10/dist-packages (from aiohttp->datasets) (1.18.3)\n",
            "Requirement already satisfied: charset-normalizer<4,>=2 in /usr/local/lib/python3.10/dist-packages (from requests->transformers) (3.4.1)\n",
            "Requirement already satisfied: idna<4,>=2.5 in /usr/local/lib/python3.10/dist-packages (from requests->transformers) (3.10)\n",
            "Requirement already satisfied: urllib3<3,>=1.21.1 in /usr/local/lib/python3.10/dist-packages (from requests->transformers) (2.3.0)\n",
            "Requirement already satisfied: certifi>=2017.4.17 in /usr/local/lib/python3.10/dist-packages (from requests->transformers) (2024.12.14)\n",
            "Requirement already satisfied: soupsieve>1.2 in /usr/local/lib/python3.10/dist-packages (from beautifulsoup4->gdown) (2.6)\n",
            "Requirement already satisfied: MarkupSafe>=2.0 in /usr/local/lib/python3.10/dist-packages (from jinja2->torch) (3.0.2)\n",
            "Requirement already satisfied: python-dateutil>=2.8.2 in /usr/local/lib/python3.10/dist-packages (from pandas->datasets) (2.8.2)\n",
            "Requirement already satisfied: pytz>=2020.1 in /usr/local/lib/python3.10/dist-packages (from pandas->datasets) (2024.2)\n",
            "Requirement already satisfied: tzdata>=2022.7 in /usr/local/lib/python3.10/dist-packages (from pandas->datasets) (2024.2)\n",
            "Requirement already satisfied: PySocks!=1.5.7,>=1.5.6 in /usr/local/lib/python3.10/dist-packages (from requests[socks]->gdown) (1.7.1)\n",
            "Requirement already satisfied: six>=1.5 in /usr/local/lib/python3.10/dist-packages (from python-dateutil>=2.8.2->pandas->datasets) (1.17.0)\n",
            "Cloning into 'DNABERT'...\n",
            "remote: Enumerating objects: 778, done.\u001b[K\n",
            "remote: Counting objects: 100% (778/778), done.\u001b[K\n",
            "remote: Compressing objects: 100% (348/348), done.\u001b[K\n",
            "remote: Total 778 (delta 420), reused 721 (delta 407), pack-reused 0 (from 0)\u001b[K\n",
            "Receiving objects: 100% (778/778), 11.66 MiB | 13.15 MiB/s, done.\n",
            "Resolving deltas: 100% (420/420), done.\n"
          ]
        }
      ],
      "source": [
        "# Install necessary libraries\n",
        "!pip install torch torchvision transformers datasets gdown\n",
        "\n",
        "# Clone the DNA-BERT repository\n",
        "!git clone https://github.com/jerryji1993/DNABERT.git\n"
      ]
    },
    {
      "cell_type": "markdown",
      "metadata": {
        "id": "LB1zwrmyBtxF"
      },
      "source": [
        "NB!!! upload zip file (6-new-12w-0.zip) before continuing else code won't run\n",
        "\n",
        "\n"
      ]
    },
    {
      "cell_type": "code",
      "execution_count": 4,
      "metadata": {
        "id": "iIdMsQJ6PfZ9",
        "colab": {
          "base_uri": "https://localhost:8080/"
        },
        "outputId": "b1e3790d-e2d0-49b9-a1ee-e781b79979c6"
      },
      "outputs": [
        {
          "output_type": "stream",
          "name": "stdout",
          "text": [
            "Extracted DNA-BERT files to: /content/DNABERT/pretrained/dna6\n"
          ]
        }
      ],
      "source": [
        "# Path to the uploaded zip file\n",
        "uploaded_zip_path = '/content/6-new-12w-0.zip'\n",
        "\n",
        "# Define the directory for extraction\n",
        "PRETRAINED_DIR = \"/content/DNABERT/pretrained/dna6\"\n",
        "os.makedirs(PRETRAINED_DIR, exist_ok=True)  # Attempt to create the directory\n",
        "\n",
        "# Extract the zip file\n",
        "try:\n",
        "    with zipfile.ZipFile(uploaded_zip_path, 'r') as zip_ref:\n",
        "        zip_ref.extractall(PRETRAINED_DIR)\n",
        "    print(f\"Extracted DNA-BERT files to: {PRETRAINED_DIR}\")\n",
        "except PermissionError as e:\n",
        "    print(f\"Permission denied: {e}. Check your permissions for '/content'.\")\n",
        "except Exception as e:\n",
        "    print(f\"An error occurred: {e}\")\n"
      ]
    },
    {
      "cell_type": "markdown",
      "metadata": {
        "id": "DWywCP2OQY-E"
      },
      "source": [
        "Clone Seminar Repository"
      ]
    },
    {
      "cell_type": "code",
      "execution_count": 5,
      "metadata": {
        "id": "bMjGj5fYQm48",
        "colab": {
          "base_uri": "https://localhost:8080/"
        },
        "outputId": "bb33b859-1570-47a5-a769-559a67856f95"
      },
      "outputs": [
        {
          "output_type": "stream",
          "name": "stdout",
          "text": [
            "Directory seminar-dlmb-2024-winter-public does not exist or is empty.\n"
          ]
        }
      ],
      "source": [
        "directory = \"seminar-dlmb-2024-winter-public\"\n",
        "\n",
        "if os.path.exists(directory) and os.listdir(directory):\n",
        "    print(f\"Directory {directory} exists and is non-empty.\")\n",
        "else:\n",
        "    print(f\"Directory {directory} does not exist or is empty.\")\n",
        "    !!git clone https://github.com/hzi-bifo/seminar-dlmb-2024-winter-public.git"
      ]
    },
    {
      "cell_type": "code",
      "execution_count": 6,
      "metadata": {
        "id": "EGOUMAfBQ0TB",
        "colab": {
          "base_uri": "https://localhost:8080/"
        },
        "outputId": "b80a1061-3537-4b6a-8cb8-b8d356858038"
      },
      "outputs": [
        {
          "output_type": "stream",
          "name": "stdout",
          "text": [
            "GPU: NVIDIA A100-SXM4-40GB is available.\n"
          ]
        }
      ],
      "source": [
        "# Define the working device\n",
        "device = torch.device(\"cuda\")\n",
        "\n",
        "if torch.cuda.is_available():\n",
        "    print(f\"GPU: {torch.cuda.get_device_name(0)} is available.\")\n",
        "else:\n",
        "    print(\"No GPU available. Training will run on CPU.\")"
      ]
    },
    {
      "cell_type": "markdown",
      "metadata": {
        "id": "4czZS3R0Q1nI"
      },
      "source": [
        "Create Datasets"
      ]
    },
    {
      "cell_type": "code",
      "execution_count": 7,
      "metadata": {
        "id": "zmNv5yJGQ3bQ",
        "colab": {
          "base_uri": "https://localhost:8080/"
        },
        "outputId": "e3e28408-9d7e-4d07-c2b3-0582403fa278"
      },
      "outputs": [
        {
          "output_type": "stream",
          "name": "stdout",
          "text": [
            "Test Data: [0, 1, 1, 1, 1, 0, 0, 1, 1, 0, 1, 0, 0, 0]\n"
          ]
        }
      ],
      "source": [
        "# Paths\n",
        "base_path = \"seminar-dlmb-2024-winter-public/\"\n",
        "data_path = \"seminar-dlmb-2024-winter-public/data/ds1\"\n",
        "\n",
        "sys.path.append('seminar-dlmb-2024-winter-public/src/')\n",
        "from amr.amr_utility import load_gene_data, create_gene_datasets\n",
        "\n",
        "# Create datasets\n",
        "create_gene_datasets(base_path, data_path)\n",
        "\n",
        "# Load dataset\n",
        "ds = load_gene_data(data_path, \"Staphylococcus_aureus_cefoxitin\", \"pbp4\")\n",
        "\n",
        "sequences_train = [x[1] for x in ds[\"train\"]]\n",
        "labels_train = [x[2] for x in ds[\"train\"]]\n",
        "\n",
        "sequences_test = [x[1] for x in ds[\"test\"]]\n",
        "labels_test = [x[2] for x in ds[\"test\"]]\n",
        "\n",
        "sequences = sequences_train + sequences_test\n",
        "labels = labels_train + labels_test\n",
        "\n",
        "# Separate data by classes\n",
        "class_0 = [(seq, label) for seq, label in zip(sequences, labels) if label == 0]\n",
        "class_1 = [(seq, label) for seq, label in zip(sequences, labels) if label == 1]\n",
        "\n",
        "random.shuffle(class_0)\n",
        "random.shuffle(class_1)\n",
        "\n",
        "test_data = class_0[:7] + class_1[:7]\n",
        "leftover_class_0 = class_0[7:]\n",
        "leftover_class_1 = class_1[7:]\n",
        "\n",
        "val_data = leftover_class_0[:7] + leftover_class_1[:7]\n",
        "leftover_class_0 = leftover_class_0[7:]\n",
        "leftover_class_1 = leftover_class_1[7:]\n",
        "\n",
        "train_data = leftover_class_0 + leftover_class_1\n",
        "\n",
        "random.shuffle(train_data)\n",
        "random.shuffle(val_data)\n",
        "random.shuffle(test_data)\n",
        "\n",
        "# Split train, val, and test data into sequences and labels\n",
        "sequences_train = [seq for seq, label in train_data]\n",
        "labels_train = [label for seq, label in train_data]\n",
        "\n",
        "sequences_val = [seq for seq, label in val_data]\n",
        "labels_val = [label for seq, label in val_data]\n",
        "\n",
        "sequences_test = [seq for seq, label in test_data]\n",
        "labels_test = [label for seq, label in test_data]\n",
        "\n",
        "\n",
        "print(\"Test Data:\", labels_test)\n"
      ]
    },
    {
      "cell_type": "code",
      "execution_count": 8,
      "metadata": {
        "id": "NvOwLC4blXPI",
        "colab": {
          "base_uri": "https://localhost:8080/"
        },
        "outputId": "8dd89d04-dc10-4bb2-b5ff-655555c8ad38"
      },
      "outputs": [
        {
          "output_type": "stream",
          "name": "stdout",
          "text": [
            "/content/DNABERT/pretrained\n",
            "total 4\n",
            "drwxr-xr-x 3 root root 4096 Jan  9 05:55 dna6\n",
            "total 350828\n",
            "-rw-r--r-- 1 root root      1110 Jan  9 05:55 config.json\n",
            "-rw-r--r-- 1 root root 359199902 Jan  9 05:55 pytorch_model.bin\n",
            "-rw-r--r-- 1 root root       112 Jan  9 05:55 special_tokens_map.json\n",
            "-rw-r--r-- 1 root root        40 Jan  9 05:55 tokenizer_config.json\n",
            "-rw-r--r-- 1 root root     28703 Jan  9 05:55 vocab.txt\n"
          ]
        }
      ],
      "source": [
        "%cd /content/DNABERT/pretrained/\n",
        "\n",
        "!ls -l /content/DNABERT/pretrained/\n",
        "\n",
        "!mv /content/DNABERT/pretrained/dna6/6-new-12w-0/* /content/DNABERT/pretrained/dna6/\n",
        "\n",
        "!rm -rf /content/DNABERT/pretrained/dna6/6-new-12w-0\n",
        "\n",
        "!ls -l /content/DNABERT/pretrained/dna6"
      ]
    },
    {
      "cell_type": "code",
      "execution_count": 9,
      "metadata": {
        "id": "ATzFDB3ek-Mz"
      },
      "outputs": [],
      "source": [
        "from itertools import product\n",
        "\n",
        "class SEQTokenizer_Kmers:\n",
        "    \"\"\"Custom tokenizer for DNA sequences with k-mers.\"\"\"\n",
        "\n",
        "    def __init__(self, k):\n",
        "        \"\"\"\n",
        "        Initialize the tokenizer.\n",
        "\n",
        "        Args:\n",
        "            k (int): Length of each k-mer.\n",
        "        \"\"\"\n",
        "        self.k = k\n",
        "\n",
        "        # Create vocabulary of all possible k-mers\n",
        "        self.vocab = [''.join(kmer) for kmer in product('ATCG', repeat=k)]\n",
        "        self.token_to_id = {token: i for i, token in enumerate(self.vocab)}\n",
        "\n",
        "    def encode(self, sequence):\n",
        "        \"\"\"\n",
        "        Tokenize and encode a DNA sequence into k-mers.\n",
        "\n",
        "        Args:\n",
        "            sequence (str): DNA sequence to encode.\n",
        "\n",
        "        Returns:\n",
        "            list: A list of token IDs for the k-mers.\n",
        "        \"\"\"\n",
        "        if len(sequence) < self.k:\n",
        "            raise ValueError(f\"Sequence length must be at least {self.k} to generate k-mers.\")\n",
        "\n",
        "        # Generate k-mers from the sequence\n",
        "        kmers = [sequence[i:i+self.k] for i in range(len(sequence) - self.k + 1)]\n",
        "\n",
        "        # Map k-mers to their token IDs\n",
        "        return [self.token_to_id[kmer] for kmer in kmers if kmer in self.token_to_id]\n",
        "tokenizer = SEQTokenizer_Kmers(k=6)\n",
        "\n",
        "# Tokenize the datasets using the encode method\n",
        "train_tokenized = [tokenizer.encode(seq) for seq in sequences_train]\n",
        "test_tokenized = [tokenizer.encode(seq) for seq in sequences_test]\n",
        "val_tokenized = [tokenizer.encode(seq) for seq in sequences_val]\n",
        "\n"
      ]
    },
    {
      "cell_type": "code",
      "source": [
        "class SequenceProcessor:\n",
        "    \"\"\"Processes encoded sequences by adding padding or splitting into chunks.\"\"\"\n",
        "\n",
        "    def __init__(self, max_length=512, padding_value=0):\n",
        "        \"\"\"\n",
        "        Initialize the processor.\n",
        "\n",
        "        Args:\n",
        "            max_length (int): Maximum length for a sequence or chunk.\n",
        "            padding_value (int): Value to use for padding shorter sequences.\n",
        "        \"\"\"\n",
        "        self.max_length = max_length\n",
        "        self.padding_value = padding_value\n",
        "\n",
        "    def process(self, encoded_sequence):\n",
        "        \"\"\"\n",
        "        Process an encoded sequence by adding padding or splitting.\n",
        "\n",
        "        Args:\n",
        "            encoded_sequence (list): Encoded sequence of token IDs.\n",
        "\n",
        "        Returns:\n",
        "            list: A list of processed sequences (each of length max_length).\n",
        "        \"\"\"\n",
        "        if len(encoded_sequence) <= self.max_length:\n",
        "            # Add padding if sequence is shorter than max_length\n",
        "            return [self._add_padding(encoded_sequence)]\n",
        "        else:\n",
        "            # Split into chunks if sequence is longer than max_length\n",
        "            return self._split_into_chunks(encoded_sequence)\n",
        "\n",
        "    def _add_padding(self, sequence):\n",
        "        \"\"\"\n",
        "        Add padding to a sequence to make it max_length.\n",
        "\n",
        "        Args:\n",
        "            sequence (list): Encoded sequence of token IDs.\n",
        "\n",
        "        Returns:\n",
        "            list: Padded sequence of length max_length.\n",
        "        \"\"\"\n",
        "        return sequence + [self.padding_value] * (self.max_length - len(sequence))\n",
        "\n",
        "    def _split_into_chunks(self, sequence):\n",
        "        \"\"\"\n",
        "        Split a long sequence into overlapping chunks of max_length.\n",
        "\n",
        "        Args:\n",
        "            sequence (list): Encoded sequence of token IDs.\n",
        "\n",
        "        Returns:\n",
        "            list: A list of chunks (each of length max_length).\n",
        "        \"\"\"\n",
        "        step = self.max_length // 2  # 50% overlap\n",
        "        return [\n",
        "            sequence[i:i + self.max_length]\n",
        "            for i in range(0, len(sequence), step)\n",
        "            if len(sequence[i:i + self.max_length]) == self.max_length\n",
        "        ]\n",
        "\n",
        "processor = SequenceProcessor(max_length=512, padding_value=-1)\n"
      ],
      "metadata": {
        "id": "AZITUpy_OMJy"
      },
      "execution_count": 10,
      "outputs": []
    },
    {
      "cell_type": "code",
      "source": [
        "import pandas as pd\n",
        "\n",
        "class SequenceDataset:\n",
        "    \"\"\"Creates a dataset with sequence IDs, sequences, encoded sequences, processed sequences, and class labels.\"\"\"\n",
        "\n",
        "    def __init__(self, sequences, labels, tokenizer, processor):\n",
        "        \"\"\"\n",
        "        Initialize the dataset.\n",
        "\n",
        "        Args:\n",
        "            sequences (list): List of DNA sequences.\n",
        "            labels (list): List of class labels corresponding to the sequences.\n",
        "            tokenizer (SEQTokenizer_Kmers): Tokenizer to encode sequences.\n",
        "            processor (SequenceProcessor): Processor to pad or split sequences.\n",
        "        \"\"\"\n",
        "        if len(sequences) != len(labels):\n",
        "            raise ValueError(\"The number of sequences and labels must match.\")\n",
        "\n",
        "        self.sequences = sequences\n",
        "        self.labels = labels\n",
        "        self.tokenizer = tokenizer\n",
        "        self.processor = processor\n",
        "\n",
        "    def create_dataset(self):\n",
        "        \"\"\"\n",
        "        Create the dataset.\n",
        "\n",
        "        Returns:\n",
        "            pd.DataFrame: A dataset containing sequence ID, sequence, encoded sequence,\n",
        "                          processed sequence, and class label.\n",
        "        \"\"\"\n",
        "        dataset = []\n",
        "        for seq_id, (sequence, label) in enumerate(zip(self.sequences, self.labels)):\n",
        "            # Tokenize and encode the sequence\n",
        "            encoded_sequence = self.tokenizer.encode(sequence)\n",
        "\n",
        "            # Process the encoded sequence\n",
        "            processed_sequence = self.processor.process(encoded_sequence)\n",
        "\n",
        "            # Add each chunk to the dataset with the same sequence ID and class\n",
        "            for chunk in processed_sequence:\n",
        "                dataset.append({\n",
        "                    \"sequence_id\": seq_id,\n",
        "                    \"sequence\": sequence,\n",
        "                    \"encoded_sequence\": encoded_sequence,\n",
        "                    \"processed_sequence\": chunk,\n",
        "                    \"class\": label\n",
        "                })\n",
        "\n",
        "        return pd.DataFrame(dataset)\n",
        "\n",
        "# Create the dataset\n",
        "create_test= SequenceDataset(sequences_test, labels_test, tokenizer, processor)\n",
        "processed_test = create_test.create_dataset()\n",
        "\n",
        "create_train= SequenceDataset(sequences_train, labels_train, tokenizer, processor)\n",
        "processed_train = create_train.create_dataset()\n",
        "\n",
        "create_val= SequenceDataset(sequences_val, labels_val, tokenizer, processor)\n",
        "processed_val = create_val.create_dataset()\n",
        "\n",
        "# Print the class column\n",
        "print(\"\\nClass Column:\")\n",
        "print(processed_test[\"sequence_id\"])"
      ],
      "metadata": {
        "id": "vu_8RX97Rq45",
        "colab": {
          "base_uri": "https://localhost:8080/"
        },
        "outputId": "7ca68ee0-ff6e-4a22-d818-f8ee44a92d85"
      },
      "execution_count": 11,
      "outputs": [
        {
          "output_type": "stream",
          "name": "stdout",
          "text": [
            "\n",
            "Class Column:\n",
            "0      0\n",
            "1      0\n",
            "2      0\n",
            "3      0\n",
            "4      1\n",
            "5      1\n",
            "6      1\n",
            "7      1\n",
            "8      2\n",
            "9      2\n",
            "10     2\n",
            "11     2\n",
            "12     3\n",
            "13     3\n",
            "14     3\n",
            "15     3\n",
            "16     4\n",
            "17     4\n",
            "18     4\n",
            "19     4\n",
            "20     5\n",
            "21     5\n",
            "22     5\n",
            "23     5\n",
            "24     6\n",
            "25     6\n",
            "26     6\n",
            "27     6\n",
            "28     7\n",
            "29     7\n",
            "30     7\n",
            "31     7\n",
            "32     8\n",
            "33     8\n",
            "34     8\n",
            "35     8\n",
            "36     9\n",
            "37     9\n",
            "38     9\n",
            "39     9\n",
            "40    10\n",
            "41    10\n",
            "42    10\n",
            "43    10\n",
            "44    11\n",
            "45    11\n",
            "46    11\n",
            "47    11\n",
            "48    12\n",
            "49    12\n",
            "50    12\n",
            "51    12\n",
            "52    13\n",
            "53    13\n",
            "54    13\n",
            "55    13\n",
            "Name: sequence_id, dtype: int64\n"
          ]
        }
      ]
    },
    {
      "cell_type": "code",
      "execution_count": 12,
      "metadata": {
        "id": "XGizrBCTlu4a",
        "colab": {
          "base_uri": "https://localhost:8080/"
        },
        "outputId": "1aa04fb0-435e-4d8f-c6ed-4af2a17efafd"
      },
      "outputs": [
        {
          "output_type": "stream",
          "name": "stdout",
          "text": [
            "{'input_ids': [1792, 3072, 1, 5, 21, 84, 336, 1345, 1284, 1041, 70, 281, 1124, 401, 1605, 2324, 1105, 326, 1304, 1121, 390, 1560, 2145, 389, 1557, 2133, 340, 1361, 1351, 1309, 1141, 469, 1876, 3408, 1346, 1288, 1057, 133, 532, 2128, 323, 1293, 1076, 209, 837, 3348, 1105, 327, 1308, 1138, 456, 1826, 3210, 552, 2209, 644, 2577, 2119, 286, 1144, 482, 1928, 3616, 2179, 526, 2105, 231, 926, 3705, 2532, 1936, 3650, 2312, 1059, 141, 567, 2268, 882, 3531, 1837, 3252, 720, 2882, 3338, 1066, 170, 681, 2727, 2717, 2676, 2514, 1864, 3360, 1155, 526, 2104, 227, 910, 3640, 2272, 896, 3585, 2054, 24, 96, 385, 1540, 2065, 71, 287, 1149, 501, 2004, 3921, 3399, 1310, 1144, 483, 1935, 3645, 2293, 981, 3927, 3421, 1398, 1499, 1903, 3518, 1785, 3047, 3998, 3704, 2529, 1924, 3602, 2123, 300, 1200, 706, 2826, 3115, 172, 690, 2763, 2860, 3251, 717, 2871, 3294, 889, 3559, 1949, 3701, 2516, 1872, 3393, 1287, 1053, 117, 468, 1875, 3405, 1334, 1240, 864, 3456, 1538, 2057, 39, 159, 636, 2546, 1992, 3872, 3201, 517, 2068, 82, 329, 1319, 1181, 628, 2513, 1862, 3352, 1120, 385, 1540, 2066, 72, 288, 1153, 516, 2065, 70, 283, 1132, 433, 1732, 2834, 3145, 292, 1168, 579, 2317, 1079, 223, 892, 3568, 1985, 3846, 3098, 104, 419, 1678, 2619, 2285, 950, 3801, 2916, 3473, 1607, 2332, 1138, 457, 1828, 3216, 576, 2305, 1029, 20, 80, 321, 1287, 1052, 114, 456, 1824, 3201, 519, 2077, 116, 466, 1865, 3365, 1172, 592, 2370, 1288, 1057, 133, 535, 2143, 380, 1520, 1987, 3854, 3129, 231, 925, 3700, 2512, 1856, 3329, 1028, 16, 67, 271, 1087, 255, 1022, 4088, 4067, 3982, 3641, 2277, 917, 3670, 2392, 1378, 1417, 1573, 2199, 604, 2417, 1479, 1820, 3186, 456, 1826, 3208, 547, 2189, 566, 2264, 866, 3464, 1568, 2177, 519, 2076, 114, 459, 1836, 3248, 706, 2824, 3104, 128, 515, 2060, 48, 193, 772, 3089, 68, 273, 1093, 276, 1105, 327, 1309, 1142, 473, 1892, 3474, 1608, 2338, 1161, 548, 2194, 586, 2345, 1191, 668, 2675, 2509, 1845, 3287, 860, 3443, 1485, 1844, 3280, 833, 3332, 1042, 75, 300, 1200, 704, 2818, 3081, 36, 145, 580, 2321, 1094, 282, 1129, 423, 1695, 2684, 2546, 1992, 3872, 3203, 525, 2100, 209, 839, 3359, 1148, 498, 1992, 3872, 3201, 518, 2075, 110, 440, 1763, 2956, 3634, 2250, 809, 3236, 657, 2629, 2324, 1106, 328, 1312, 1152, 513, 2053, 20, 82, 328, 1315, 1165, 564, 2257, 838, 3353, 1124, 400, 1601, 2309, 1046, 89, 356, 1427, 1613, 2356, 1232, 833, 3335, 1054, 122, 491, 1966, 3771, 2799, 3006, 3832, 3041, 3973, 3604, 2128, 321, 1285, 1045, 85, 340, 1363, 1358, 1337, 1252, 912, 3651, 2316, 1072, 195, 783, 3133, 244, 977, 3910, 3352, 1120, 384, 1536, 2048, 0, 2, 8, 34, 138, 552, 2211, 654, 2619, 2284, 945, 3781, 2837, 3158, 347, 1389, 1461, 1751, 2908, 3441, 1477, 1813, 3156, 336, 1345, 1287, 1052, 112, 449, 1796, 3088, 66, 264, 1056, 128, 515, 2062, 57, 228, 912, 3648, 2307, 1038, 57, 228, 913, 3654, 2331, 1135, 444, 1776, 3009, 3847, 3100, 112, 448, 1792, 3072], 'labels': 1}\n"
          ]
        }
      ],
      "source": [
        "# Tokenize the datasets using the encode method\n",
        "#train_tokenized = processed_train[\"processed_sequence\"]\n",
        "#test_tokenized = processed_test[\"processed_sequence\"]\n",
        "#val_tokenized = processed_val[\"processed_sequence\"]\n",
        "\n",
        "# Convert the tokenized data into Hugging Face Dataset objects\n",
        "train_dataset = Dataset.from_dict({\"input_ids\": processed_train[\"processed_sequence\"]})\n",
        "test_dataset = Dataset.from_dict({\"input_ids\": processed_test[\"processed_sequence\"]})\n",
        "val_dataset = Dataset.from_dict({\"input_ids\": processed_val[\"processed_sequence\"]})\n",
        "\n",
        "# Add the labels to each dataset\n",
        "train_dataset = train_dataset.add_column(\"labels\", processed_train[\"class\"])\n",
        "test_dataset = test_dataset.add_column(\"labels\", processed_test[\"class\"])\n",
        "val_dataset = val_dataset.add_column(\"labels\", processed_val[\"class\"])\n",
        "\n",
        "# Print the first training example\n",
        "print(train_dataset[0])"
      ]
    },
    {
      "cell_type": "code",
      "execution_count": 13,
      "metadata": {
        "id": "_PF3-BTwumzB",
        "colab": {
          "base_uri": "https://localhost:8080/"
        },
        "outputId": "0f379cee-114c-4a4a-c159-bd207191b01d"
      },
      "outputs": [
        {
          "output_type": "stream",
          "name": "stdout",
          "text": [
            "[1296, 1296, 1296, 1296, 1296, 1296, 1296, 1296, 1296, 1296, 1296, 1296, 1296, 1296, 1296, 1296, 1296, 1296, 1296, 1296, 1296, 1296, 1296, 1296, 1296, 1296, 1296, 1296, 1296, 1296, 1296, 1296, 1296, 1296, 1296, 1296, 1296, 1296, 1296, 1296, 1296, 1296, 1296, 1296, 1296, 1296, 1296, 1296, 1296, 1296, 1296, 1296, 1296, 1296, 1296, 1296, 1296, 1296, 1296, 1296, 1296, 1296, 1296, 1296, 1296, 1296, 1296, 1296, 1296, 1296, 1296, 1296, 1296, 1296, 1296, 1296, 1296, 1296, 1296, 1296, 1296, 1296, 1296, 1296, 1296, 1296, 1296, 1296, 1296, 1296, 1296, 1296, 1296, 1296, 1296, 1296, 1296, 1296, 1296, 1296, 1296, 1296, 1296, 1296, 1296, 1296, 1296, 1296, 1296, 1296, 1296, 1296, 1296, 1296, 1296, 1296, 1296, 1296, 1296, 1296, 1296, 1296, 1296, 1296, 1296, 1296, 1296, 1296, 1296, 1296, 1296, 1296, 1296, 1296, 1296, 1296, 1296, 1296, 1296, 1296, 1296, 1296, 1296, 1296, 1296, 1296, 1296, 1296, 1296, 1296]\n"
          ]
        }
      ],
      "source": [
        "# Print the sequence lenghts of all available sequences\n",
        "all_sequences = sequences_train + sequences_test + sequences_val\n",
        "\n",
        "seq_lengths = [len(seq) for seq in all_sequences]\n",
        "print(seq_lengths)"
      ]
    },
    {
      "cell_type": "code",
      "execution_count": 14,
      "metadata": {
        "id": "pFKeCpWvXPiT",
        "colab": {
          "base_uri": "https://localhost:8080/"
        },
        "outputId": "497542f0-8576-48e8-f91e-b2b0a38d7816"
      },
      "outputs": [
        {
          "output_type": "stream",
          "name": "stdout",
          "text": [
            "Class Weights: tensor([2.3462, 0.6354])\n"
          ]
        }
      ],
      "source": [
        "# Get labels from the training dataset\n",
        "labels = train_dataset[\"labels\"]\n",
        "\n",
        "# Compute class weights so classes seem balanced\n",
        "class_weights = compute_class_weight(\n",
        "    class_weight=\"balanced\",\n",
        "    classes=np.unique(labels),\n",
        "    y=labels\n",
        ")\n",
        "\n",
        "# Convert to PyTorch tensor\n",
        "class_weights_tensor = torch.tensor(class_weights, dtype=torch.float)\n",
        "print(\"Class Weights:\", class_weights_tensor)"
      ]
    },
    {
      "cell_type": "code",
      "execution_count": 31,
      "metadata": {
        "id": "8fGg8kfKW18i",
        "colab": {
          "base_uri": "https://localhost:8080/"
        },
        "outputId": "c1e0fec7-68a4-4bbd-96c5-ee0eb6789e9a"
      },
      "outputs": [
        {
          "output_type": "stream",
          "name": "stderr",
          "text": [
            "Some weights of BertForSequenceClassification were not initialized from the model checkpoint at /content/DNABERT/pretrained/dna6 and are newly initialized: ['classifier.bias', 'classifier.weight']\n",
            "You should probably TRAIN this model on a down-stream task to be able to use it for predictions and inference.\n"
          ]
        }
      ],
      "source": [
        "import torch\n",
        "import random\n",
        "import numpy as np\n",
        "from transformers import BertForSequenceClassification\n",
        "\n",
        "# Set seeds for reproducibility\n",
        "def set_seed(seed):\n",
        "    torch.manual_seed(seed)\n",
        "    torch.cuda.manual_seed_all(seed)\n",
        "    np.random.seed(seed)\n",
        "    random.seed(seed)\n",
        "    torch.backends.cudnn.deterministic = True\n",
        "    torch.backends.cudnn.benchmark = False\n",
        "\n",
        "class WeightedModel(torch.nn.Module):\n",
        "    def __init__(self, model_name, class_weights, seed=42):\n",
        "        super().__init__()\n",
        "        set_seed(seed)  # Ensure seed is set before initializing model weights\n",
        "        self.model = BertForSequenceClassification.from_pretrained(\n",
        "            model_name, num_labels=len(class_weights)\n",
        "        )\n",
        "        self.loss_fn = torch.nn.CrossEntropyLoss(weight=class_weights)\n",
        "\n",
        "    def forward(self, input_ids, attention_mask, labels=None):\n",
        "        outputs = self.model(input_ids=input_ids, attention_mask=attention_mask)\n",
        "        logits = outputs.logits\n",
        "\n",
        "        if labels is not None:\n",
        "            loss = self.loss_fn(logits, labels)\n",
        "            return {\"loss\": loss, \"logits\": logits}\n",
        "        else:\n",
        "            return {\"logits\": logits}\n",
        "\n",
        "set_seed(SEED)  # Set the seed before any model initialization\n",
        "model = WeightedModel(\"/content/DNABERT/pretrained/dna6\", class_weights_tensor, seed=SEED)\n"
      ]
    },
    {
      "cell_type": "code",
      "execution_count": 32,
      "metadata": {
        "id": "yUi378jjmVc5",
        "colab": {
          "base_uri": "https://localhost:8080/"
        },
        "outputId": "4ec4f5bf-5c94-48e6-b5ac-a2aadea7ad0f"
      },
      "outputs": [
        {
          "output_type": "stream",
          "name": "stdout",
          "text": [
            "Vocabulary file created at: /content/DNABERT/pretrained/dna6/vocab.txt\n"
          ]
        }
      ],
      "source": [
        "def create_kmer_vocab(k):\n",
        "    # Generate all possible k-mers using the alphabet \"A\", \"T\", \"C\", \"G\"\n",
        "    alphabet = \"ATCG\"\n",
        "    kmers = [''.join(p) for p in product(alphabet, repeat=k)]\n",
        "    return kmers\n",
        "\n",
        "# Set k-mer size\n",
        "k = 6\n",
        "\n",
        "# Generate vocabulary\n",
        "vocab = create_kmer_vocab(k)\n",
        "\n",
        "# Save the vocabulary to a file\n",
        "vocab_file_path = \"/content/DNABERT/pretrained/dna6/vocab.txt\"\n",
        "with open(vocab_file_path, \"w\") as f:\n",
        "    f.write(\"\\n\".join(vocab))\n",
        "\n",
        "print(f\"Vocabulary file created at: {vocab_file_path}\")\n",
        "\n",
        "# Load the tokenizer with the new vocabulary file\n",
        "tokenizer = BertTokenizer.from_pretrained(\n",
        "    \"/content/DNABERT/pretrained/dna6\",\n",
        "    vocab_file=\"/content/DNABERT/pretrained/dna6/vocab.txt\"\n",
        ")"
      ]
    },
    {
      "cell_type": "code",
      "execution_count": 33,
      "metadata": {
        "id": "zynUn96ymbDc",
        "colab": {
          "base_uri": "https://localhost:8080/"
        },
        "outputId": "2e4df7ac-1d2c-4e4b-baf5-69caf292d1f9"
      },
      "outputs": [
        {
          "output_type": "stream",
          "name": "stderr",
          "text": [
            "/usr/local/lib/python3.10/dist-packages/transformers/training_args.py:1575: FutureWarning: `evaluation_strategy` is deprecated and will be removed in version 4.46 of 🤗 Transformers. Use `eval_strategy` instead\n",
            "  warnings.warn(\n",
            "Using the `WANDB_DISABLED` environment variable is deprecated and will be removed in v5. Use the --report_to flag to control the integrations used for logging result (for instance --report_to none).\n"
          ]
        }
      ],
      "source": [
        "OUTPUT_PATH = \"/content/DNABERT/output\"  # Define a permanent output directory\n",
        "\n",
        "training_args = TrainingArguments(\n",
        "    output_dir=OUTPUT_PATH,  # Save outputs to a permanent directory\n",
        "    evaluation_strategy=\"epoch\",  # Evaluate at the end of every epoch\n",
        "    logging_strategy=\"epoch\",     # Log training/validation loss every epoch\n",
        "    save_strategy=\"epoch\",        # Save checkpoints at the end of each epoch\n",
        "    save_total_limit=1,           # Keep the last checkpoint\n",
        "    per_device_train_batch_size = 32,\n",
        "    per_device_eval_batch_size = 16,\n",
        "    num_train_epochs=50,\n",
        "    learning_rate=1e-4,\n",
        "    weight_decay=0.01,\n",
        "    logging_dir=f\"{OUTPUT_PATH}/logs\",\n",
        ")\n",
        "\n",
        "os.makedirs(OUTPUT_PATH, exist_ok=True)"
      ]
    },
    {
      "cell_type": "code",
      "execution_count": 34,
      "metadata": {
        "id": "ucdIcdt3mgA5",
        "colab": {
          "base_uri": "https://localhost:8080/"
        },
        "outputId": "501abe1e-9d0a-4921-be99-46a1bba2c7d5"
      },
      "outputs": [
        {
          "output_type": "stream",
          "name": "stderr",
          "text": [
            "<ipython-input-34-373c322edf99>:2: FutureWarning: `tokenizer` is deprecated and will be removed in version 5.0.0 for `Trainer.__init__`. Use `processing_class` instead.\n",
            "  trainer = Trainer(\n"
          ]
        }
      ],
      "source": [
        "# Define Trainer\n",
        "trainer = Trainer(\n",
        "    model=model,\n",
        "    args=training_args,\n",
        "    train_dataset=train_dataset,\n",
        "    eval_dataset=val_dataset,\n",
        "    tokenizer=tokenizer,\n",
        ")"
      ]
    },
    {
      "cell_type": "code",
      "execution_count": 35,
      "metadata": {
        "id": "uxWc_e5ZmkQz",
        "colab": {
          "base_uri": "https://localhost:8080/",
          "height": 1000
        },
        "outputId": "d5888769-3d34-4aec-ca62-9fc1199822ef"
      },
      "outputs": [
        {
          "output_type": "stream",
          "name": "stdout",
          "text": [
            "Starting training...\n"
          ]
        },
        {
          "output_type": "display_data",
          "data": {
            "text/plain": [
              "<IPython.core.display.HTML object>"
            ],
            "text/html": [
              "\n",
              "    <div>\n",
              "      \n",
              "      <progress value='800' max='800' style='width:300px; height:20px; vertical-align: middle;'></progress>\n",
              "      [800/800 09:15, Epoch 50/50]\n",
              "    </div>\n",
              "    <table border=\"1\" class=\"dataframe\">\n",
              "  <thead>\n",
              " <tr style=\"text-align: left;\">\n",
              "      <th>Epoch</th>\n",
              "      <th>Training Loss</th>\n",
              "      <th>Validation Loss</th>\n",
              "    </tr>\n",
              "  </thead>\n",
              "  <tbody>\n",
              "    <tr>\n",
              "      <td>1</td>\n",
              "      <td>0.512600</td>\n",
              "      <td>0.754380</td>\n",
              "    </tr>\n",
              "    <tr>\n",
              "      <td>2</td>\n",
              "      <td>0.429300</td>\n",
              "      <td>0.735942</td>\n",
              "    </tr>\n",
              "    <tr>\n",
              "      <td>3</td>\n",
              "      <td>0.407000</td>\n",
              "      <td>0.731409</td>\n",
              "    </tr>\n",
              "    <tr>\n",
              "      <td>4</td>\n",
              "      <td>0.417200</td>\n",
              "      <td>0.674627</td>\n",
              "    </tr>\n",
              "    <tr>\n",
              "      <td>5</td>\n",
              "      <td>0.422300</td>\n",
              "      <td>0.560935</td>\n",
              "    </tr>\n",
              "    <tr>\n",
              "      <td>6</td>\n",
              "      <td>0.417400</td>\n",
              "      <td>0.752565</td>\n",
              "    </tr>\n",
              "    <tr>\n",
              "      <td>7</td>\n",
              "      <td>0.370300</td>\n",
              "      <td>0.521443</td>\n",
              "    </tr>\n",
              "    <tr>\n",
              "      <td>8</td>\n",
              "      <td>0.321200</td>\n",
              "      <td>0.741030</td>\n",
              "    </tr>\n",
              "    <tr>\n",
              "      <td>9</td>\n",
              "      <td>0.320400</td>\n",
              "      <td>0.524303</td>\n",
              "    </tr>\n",
              "    <tr>\n",
              "      <td>10</td>\n",
              "      <td>0.313600</td>\n",
              "      <td>0.502117</td>\n",
              "    </tr>\n",
              "    <tr>\n",
              "      <td>11</td>\n",
              "      <td>0.291000</td>\n",
              "      <td>0.510382</td>\n",
              "    </tr>\n",
              "    <tr>\n",
              "      <td>12</td>\n",
              "      <td>0.271500</td>\n",
              "      <td>0.549879</td>\n",
              "    </tr>\n",
              "    <tr>\n",
              "      <td>13</td>\n",
              "      <td>0.264800</td>\n",
              "      <td>0.620775</td>\n",
              "    </tr>\n",
              "    <tr>\n",
              "      <td>14</td>\n",
              "      <td>0.242000</td>\n",
              "      <td>0.529826</td>\n",
              "    </tr>\n",
              "    <tr>\n",
              "      <td>15</td>\n",
              "      <td>0.265700</td>\n",
              "      <td>0.514798</td>\n",
              "    </tr>\n",
              "    <tr>\n",
              "      <td>16</td>\n",
              "      <td>0.267600</td>\n",
              "      <td>0.578845</td>\n",
              "    </tr>\n",
              "    <tr>\n",
              "      <td>17</td>\n",
              "      <td>0.264600</td>\n",
              "      <td>0.493685</td>\n",
              "    </tr>\n",
              "    <tr>\n",
              "      <td>18</td>\n",
              "      <td>0.218100</td>\n",
              "      <td>0.767091</td>\n",
              "    </tr>\n",
              "    <tr>\n",
              "      <td>19</td>\n",
              "      <td>0.231400</td>\n",
              "      <td>0.456574</td>\n",
              "    </tr>\n",
              "    <tr>\n",
              "      <td>20</td>\n",
              "      <td>0.218800</td>\n",
              "      <td>0.616314</td>\n",
              "    </tr>\n",
              "    <tr>\n",
              "      <td>21</td>\n",
              "      <td>0.241900</td>\n",
              "      <td>0.534885</td>\n",
              "    </tr>\n",
              "    <tr>\n",
              "      <td>22</td>\n",
              "      <td>0.220100</td>\n",
              "      <td>0.593526</td>\n",
              "    </tr>\n",
              "    <tr>\n",
              "      <td>23</td>\n",
              "      <td>0.242300</td>\n",
              "      <td>0.520977</td>\n",
              "    </tr>\n",
              "    <tr>\n",
              "      <td>24</td>\n",
              "      <td>0.217800</td>\n",
              "      <td>0.619972</td>\n",
              "    </tr>\n",
              "    <tr>\n",
              "      <td>25</td>\n",
              "      <td>0.206600</td>\n",
              "      <td>0.512776</td>\n",
              "    </tr>\n",
              "    <tr>\n",
              "      <td>26</td>\n",
              "      <td>0.240300</td>\n",
              "      <td>0.567859</td>\n",
              "    </tr>\n",
              "    <tr>\n",
              "      <td>27</td>\n",
              "      <td>0.203900</td>\n",
              "      <td>0.497044</td>\n",
              "    </tr>\n",
              "    <tr>\n",
              "      <td>28</td>\n",
              "      <td>0.239500</td>\n",
              "      <td>0.542171</td>\n",
              "    </tr>\n",
              "    <tr>\n",
              "      <td>29</td>\n",
              "      <td>0.195500</td>\n",
              "      <td>0.526769</td>\n",
              "    </tr>\n",
              "    <tr>\n",
              "      <td>30</td>\n",
              "      <td>0.207800</td>\n",
              "      <td>0.564960</td>\n",
              "    </tr>\n",
              "    <tr>\n",
              "      <td>31</td>\n",
              "      <td>0.193200</td>\n",
              "      <td>0.496205</td>\n",
              "    </tr>\n",
              "    <tr>\n",
              "      <td>32</td>\n",
              "      <td>0.198000</td>\n",
              "      <td>0.485566</td>\n",
              "    </tr>\n",
              "    <tr>\n",
              "      <td>33</td>\n",
              "      <td>0.190700</td>\n",
              "      <td>0.493484</td>\n",
              "    </tr>\n",
              "    <tr>\n",
              "      <td>34</td>\n",
              "      <td>0.198800</td>\n",
              "      <td>0.536243</td>\n",
              "    </tr>\n",
              "    <tr>\n",
              "      <td>35</td>\n",
              "      <td>0.193500</td>\n",
              "      <td>0.495735</td>\n",
              "    </tr>\n",
              "    <tr>\n",
              "      <td>36</td>\n",
              "      <td>0.204600</td>\n",
              "      <td>0.508064</td>\n",
              "    </tr>\n",
              "    <tr>\n",
              "      <td>37</td>\n",
              "      <td>0.189800</td>\n",
              "      <td>0.496779</td>\n",
              "    </tr>\n",
              "    <tr>\n",
              "      <td>38</td>\n",
              "      <td>0.173500</td>\n",
              "      <td>0.510995</td>\n",
              "    </tr>\n",
              "    <tr>\n",
              "      <td>39</td>\n",
              "      <td>0.193100</td>\n",
              "      <td>0.490516</td>\n",
              "    </tr>\n",
              "    <tr>\n",
              "      <td>40</td>\n",
              "      <td>0.185200</td>\n",
              "      <td>0.512920</td>\n",
              "    </tr>\n",
              "    <tr>\n",
              "      <td>41</td>\n",
              "      <td>0.172900</td>\n",
              "      <td>0.454381</td>\n",
              "    </tr>\n",
              "    <tr>\n",
              "      <td>42</td>\n",
              "      <td>0.194700</td>\n",
              "      <td>0.488728</td>\n",
              "    </tr>\n",
              "    <tr>\n",
              "      <td>43</td>\n",
              "      <td>0.191500</td>\n",
              "      <td>0.459454</td>\n",
              "    </tr>\n",
              "    <tr>\n",
              "      <td>44</td>\n",
              "      <td>0.178600</td>\n",
              "      <td>0.438581</td>\n",
              "    </tr>\n",
              "    <tr>\n",
              "      <td>45</td>\n",
              "      <td>0.163100</td>\n",
              "      <td>0.447192</td>\n",
              "    </tr>\n",
              "    <tr>\n",
              "      <td>46</td>\n",
              "      <td>0.210300</td>\n",
              "      <td>0.465622</td>\n",
              "    </tr>\n",
              "    <tr>\n",
              "      <td>47</td>\n",
              "      <td>0.169100</td>\n",
              "      <td>0.432531</td>\n",
              "    </tr>\n",
              "    <tr>\n",
              "      <td>48</td>\n",
              "      <td>0.165900</td>\n",
              "      <td>0.430973</td>\n",
              "    </tr>\n",
              "    <tr>\n",
              "      <td>49</td>\n",
              "      <td>0.166100</td>\n",
              "      <td>0.432207</td>\n",
              "    </tr>\n",
              "    <tr>\n",
              "      <td>50</td>\n",
              "      <td>0.178100</td>\n",
              "      <td>0.434398</td>\n",
              "    </tr>\n",
              "  </tbody>\n",
              "</table><p>"
            ]
          },
          "metadata": {}
        },
        {
          "output_type": "stream",
          "name": "stdout",
          "text": [
            "Evaluating model on test set...\n"
          ]
        },
        {
          "output_type": "display_data",
          "data": {
            "text/plain": [
              "<IPython.core.display.HTML object>"
            ],
            "text/html": [
              "\n",
              "    <div>\n",
              "      \n",
              "      <progress value='4' max='4' style='width:300px; height:20px; vertical-align: middle;'></progress>\n",
              "      [4/4 00:00]\n",
              "    </div>\n",
              "    "
            ]
          },
          "metadata": {}
        },
        {
          "output_type": "stream",
          "name": "stdout",
          "text": [
            "Test Results: {'eval_loss': 0.6500102877616882, 'eval_runtime': 0.3979, 'eval_samples_per_second': 140.734, 'eval_steps_per_second': 10.052, 'epoch': 50.0}\n"
          ]
        }
      ],
      "source": [
        "# Train the model\n",
        "print(\"Starting training...\")\n",
        "trainer.train()\n",
        "\n",
        "# Evaluate the model\n",
        "print(\"Evaluating model on test set...\")\n",
        "results = trainer.evaluate(test_dataset)\n",
        "print(\"Test Results:\", results)"
      ]
    },
    {
      "cell_type": "code",
      "execution_count": 36,
      "metadata": {
        "id": "BpMreLFbtxbG",
        "colab": {
          "base_uri": "https://localhost:8080/",
          "height": 607
        },
        "outputId": "afc0ae7f-de92-4aa4-9b35-3fdcfb6624d0"
      },
      "outputs": [
        {
          "output_type": "display_data",
          "data": {
            "text/plain": [
              "<Figure size 1200x600 with 2 Axes>"
            ],
            "image/png": "[encoded data removed]"
          },
          "metadata": {}
        }
      ],
      "source": [
        "import matplotlib.pyplot as plt\n",
        "import numpy as np\n",
        "from scipy.signal import savgol_filter\n",
        "\n",
        "# Extract training history\n",
        "history = trainer.state.log_history\n",
        "\n",
        "# Extract training and validation losses\n",
        "train_loss = [log[\"loss\"] for log in history if \"loss\" in log]\n",
        "val_loss = [log[\"eval_loss\"] for log in history if \"eval_loss\" in log]\n",
        "\n",
        "# Use only the first 49 validation points for smoothing\n",
        "val_loss_subset = val_loss[:49]\n",
        "\n",
        "# Apply Savitzky-Golay filter for smoother curves\n",
        "train_smoothed = savgol_filter(train_loss, window_length=21, polyorder=3)  # Smoothing training loss\n",
        "val_smoothed = savgol_filter(val_loss_subset, window_length=15, polyorder=3)  # Smoothing validation loss\n",
        "\n",
        "# Steps (x-axis)\n",
        "train_steps = list(range(len(train_loss)))\n",
        "val_steps = list(range(len(val_loss_subset)))\n",
        "\n",
        "# Create subplots\n",
        "fig, axes = plt.subplots(1, 2, figsize=(12, 6))  # 1 row, 2 columns\n",
        "\n",
        "# Original plot on the left\n",
        "axes[0].plot(train_loss, label=\"Training Loss\", color=\"blue\", alpha=0.5)\n",
        "axes[0].plot(val_loss_subset, label=\"Validation Loss\", color=\"orange\", alpha=0.5)\n",
        "axes[0].set_title(\"Training vs. Validation Loss\")\n",
        "axes[0].set_xlabel(\"Steps\")\n",
        "axes[0].set_ylabel(\"Loss\")\n",
        "axes[0].legend()\n",
        "\n",
        "# Plot with smoothed curves on the right\n",
        "axes[1].plot(train_steps, train_loss, label=\"Training Loss\", color=\"blue\", alpha=0.3)\n",
        "axes[1].plot(val_steps, val_loss_subset, label=\"Validation Loss\", color=\"orange\", alpha=0.3)\n",
        "axes[1].plot(train_steps, train_smoothed, label=\"Smoothed Train Loss\", color=\"blue\", linestyle=\"--\", linewidth=2)\n",
        "axes[1].plot(val_steps, val_smoothed, label=\"Smoothed Val Loss\", color=\"orange\", linestyle=\"--\", linewidth=2)\n",
        "axes[1].set_title(\"Smoothed Training vs. Validation Loss\")\n",
        "axes[1].set_xlabel(\"Steps\")\n",
        "axes[1].set_ylabel(\"Loss\")\n",
        "axes[1].legend()\n",
        "\n",
        "# Adjust layout and display\n",
        "plt.tight_layout()\n",
        "plt.show()\n"
      ]
    },
    {
      "cell_type": "code",
      "execution_count": 37,
      "metadata": {
        "id": "YAjig5m-rMP8",
        "colab": {
          "base_uri": "https://localhost:8080/",
          "height": 1000
        },
        "outputId": "1cafe298-ad44-4ada-e4e6-ae2dbaad2cea"
      },
      "outputs": [
        {
          "output_type": "display_data",
          "data": {
            "text/plain": [
              "<IPython.core.display.HTML object>"
            ],
            "text/html": []
          },
          "metadata": {}
        },
        {
          "output_type": "stream",
          "name": "stdout",
          "text": [
            "[[ 3.0852716   0.8725164  -5.2887526 ]\n",
            " [ 3.1772592   0.8314396  -5.3548512 ]\n",
            " [ 2.9564853   1.4934043  -5.7088    ]\n",
            " [ 3.4197197   0.24991034 -4.935544  ]\n",
            " [ 0.4403497   4.318654   -5.8524404 ]\n",
            " [-0.16199318  4.695738   -5.6451793 ]\n",
            " [ 0.43490586  4.274779   -5.8893228 ]\n",
            " [-1.2863742   5.067596   -4.5235314 ]\n",
            " [-1.7892649   5.2080708  -4.1796346 ]\n",
            " [-1.9854839   5.341259   -3.9466534 ]\n",
            " [-2.5897224   5.334338   -3.1692355 ]\n",
            " [-1.9906497   4.9849515  -3.508557  ]\n",
            " [ 0.4403497   4.318654   -5.8524404 ]\n",
            " [-0.16199318  4.695738   -5.6451793 ]\n",
            " [ 0.43490586  4.274779   -5.8893228 ]\n",
            " [-1.2863742   5.067596   -4.5235314 ]\n",
            " [-2.3573072   5.2304406  -3.6159964 ]\n",
            " [-2.6169155   5.433004   -3.4261203 ]\n",
            " [-2.8881004   5.426336   -2.9867325 ]\n",
            " [-2.6087856   5.4610815  -3.2869484 ]\n",
            " [ 1.7458862   2.984615   -5.484     ]\n",
            " [ 2.3884895   2.5595133  -6.137845  ]\n",
            " [ 2.0974538   2.402953   -5.858665  ]\n",
            " [ 2.925537    1.3877242  -5.3747983 ]\n",
            " [ 1.3471727   3.1436572  -5.2832713 ]\n",
            " [ 1.9053026   3.1123877  -6.2075663 ]\n",
            " [-2.8507912   5.4800158  -3.0658414 ]\n",
            " [-2.678013    5.4873075  -3.2320433 ]\n",
            " [ 0.4403497   4.318654   -5.8524404 ]\n",
            " [-0.16199318  4.695738   -5.6451793 ]\n",
            " [ 0.43490586  4.274779   -5.8893228 ]\n",
            " [-1.2863742   5.067596   -4.5235314 ]\n",
            " [ 1.6516196   3.0908182  -5.567655  ]\n",
            " [ 2.7316556   1.9960331  -5.9044704 ]\n",
            " [ 1.9977155   2.2135708  -5.295012  ]\n",
            " [ 1.8675498   2.5967317  -5.4650764 ]\n",
            " [ 3.5339713  -1.167549   -3.3528814 ]\n",
            " [ 3.6214237  -1.2652198  -3.4971783 ]\n",
            " [ 3.0011122   0.47901225 -4.795707  ]\n",
            " [ 3.710224   -1.1802367  -3.598703  ]\n",
            " [ 1.6391338   3.0996873  -5.5614424 ]\n",
            " [ 0.9434736   3.93984    -5.969272  ]\n",
            " [ 0.44090858  4.28371    -5.8977613 ]\n",
            " [ 1.0003811   3.3112147  -5.414269  ]\n",
            " [ 2.3049355   2.1833217  -5.401661  ]\n",
            " [-1.1809536   4.983472   -4.298981  ]\n",
            " [ 3.0011122   0.47901225 -4.795707  ]\n",
            " [ 3.710224   -1.1802367  -3.598703  ]\n",
            " [ 0.42669627  4.3223877  -5.846084  ]\n",
            " [ 1.072202    3.582844   -5.876987  ]\n",
            " [ 2.099445    2.0780854  -5.2823563 ]\n",
            " [ 2.0972283   2.3998718  -5.695175  ]\n",
            " [ 3.0718842   0.8845806  -5.2961397 ]\n",
            " [ 3.1644282   0.82644963 -5.349722  ]\n",
            " [ 3.012262    1.4234338  -5.686757  ]\n",
            " [ 3.4197197   0.24991034 -4.935544  ]]\n",
            "Predicted Classes: [0 0 0 0 1 1 1 1 1 1 1 1 1 1 1 1 1 1 1 1 1 1 1 0 1 1 1 1 1 1 1 1 1 0 1 1 0\n",
            " 0 0 0 1 1 1 1 0 1 0 0 1 1 0 1 0 0 0 0]\n",
            "True Classes: [0 0 0 0 1 1 1 1 1 1 1 1 1 1 1 1 1 1 1 1 0 0 0 0 0 0 0 0 1 1 1 1 1 1 1 1 0\n",
            " 0 0 0 1 1 1 1 0 0 0 0 0 0 0 0 0 0 0 0]\n",
            "Precision: 0.8275\n",
            "Recall: 0.7857\n",
            "F1 Score: 0.7787\n",
            "Accuracy: 0.7857\n",
            "56\n"
          ]
        }
      ],
      "source": [
        "predictions = trainer.predict(test_dataset=test_dataset)\n",
        "print(predictions.predictions)  # Raw logits\n",
        "\n",
        "# Get predicted class labels from logits\n",
        "predicted_classes = np.argmax(predictions.predictions, axis=1)\n",
        "true_labels = predictions.label_ids\n",
        "\n",
        "# Display the predicted class labels\n",
        "print(\"Predicted Classes:\", predicted_classes)\n",
        "print(\"True Classes:\", true_labels)    # True labels\n",
        "\n",
        "def compute_metrics(true_labels, predicted_classes):\n",
        "    precision = precision_score(true_labels, predicted_classes, average=\"weighted\")\n",
        "    recall = recall_score(true_labels, predicted_classes, average=\"weighted\")\n",
        "    f1 = f1_score(true_labels, predicted_classes, average=\"weighted\")\n",
        "    accuracy = accuracy_score(true_labels, predicted_classes)\n",
        "\n",
        "    print(f\"Precision: {precision:.4f}\")\n",
        "    print(f\"Recall: {recall:.4f}\")\n",
        "    print(f\"F1 Score: {f1:.4f}\")\n",
        "    print(f\"Accuracy: {accuracy:.4f}\")\n",
        "\n",
        "    return {\"precision\": precision, \"recall\": recall, \"f1\": f1, \"accuracy\": accuracy}\n",
        "\n",
        "# Call the function\n",
        "metrics = compute_metrics(true_labels, predicted_classes)\n",
        "print(len(predicted_classes))"
      ]
    },
    {
      "cell_type": "code",
      "source": [
        "import pandas as pd\n",
        "from collections import Counter\n",
        "\n",
        "class ClassModeDataset:\n",
        "    \"\"\"Creates a dataset with the mode of predicted classes for each sequence ID.\"\"\"\n",
        "\n",
        "    def __init__(self, sequence_ids, predicted_classes):\n",
        "        \"\"\"\n",
        "        Initialize the dataset.\n",
        "\n",
        "        Args:\n",
        "            sequence_ids (list): List of sequence IDs.\n",
        "            predicted_classes (list): List of predicted classes corresponding to sequence IDs.\n",
        "        \"\"\"\n",
        "        if len(sequence_ids) != len(predicted_classes):\n",
        "            raise ValueError(\"The number of sequence IDs must match the number of predicted classes.\")\n",
        "\n",
        "        self.sequence_ids = sequence_ids\n",
        "        self.predicted_classes = predicted_classes\n",
        "\n",
        "    def create_dataset(self):\n",
        "        \"\"\"\n",
        "        Create a dataset with the mode of predicted classes for each sequence ID.\n",
        "\n",
        "        Returns:\n",
        "            pd.DataFrame: A dataset containing sequence_id and the mode of predicted classes.\n",
        "        \"\"\"\n",
        "        # Create a DataFrame from the input data\n",
        "        data = pd.DataFrame({\n",
        "            \"sequence_id\": self.sequence_ids,\n",
        "            \"predicted_class\": self.predicted_classes\n",
        "        })\n",
        "\n",
        "        # Group by sequence_id and calculate the mode of predicted_class\n",
        "        def calculate_mode(classes):\n",
        "            return Counter(classes).most_common(1)[0][0]\n",
        "\n",
        "        mode_dataset = (\n",
        "            data.groupby(\"sequence_id\")[\"predicted_class\"]\n",
        "            .agg(calculate_mode)\n",
        "            .reset_index()\n",
        "        )\n",
        "        mode_dataset.rename(columns={\"predicted_class\": \"class_mode\"}, inplace=True)\n",
        "        return mode_dataset\n",
        "\n",
        "class_mode_creator = ClassModeDataset(processed_test[\"sequence_id\"], predicted_classes)\n",
        "mode_dataset = class_mode_creator.create_dataset()\n",
        "\n",
        "print(\"\\nDataset with Class Mode:\")\n",
        "print(mode_dataset)"
      ],
      "metadata": {
        "id": "CWqns1-BaB6p",
        "colab": {
          "base_uri": "https://localhost:8080/"
        },
        "outputId": "bbb8123f-0e74-4b35-f51c-5d1a347ade1e"
      },
      "execution_count": 38,
      "outputs": [
        {
          "output_type": "stream",
          "name": "stdout",
          "text": [
            "\n",
            "Dataset with Class Mode:\n",
            "    sequence_id  class_mode\n",
            "0             0           0\n",
            "1             1           1\n",
            "2             2           1\n",
            "3             3           1\n",
            "4             4           1\n",
            "5             5           1\n",
            "6             6           1\n",
            "7             7           1\n",
            "8             8           1\n",
            "9             9           0\n",
            "10           10           1\n",
            "11           11           0\n",
            "12           12           1\n",
            "13           13           0\n"
          ]
        }
      ]
    },
    {
      "cell_type": "code",
      "execution_count": 39,
      "metadata": {
        "id": "4p0HcQNbz1Q9",
        "colab": {
          "base_uri": "https://localhost:8080/",
          "height": 472
        },
        "outputId": "71fe650e-0aec-4f32-d666-bba1f23c813b"
      },
      "outputs": [
        {
          "output_type": "display_data",
          "data": {
            "text/plain": [
              "<Figure size 640x480 with 2 Axes>"
            ],
            "image/png": "[encoded data removed]"
          },
          "metadata": {}
        }
      ],
      "source": [
        "# Calculate confusion matrix\n",
        "conf_matrix = confusion_matrix(labels_test, mode_dataset[\"class_mode\"])\n",
        "\n",
        "# Display confusion matrix\n",
        "disp = ConfusionMatrixDisplay(confusion_matrix=conf_matrix, display_labels=[0, 1])  # Adjust for more classes\n",
        "disp.plot(cmap=\"Blues\", values_format=\"d\")\n",
        "plt.title(\"Confusion Matrix\")\n",
        "plt.show()\n"
      ]
    },
    {
      "cell_type": "code",
      "execution_count": 40,
      "metadata": {
        "id": "MCnjokZy0MJy",
        "colab": {
          "base_uri": "https://localhost:8080/"
        },
        "outputId": "fa619c46-d020-4612-e60c-0e6886349c92"
      },
      "outputs": [
        {
          "output_type": "stream",
          "name": "stdout",
          "text": [
            "Classification Report:\n",
            "              precision    recall  f1-score   support\n",
            "\n",
            "     Class 0       1.00      0.57      0.73         7\n",
            "     Class 1       0.70      1.00      0.82         7\n",
            "\n",
            "    accuracy                           0.79        14\n",
            "   macro avg       0.85      0.79      0.78        14\n",
            "weighted avg       0.85      0.79      0.78        14\n",
            "\n"
          ]
        }
      ],
      "source": [
        "# Generate detailed class-wise metrics\n",
        "class_report = classification_report(labels_test, mode_dataset[\"class_mode\"], target_names=[\"Class 0\", \"Class 1\"])\n",
        "print(\"Classification Report:\")\n",
        "print(class_report)"
      ]
    },
    {
      "cell_type": "code",
      "execution_count": 41,
      "metadata": {
        "id": "4Cy4EpON0WTg",
        "colab": {
          "base_uri": "https://localhost:8080/",
          "height": 569
        },
        "outputId": "fad2d46f-e6a3-4629-ccf4-5ce6909506db"
      },
      "outputs": [
        {
          "output_type": "display_data",
          "data": {
            "text/plain": [
              "<Figure size 800x600 with 2 Axes>"
            ],
            "image/png": "[encoded data removed]"
          },
          "metadata": {}
        }
      ],
      "source": [
        "# Assuming binary classification and raw logits\n",
        "probabilities = predictions.predictions[:, 1]  # Probabilities for the positive class\n",
        "precision, recall, thresholds = precision_recall_curve(true_labels, probabilities)\n",
        "\n",
        "# Calculate the area under the precision-recall curve\n",
        "pr_auc = auc(recall, precision)\n",
        "\n",
        "# Plot Precision-Recall Curve\n",
        "plt.figure(figsize=(8, 6))\n",
        "plt.plot(recall, precision, label=f'PR Curve (AUC = {pr_auc:.2f})', color='blue', lw=2)\n",
        "\n",
        "# Highlight threshold points with a larger marker size\n",
        "plt.scatter(recall[:-1], precision[:-1], c=thresholds, cmap='viridis', s=50, edgecolor='k', label='Threshold Points')\n",
        "\n",
        "# Annotate thresholds for clarity (every 3rd point)\n",
        "for i in range(0, len(thresholds), 3):\n",
        "    plt.text(recall[i], precision[i], f'{thresholds[i]:.2f}', fontsize=8, color='black')\n",
        "\n",
        "# Enhancements\n",
        "plt.colorbar(label='Threshold')\n",
        "plt.xlabel('Recall', fontsize=12)\n",
        "plt.ylabel('Precision', fontsize=12)\n",
        "plt.title('Enhanced Precision-Recall Curve', fontsize=14)\n",
        "plt.grid(alpha=0.4)\n",
        "plt.legend(fontsize=12)\n",
        "plt.show()\n"
      ]
    },
    {
      "cell_type": "code",
      "source": [
        "from sklearn.metrics import roc_curve, roc_auc_score\n",
        "import matplotlib.pyplot as plt\n",
        "\n",
        "# Probabilities for the positive class\n",
        "probabilities = predictions.predictions[:, 1]  # Adjust for positive class\n",
        "\n",
        "# Compute ROC curve\n",
        "fpr, tpr, thresholds = roc_curve(true_labels, probabilities)\n",
        "\n",
        "# Plot ROC curve\n",
        "plt.plot(fpr, tpr, marker='.')\n",
        "plt.xlabel('False Positive Rate')\n",
        "plt.ylabel('True Positive Rate')\n",
        "plt.title('ROC Curve')\n",
        "plt.show()\n",
        "\n",
        "# Compute ROC AUC\n",
        "roc_auc = roc_auc_score(true_labels, probabilities)\n",
        "print(f\"ROC AUC: {roc_auc:.4f}\")"
      ],
      "metadata": {
        "id": "hu4pqG9IfKS2",
        "colab": {
          "base_uri": "https://localhost:8080/",
          "height": 490
        },
        "outputId": "1091a457-cbb3-4e16-8dc5-a47a5593f0b0"
      },
      "execution_count": 42,
      "outputs": [
        {
          "output_type": "display_data",
          "data": {
            "text/plain": [
              "<Figure size 640x480 with 1 Axes>"
            ],
            "image/png": "[encoded data removed]"
          },
          "metadata": {}
        },
        {
          "output_type": "stream",
          "name": "stdout",
          "text": [
            "ROC AUC: 0.8546\n"
          ]
        }
      ]
    },
    {
      "cell_type": "code",
      "execution_count": null,
      "metadata": {
        "id": "dYNHqy5H0bmj"
      },
      "outputs": [],
      "source": [
        "# Analyze class distribution\n",
        "unique, counts = np.unique(true_labels, return_counts=True)\n",
        "print(\"Class Distribution:\", dict(zip(unique, counts)))"
      ]
    }
  ],
  "metadata": {
    "accelerator": "GPU",
    "colab": {
      "gpuType": "A100",
      "provenance": []
    },
    "kernelspec": {
      "display_name": "Python 3",
      "name": "python3"
    },
    "language_info": {
      "name": "python"
    }
  },
  "nbformat": 4,
  "nbformat_minor": 0
}