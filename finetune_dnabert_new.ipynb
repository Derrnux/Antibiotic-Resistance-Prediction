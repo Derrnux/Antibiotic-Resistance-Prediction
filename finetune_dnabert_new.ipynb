{
  "cells": [
    {
      "cell_type": "markdown",
      "metadata": {
        "id": "g851Vzkkh_VR"
      },
      "source": [
        "Load Libraries"
      ]
    },
    {
      "cell_type": "code",
      "execution_count": 1,
      "metadata": {
        "colab": {
          "base_uri": "https://localhost:8080/"
        },
        "id": "XSXU0VkviCJ2",
        "outputId": "139fcf24-46b3-4d86-e366-cbabb8a78275"
      },
      "outputs": [
        {
          "output_type": "stream",
          "name": "stdout",
          "text": [
            "Requirement already satisfied: biopython in /usr/local/lib/python3.10/dist-packages (1.84)\n",
            "Requirement already satisfied: seaborn in /usr/local/lib/python3.10/dist-packages (0.13.2)\n",
            "Requirement already satisfied: numpy in /usr/local/lib/python3.10/dist-packages (from biopython) (1.26.4)\n",
            "Requirement already satisfied: pandas>=1.2 in /usr/local/lib/python3.10/dist-packages (from seaborn) (2.2.2)\n",
            "Requirement already satisfied: matplotlib!=3.6.1,>=3.4 in /usr/local/lib/python3.10/dist-packages (from seaborn) (3.8.0)\n",
            "Requirement already satisfied: contourpy>=1.0.1 in /usr/local/lib/python3.10/dist-packages (from matplotlib!=3.6.1,>=3.4->seaborn) (1.3.1)\n",
            "Requirement already satisfied: cycler>=0.10 in /usr/local/lib/python3.10/dist-packages (from matplotlib!=3.6.1,>=3.4->seaborn) (0.12.1)\n",
            "Requirement already satisfied: fonttools>=4.22.0 in /usr/local/lib/python3.10/dist-packages (from matplotlib!=3.6.1,>=3.4->seaborn) (4.55.3)\n",
            "Requirement already satisfied: kiwisolver>=1.0.1 in /usr/local/lib/python3.10/dist-packages (from matplotlib!=3.6.1,>=3.4->seaborn) (1.4.7)\n",
            "Requirement already satisfied: packaging>=20.0 in /usr/local/lib/python3.10/dist-packages (from matplotlib!=3.6.1,>=3.4->seaborn) (24.2)\n",
            "Requirement already satisfied: pillow>=6.2.0 in /usr/local/lib/python3.10/dist-packages (from matplotlib!=3.6.1,>=3.4->seaborn) (11.0.0)\n",
            "Requirement already satisfied: pyparsing>=2.3.1 in /usr/local/lib/python3.10/dist-packages (from matplotlib!=3.6.1,>=3.4->seaborn) (3.2.0)\n",
            "Requirement already satisfied: python-dateutil>=2.7 in /usr/local/lib/python3.10/dist-packages (from matplotlib!=3.6.1,>=3.4->seaborn) (2.8.2)\n",
            "Requirement already satisfied: pytz>=2020.1 in /usr/local/lib/python3.10/dist-packages (from pandas>=1.2->seaborn) (2024.2)\n",
            "Requirement already satisfied: tzdata>=2022.7 in /usr/local/lib/python3.10/dist-packages (from pandas>=1.2->seaborn) (2024.2)\n",
            "Requirement already satisfied: six>=1.5 in /usr/local/lib/python3.10/dist-packages (from python-dateutil>=2.7->matplotlib!=3.6.1,>=3.4->seaborn) (1.17.0)\n",
            "Requirement already satisfied: biopython in /usr/local/lib/python3.10/dist-packages (1.84)\n",
            "Requirement already satisfied: numpy in /usr/local/lib/python3.10/dist-packages (from biopython) (1.26.4)\n",
            "Requirement already satisfied: seaborn in /usr/local/lib/python3.10/dist-packages (0.13.2)\n",
            "Requirement already satisfied: numpy!=1.24.0,>=1.20 in /usr/local/lib/python3.10/dist-packages (from seaborn) (1.26.4)\n",
            "Requirement already satisfied: pandas>=1.2 in /usr/local/lib/python3.10/dist-packages (from seaborn) (2.2.2)\n",
            "Requirement already satisfied: matplotlib!=3.6.1,>=3.4 in /usr/local/lib/python3.10/dist-packages (from seaborn) (3.8.0)\n",
            "Requirement already satisfied: contourpy>=1.0.1 in /usr/local/lib/python3.10/dist-packages (from matplotlib!=3.6.1,>=3.4->seaborn) (1.3.1)\n",
            "Requirement already satisfied: cycler>=0.10 in /usr/local/lib/python3.10/dist-packages (from matplotlib!=3.6.1,>=3.4->seaborn) (0.12.1)\n",
            "Requirement already satisfied: fonttools>=4.22.0 in /usr/local/lib/python3.10/dist-packages (from matplotlib!=3.6.1,>=3.4->seaborn) (4.55.3)\n",
            "Requirement already satisfied: kiwisolver>=1.0.1 in /usr/local/lib/python3.10/dist-packages (from matplotlib!=3.6.1,>=3.4->seaborn) (1.4.7)\n",
            "Requirement already satisfied: packaging>=20.0 in /usr/local/lib/python3.10/dist-packages (from matplotlib!=3.6.1,>=3.4->seaborn) (24.2)\n",
            "Requirement already satisfied: pillow>=6.2.0 in /usr/local/lib/python3.10/dist-packages (from matplotlib!=3.6.1,>=3.4->seaborn) (11.0.0)\n",
            "Requirement already satisfied: pyparsing>=2.3.1 in /usr/local/lib/python3.10/dist-packages (from matplotlib!=3.6.1,>=3.4->seaborn) (3.2.0)\n",
            "Requirement already satisfied: python-dateutil>=2.7 in /usr/local/lib/python3.10/dist-packages (from matplotlib!=3.6.1,>=3.4->seaborn) (2.8.2)\n",
            "Requirement already satisfied: pytz>=2020.1 in /usr/local/lib/python3.10/dist-packages (from pandas>=1.2->seaborn) (2024.2)\n",
            "Requirement already satisfied: tzdata>=2022.7 in /usr/local/lib/python3.10/dist-packages (from pandas>=1.2->seaborn) (2024.2)\n",
            "Requirement already satisfied: six>=1.5 in /usr/local/lib/python3.10/dist-packages (from python-dateutil>=2.7->matplotlib!=3.6.1,>=3.4->seaborn) (1.17.0)\n",
            "WANDB_DISABLED: true\n"
          ]
        }
      ],
      "source": [
        "!pip install biopython seaborn\n",
        "%pip install biopython\n",
        "%pip install seaborn\n",
        "!pip install -q biopython transformers datasets huggingface_hub accelerate\n",
        "\n",
        "import os\n",
        "import zipfile\n",
        "import torch\n",
        "import random\n",
        "import sys\n",
        "\n",
        "import matplotlib.pyplot as plt\n",
        "import numpy as np\n",
        "\n",
        "\n",
        "from datasets import Dataset\n",
        "from itertools import product\n",
        "from sklearn.metrics import precision_recall_curve, auc, confusion_matrix, ConfusionMatrixDisplay, classification_report, precision_score, recall_score, f1_score, accuracy_score\n",
        "from sklearn.utils.class_weight import compute_class_weight\n",
        "from transformers import Trainer, TrainingArguments, BertForSequenceClassification, BertTokenizer\n",
        "\n",
        "os.environ[\"WANDB_DISABLED\"] = \"true\"\n",
        "os.environ[\"WANDB_MODE\"] = \"offline\"\n",
        "\n",
        "# Verify wandb is disabled\n",
        "print(\"WANDB_DISABLED:\", os.environ.get(\"WANDB_DISABLED\"))"
      ]
    },
    {
      "cell_type": "markdown",
      "metadata": {
        "id": "81O-9-AHj2k7"
      },
      "source": [
        "Seeding"
      ]
    },
    {
      "cell_type": "code",
      "execution_count": 2,
      "metadata": {
        "id": "FunO1_c2j_Vp"
      },
      "outputs": [],
      "source": [
        "seed = 42\n",
        "\n",
        "random.seed(seed)\n",
        "np.random.seed(seed)\n",
        "torch.manual_seed(seed)\n",
        "torch.cuda.manual_seed_all(seed)\n",
        "torch.backends.cudnn.deterministic = True\n",
        "torch.backends.cudnn.benchmark = False"
      ]
    },
    {
      "cell_type": "markdown",
      "metadata": {
        "id": "-w5D4JmBQPQw"
      },
      "source": [
        "Clone DNABERT6 Repository"
      ]
    },
    {
      "cell_type": "code",
      "execution_count": 3,
      "metadata": {
        "colab": {
          "base_uri": "https://localhost:8080/"
        },
        "id": "2RLP3njkMlzK",
        "outputId": "d7e36518-13a8-428b-b62d-593e4ea2a744"
      },
      "outputs": [
        {
          "output_type": "stream",
          "name": "stdout",
          "text": [
            "Requirement already satisfied: torch in /usr/local/lib/python3.10/dist-packages (2.5.1+cu121)\n",
            "Requirement already satisfied: torchvision in /usr/local/lib/python3.10/dist-packages (0.20.1+cu121)\n",
            "Requirement already satisfied: transformers in /usr/local/lib/python3.10/dist-packages (4.47.1)\n",
            "Requirement already satisfied: datasets in /usr/local/lib/python3.10/dist-packages (3.2.0)\n",
            "Requirement already satisfied: gdown in /usr/local/lib/python3.10/dist-packages (5.2.0)\n",
            "Requirement already satisfied: filelock in /usr/local/lib/python3.10/dist-packages (from torch) (3.16.1)\n",
            "Requirement already satisfied: typing-extensions>=4.8.0 in /usr/local/lib/python3.10/dist-packages (from torch) (4.12.2)\n",
            "Requirement already satisfied: networkx in /usr/local/lib/python3.10/dist-packages (from torch) (3.4.2)\n",
            "Requirement already satisfied: jinja2 in /usr/local/lib/python3.10/dist-packages (from torch) (3.1.4)\n",
            "Requirement already satisfied: fsspec in /usr/local/lib/python3.10/dist-packages (from torch) (2024.9.0)\n",
            "Requirement already satisfied: sympy==1.13.1 in /usr/local/lib/python3.10/dist-packages (from torch) (1.13.1)\n",
            "Requirement already satisfied: mpmath<1.4,>=1.1.0 in /usr/local/lib/python3.10/dist-packages (from sympy==1.13.1->torch) (1.3.0)\n",
            "Requirement already satisfied: numpy in /usr/local/lib/python3.10/dist-packages (from torchvision) (1.26.4)\n",
            "Requirement already satisfied: pillow!=8.3.*,>=5.3.0 in /usr/local/lib/python3.10/dist-packages (from torchvision) (11.0.0)\n",
            "Requirement already satisfied: huggingface-hub<1.0,>=0.24.0 in /usr/local/lib/python3.10/dist-packages (from transformers) (0.27.0)\n",
            "Requirement already satisfied: packaging>=20.0 in /usr/local/lib/python3.10/dist-packages (from transformers) (24.2)\n",
            "Requirement already satisfied: pyyaml>=5.1 in /usr/local/lib/python3.10/dist-packages (from transformers) (6.0.2)\n",
            "Requirement already satisfied: regex!=2019.12.17 in /usr/local/lib/python3.10/dist-packages (from transformers) (2024.11.6)\n",
            "Requirement already satisfied: requests in /usr/local/lib/python3.10/dist-packages (from transformers) (2.32.3)\n",
            "Requirement already satisfied: tokenizers<0.22,>=0.21 in /usr/local/lib/python3.10/dist-packages (from transformers) (0.21.0)\n",
            "Requirement already satisfied: safetensors>=0.4.1 in /usr/local/lib/python3.10/dist-packages (from transformers) (0.4.5)\n",
            "Requirement already satisfied: tqdm>=4.27 in /usr/local/lib/python3.10/dist-packages (from transformers) (4.67.1)\n",
            "Requirement already satisfied: pyarrow>=15.0.0 in /usr/local/lib/python3.10/dist-packages (from datasets) (17.0.0)\n",
            "Requirement already satisfied: dill<0.3.9,>=0.3.0 in /usr/local/lib/python3.10/dist-packages (from datasets) (0.3.8)\n",
            "Requirement already satisfied: pandas in /usr/local/lib/python3.10/dist-packages (from datasets) (2.2.2)\n",
            "Requirement already satisfied: xxhash in /usr/local/lib/python3.10/dist-packages (from datasets) (3.5.0)\n",
            "Requirement already satisfied: multiprocess<0.70.17 in /usr/local/lib/python3.10/dist-packages (from datasets) (0.70.16)\n",
            "Requirement already satisfied: aiohttp in /usr/local/lib/python3.10/dist-packages (from datasets) (3.11.10)\n",
            "Requirement already satisfied: beautifulsoup4 in /usr/local/lib/python3.10/dist-packages (from gdown) (4.12.3)\n",
            "Requirement already satisfied: aiohappyeyeballs>=2.3.0 in /usr/local/lib/python3.10/dist-packages (from aiohttp->datasets) (2.4.4)\n",
            "Requirement already satisfied: aiosignal>=1.1.2 in /usr/local/lib/python3.10/dist-packages (from aiohttp->datasets) (1.3.2)\n",
            "Requirement already satisfied: async-timeout<6.0,>=4.0 in /usr/local/lib/python3.10/dist-packages (from aiohttp->datasets) (4.0.3)\n",
            "Requirement already satisfied: attrs>=17.3.0 in /usr/local/lib/python3.10/dist-packages (from aiohttp->datasets) (24.3.0)\n",
            "Requirement already satisfied: frozenlist>=1.1.1 in /usr/local/lib/python3.10/dist-packages (from aiohttp->datasets) (1.5.0)\n",
            "Requirement already satisfied: multidict<7.0,>=4.5 in /usr/local/lib/python3.10/dist-packages (from aiohttp->datasets) (6.1.0)\n",
            "Requirement already satisfied: propcache>=0.2.0 in /usr/local/lib/python3.10/dist-packages (from aiohttp->datasets) (0.2.1)\n",
            "Requirement already satisfied: yarl<2.0,>=1.17.0 in /usr/local/lib/python3.10/dist-packages (from aiohttp->datasets) (1.18.3)\n",
            "Requirement already satisfied: charset-normalizer<4,>=2 in /usr/local/lib/python3.10/dist-packages (from requests->transformers) (3.4.0)\n",
            "Requirement already satisfied: idna<4,>=2.5 in /usr/local/lib/python3.10/dist-packages (from requests->transformers) (3.10)\n",
            "Requirement already satisfied: urllib3<3,>=1.21.1 in /usr/local/lib/python3.10/dist-packages (from requests->transformers) (2.2.3)\n",
            "Requirement already satisfied: certifi>=2017.4.17 in /usr/local/lib/python3.10/dist-packages (from requests->transformers) (2024.12.14)\n",
            "Requirement already satisfied: soupsieve>1.2 in /usr/local/lib/python3.10/dist-packages (from beautifulsoup4->gdown) (2.6)\n",
            "Requirement already satisfied: MarkupSafe>=2.0 in /usr/local/lib/python3.10/dist-packages (from jinja2->torch) (3.0.2)\n",
            "Requirement already satisfied: python-dateutil>=2.8.2 in /usr/local/lib/python3.10/dist-packages (from pandas->datasets) (2.8.2)\n",
            "Requirement already satisfied: pytz>=2020.1 in /usr/local/lib/python3.10/dist-packages (from pandas->datasets) (2024.2)\n",
            "Requirement already satisfied: tzdata>=2022.7 in /usr/local/lib/python3.10/dist-packages (from pandas->datasets) (2024.2)\n",
            "Requirement already satisfied: PySocks!=1.5.7,>=1.5.6 in /usr/local/lib/python3.10/dist-packages (from requests[socks]->gdown) (1.7.1)\n",
            "Requirement already satisfied: six>=1.5 in /usr/local/lib/python3.10/dist-packages (from python-dateutil>=2.8.2->pandas->datasets) (1.17.0)\n",
            "fatal: destination path 'DNABERT' already exists and is not an empty directory.\n"
          ]
        }
      ],
      "source": [
        "# Install necessary libraries\n",
        "!pip install torch torchvision transformers datasets gdown\n",
        "\n",
        "# Clone the DNA-BERT repository\n",
        "!git clone https://github.com/jerryji1993/DNABERT.git\n"
      ]
    },
    {
      "cell_type": "markdown",
      "metadata": {
        "id": "LB1zwrmyBtxF"
      },
      "source": [
        "NB!!! upload zip file (6-new-12w-0.zip) before continuing else code won't run\n",
        "\n",
        "\n"
      ]
    },
    {
      "cell_type": "code",
      "execution_count": 4,
      "metadata": {
        "colab": {
          "base_uri": "https://localhost:8080/"
        },
        "id": "iIdMsQJ6PfZ9",
        "outputId": "da55059c-2bc4-44c6-ed9c-acde7161e3a2"
      },
      "outputs": [
        {
          "output_type": "stream",
          "name": "stdout",
          "text": [
            "Extracted DNA-BERT files to: /content/DNABERT/pretrained/dna6\n"
          ]
        }
      ],
      "source": [
        "# Path to the uploaded zip file\n",
        "uploaded_zip_path = '/content/6-new-12w-0.zip'\n",
        "\n",
        "# Define the directory for extraction\n",
        "PRETRAINED_DIR = \"/content/DNABERT/pretrained/dna6\"\n",
        "os.makedirs(PRETRAINED_DIR, exist_ok=True)  # Attempt to create the directory\n",
        "\n",
        "# Extract the zip file\n",
        "try:\n",
        "    with zipfile.ZipFile(uploaded_zip_path, 'r') as zip_ref:\n",
        "        zip_ref.extractall(PRETRAINED_DIR)\n",
        "    print(f\"Extracted DNA-BERT files to: {PRETRAINED_DIR}\")\n",
        "except PermissionError as e:\n",
        "    print(f\"Permission denied: {e}. Check your permissions for '/content'.\")\n",
        "except Exception as e:\n",
        "    print(f\"An error occurred: {e}\")\n"
      ]
    },
    {
      "cell_type": "markdown",
      "metadata": {
        "id": "DWywCP2OQY-E"
      },
      "source": [
        "Clone Seminar Repository"
      ]
    },
    {
      "cell_type": "code",
      "execution_count": 5,
      "metadata": {
        "colab": {
          "base_uri": "https://localhost:8080/"
        },
        "id": "bMjGj5fYQm48",
        "outputId": "22d0a1a0-fbc5-442c-eb5f-8cd71cbae956"
      },
      "outputs": [
        {
          "output_type": "stream",
          "name": "stdout",
          "text": [
            "Directory seminar-dlmb-2024-winter-public exists and is non-empty.\n"
          ]
        }
      ],
      "source": [
        "directory = \"seminar-dlmb-2024-winter-public\"\n",
        "\n",
        "if os.path.exists(directory) and os.listdir(directory):\n",
        "    print(f\"Directory {directory} exists and is non-empty.\")\n",
        "else:\n",
        "    print(f\"Directory {directory} does not exist or is empty.\")\n",
        "    !!git clone https://github.com/hzi-bifo/seminar-dlmb-2024-winter-public.git"
      ]
    },
    {
      "cell_type": "code",
      "execution_count": 6,
      "metadata": {
        "colab": {
          "base_uri": "https://localhost:8080/"
        },
        "id": "EGOUMAfBQ0TB",
        "outputId": "36af7b2d-58a9-40cc-cab3-69df6bdbaf3f"
      },
      "outputs": [
        {
          "output_type": "stream",
          "name": "stdout",
          "text": [
            "GPU: Tesla T4 is available.\n"
          ]
        }
      ],
      "source": [
        "# Define the working device\n",
        "device = torch.device(\"cuda\")\n",
        "\n",
        "if torch.cuda.is_available():\n",
        "    print(f\"GPU: {torch.cuda.get_device_name(0)} is available.\")\n",
        "else:\n",
        "    print(\"No GPU available. Training will run on CPU.\")"
      ]
    },
    {
      "cell_type": "markdown",
      "metadata": {
        "id": "4czZS3R0Q1nI"
      },
      "source": [
        "Create Datasets"
      ]
    },
    {
      "cell_type": "code",
      "execution_count": 7,
      "metadata": {
        "id": "zmNv5yJGQ3bQ"
      },
      "outputs": [],
      "source": [
        "# Paths\n",
        "base_path = \"seminar-dlmb-2024-winter-public/\"\n",
        "data_path = \"seminar-dlmb-2024-winter-public/data/ds1\"\n",
        "\n",
        "sys.path.append('seminar-dlmb-2024-winter-public/src/')\n",
        "from amr.amr_utility import load_gene_data, create_gene_datasets\n",
        "\n",
        "# Create datasets\n",
        "create_gene_datasets(base_path, data_path)\n",
        "\n",
        "# Load dataset\n",
        "ds = load_gene_data(data_path, \"Staphylococcus_aureus_cefoxitin\", \"pbp4\")\n",
        "\n",
        "sequences_train = [x[1] for x in ds[\"train\"]]\n",
        "labels_train = [x[2] for x in ds[\"train\"]]\n",
        "\n",
        "sequences_test = [x[1] for x in ds[\"test\"]]\n",
        "labels_test = [x[2] for x in ds[\"test\"]]\n",
        "\n",
        "sequences = sequences_train + sequences_test\n",
        "labels = labels_train + labels_test\n",
        "\n",
        "# Separate data by classes\n",
        "class_0 = [(seq, label) for seq, label in zip(sequences, labels) if label == 0]\n",
        "class_1 = [(seq, label) for seq, label in zip(sequences, labels) if label == 1]\n",
        "\n",
        "random.shuffle(class_0)\n",
        "random.shuffle(class_1)\n",
        "\n",
        "test_data = class_0[:7] + class_1[:7]\n",
        "leftover_class_0 = class_0[7:]\n",
        "leftover_class_1 = class_1[7:]\n",
        "\n",
        "val_data = leftover_class_0[:7] + leftover_class_1[:7]\n",
        "leftover_class_0 = leftover_class_0[7:]\n",
        "leftover_class_1 = leftover_class_1[7:]\n",
        "\n",
        "train_data = leftover_class_0 + leftover_class_1\n",
        "\n",
        "# Split train, val, and test data into sequences and labels\n",
        "sequences_train = [seq for seq, label in train_data]\n",
        "labels_train = [label for seq, label in train_data]\n",
        "\n",
        "sequences_val = [seq for seq, label in val_data]\n",
        "labels_val = [label for seq, label in val_data]\n",
        "\n",
        "sequences_test = [seq for seq, label in test_data]\n",
        "labels_test = [label for seq, label in test_data]\n"
      ]
    },
    {
      "cell_type": "code",
      "execution_count": 8,
      "metadata": {
        "colab": {
          "base_uri": "https://localhost:8080/"
        },
        "id": "NvOwLC4blXPI",
        "outputId": "5d8657df-06a6-4e85-b3b8-e0288f7b2ee9"
      },
      "outputs": [
        {
          "output_type": "stream",
          "name": "stdout",
          "text": [
            "/content/DNABERT/pretrained\n",
            "total 8\n",
            "drwxr-xr-x 3 root root 4096 Jan  8 18:43 dna6\n",
            "drwxr-xr-x 3 root root 4096 Jan  8 18:16 seminar-dlmb-2024-winter-public\n",
            "total 350828\n",
            "-rw-r--r-- 1 root root      1110 Jan  8 18:43 config.json\n",
            "-rw-r--r-- 1 root root 359199902 Jan  8 18:43 pytorch_model.bin\n",
            "-rw-r--r-- 1 root root       112 Jan  8 18:43 special_tokens_map.json\n",
            "-rw-r--r-- 1 root root        40 Jan  8 18:43 tokenizer_config.json\n",
            "-rw-r--r-- 1 root root     28703 Jan  8 18:43 vocab.txt\n"
          ]
        }
      ],
      "source": [
        "%cd /content/DNABERT/pretrained/\n",
        "\n",
        "!ls -l /content/DNABERT/pretrained/\n",
        "\n",
        "!mv /content/DNABERT/pretrained/dna6/6-new-12w-0/* /content/DNABERT/pretrained/dna6/\n",
        "\n",
        "!rm -rf /content/DNABERT/pretrained/dna6/6-new-12w-0\n",
        "\n",
        "!ls -l /content/DNABERT/pretrained/dna6"
      ]
    },
    {
      "cell_type": "code",
      "execution_count": 9,
      "metadata": {
        "id": "ATzFDB3ek-Mz"
      },
      "outputs": [],
      "source": [
        "class SEQTokenizer_Kmers:\n",
        "    \"\"\"Custom tokenizer for DNA sequences with k-mers, truncation, and padding.\"\"\"\n",
        "    def __init__(self, k, max_length=512, pad_token_id=0):\n",
        "        self.k = k\n",
        "        self.max_length = max_length\n",
        "        self.pad_token_id = pad_token_id\n",
        "\n",
        "        # Create vocabulary of all possible k-mers\n",
        "        self.vocab = [''.join(kmer) for kmer in product('ATCG', repeat=k)]\n",
        "        self.token_to_id = {token: i for i, token in enumerate(self.vocab)}\n",
        "\n",
        "    def encode(self, sequence):\n",
        "        \"\"\"\n",
        "        Tokenizes the input sequence into k-mers and maps them to token IDs.\n",
        "        Pads and truncates the tokenized output to max_length.\n",
        "\n",
        "        Args:\n",
        "            sequence (str): Input DNA sequence.\n",
        "\n",
        "        Returns:\n",
        "            List[int]: Tokenized sequence with padding and truncation applied.\n",
        "        \"\"\"\n",
        "        # Generate k-mers and convert to token IDs\n",
        "        kmers = [sequence[i:i+self.k] for i in range(len(sequence) - self.k + 1)]\n",
        "        token_ids = [self.token_to_id[kmer] for kmer in kmers if kmer in self.token_to_id]\n",
        "\n",
        "        # Truncate to max_length\n",
        "        token_ids = token_ids[::3]\n",
        "        token_ids = token_ids[:self.max_length]\n",
        "\n",
        "        # Pad if the sequence is shorter than max_length\n",
        "        if len(token_ids) < self.max_length:\n",
        "            token_ids += [self.pad_token_id] * (self.max_length - len(token_ids))\n",
        "\n",
        "        return token_ids\n",
        "\n",
        "tokenizer = SEQTokenizer_Kmers(k=6)"
      ]
    },
    {
      "cell_type": "code",
      "execution_count": 10,
      "metadata": {
        "colab": {
          "base_uri": "https://localhost:8080/"
        },
        "id": "XGizrBCTlu4a",
        "outputId": "ab2b6f73-4112-43d2-be4c-a226e3d78b45"
      },
      "outputs": [
        {
          "output_type": "stream",
          "name": "stdout",
          "text": [
            "{'input_ids': [1109, 1349, 341, 1380, 2305, 64, 44, 2839, 1477, 326, 388, 284, 1800, 517, 333, 889, 3649, 104, 2619, 3785, 591, 993, 2168, 3624, 2600, 2567, 452, 311, 3521, 65, 124, 3869, 1881, 1658, 3746, 2180, 293, 2388, 1336, 3592, 564, 3349, 1402, 3733, 1372, 1796, 261, 382, 3996, 1820, 1793, 89, 1608, 565, 3452, 3901, 3944, 2576, 1049, 1620, 1300, 1284, 257, 89, 1637, 2428, 3859, 1242, 1723, 3805, 1865, 596, 1320, 2585, 1627, 1737, 584, 525, 852, 1296, 1049, 1621, 1364, 1316, 2304, 24, 1573, 2429, 3904, 8, 539, 1747, 1228, 792, 1557, 1368, 1544, 528, 1041, 1110, 1428, 1320, 2581, 1350, 421, 2398, 1944, 1577, 2644, 1330, 3201, 69, 341, 1352, 529, 1108, 1298, 1180, 1816, 1537, 112, 3117, 2906, 1669, 321, 120, 3606, 1450, 2694, 388, 276, 1325, 2910, 1942, 1435, 1768, 2600, 2575, 981, 1364, 1299, 1241, 1641, 2680, 3626, 2695, 452, 265, 604, 1812, 1285, 356, 2305, 84, 1321, 2669, 2900, 1332, 3380, 3334, 436, 3359, 2007, 1488, 1045, 1401, 3700, 3352, 1573, 2417, 3176, 2613, 3413, 1344, 40, 2585, 1652, 3368, 2622, 3968, 38, 2437, 341, 1400, 3625, 2650, 1665, 112, 3075, 215, 1473, 119, 3536, 1042, 1204, 3337, 632, 3614, 1973, 3445, 3453, 3961, 3650, 158, 1941, 1396, 3331, 217, 1601, 69, 340, 1341, 3958, 3481, 1620, 1286, 395, 733, 1856, 25, 1600, 7, 504, 3587, 217, 1636, 2363, 3830, 3509, 3400, 564, 3373, 2905, 1631, 2009, 1620, 1298, 1173, 1397, 3453, 3960, 3585, 116, 3373, 2881, 101, 2416, 3093, 1368, 1592, 3626, 2741, 3452, 3863, 1483, 704, 29, 1908, 3349, 1366, 1413, 363, 2756, 313, 3668, 1337, 3671, 1492, 1302, 1413, 320, 24, 1547, 704, 27, 1767, 2551, 3541, 1365, 1393, 3146, 662, 1428, 1337, 3648, 5, 321, 122, 3771, 3832, 3604, 1316, 2352, 3092, 1329, 3145, 628, 3333, 349, 1857, 79, 985, 1659, 3781, 374, 3489, 2121, 605, 1896, 2620, 3857, 1101, 854, 1460, 3348, 1318, 2434, 152, 1597, 3917, 884, 3378, 3204, 260, 273, 1113, 1623, 1494, 1462, 3461, 375, 3529, 631, 3544, 1560, 1549, 880, 3086, 926, 1962, 2708, 1301, 1352, 569, 3674, 1665, 117, 3395, 210, 1157, 374, 3461, 321, 84, 1334, 3460, 306, 3257, 3708, 3862, 1442, 2196, 1332, 3355, 1732, 279, 1489, 1116, 1810, 1165, 833, 93, 1896, 2613, 3420, 1828, 2312, 532, 1288, 568, 3622, 2486, 3517, 3931, 1745, 1144, 3642, 3762, 3200, 41, 2680, 3600, 1064, 2577, 1116, 1813, 1401, 3705, 3677, 1864, 575, 4085, 3403, 728, 1575, 2516, 1336, 3641, 3677, 1912, 3601, 1149, 3958, 3460, 260, 293, 2369, 117, 3392, 33, 2112, 7, 455, 452, 260, 305, 3141, 320, 21, 1366, 1412, 0, 0, 0, 0, 0, 0, 0, 0, 0, 0, 0, 0, 0, 0, 0, 0, 0, 0, 0, 0, 0, 0, 0, 0, 0, 0, 0, 0, 0, 0, 0, 0, 0, 0, 0, 0, 0, 0, 0, 0, 0, 0, 0, 0, 0, 0, 0, 0, 0, 0, 0, 0, 0, 0, 0, 0, 0, 0, 0, 0, 0, 0, 0, 0, 0, 0, 0, 0, 0, 0, 0, 0, 0, 0, 0, 0, 0, 0, 0, 0, 0], 'labels': 1}\n"
          ]
        }
      ],
      "source": [
        "# Tokenize the datasets using the encode method\n",
        "train_tokenized = [tokenizer.encode(seq) for seq in sequences_train]\n",
        "test_tokenized = [tokenizer.encode(seq) for seq in sequences_test]\n",
        "val_tokenized = [tokenizer.encode(seq) for seq in sequences_val]\n",
        "\n",
        "# Convert the tokenized data into Hugging Face Dataset objects\n",
        "train_dataset = Dataset.from_dict({\"input_ids\": train_tokenized})\n",
        "test_dataset = Dataset.from_dict({\"input_ids\": test_tokenized})\n",
        "val_dataset = Dataset.from_dict({\"input_ids\": val_tokenized})\n",
        "\n",
        "# Add the labels to each dataset\n",
        "train_dataset = train_dataset.add_column(\"labels\", labels_train)\n",
        "test_dataset = test_dataset.add_column(\"labels\", labels_test)\n",
        "val_dataset = val_dataset.add_column(\"labels\", labels_val)\n",
        "\n",
        "# Shuffle the datasets\n",
        "train_dataset = train_dataset.shuffle(seed=seed)\n",
        "test_dataset = test_dataset.shuffle(seed=seed)\n",
        "val_dataset = val_dataset.shuffle(seed=seed)\n",
        "\n",
        "# Print the first training example\n",
        "print(train_dataset[0])"
      ]
    },
    {
      "cell_type": "code",
      "execution_count": 11,
      "metadata": {
        "colab": {
          "base_uri": "https://localhost:8080/"
        },
        "id": "_PF3-BTwumzB",
        "outputId": "512a8de0-593e-4e86-897d-f7f86b8a80ef"
      },
      "outputs": [
        {
          "output_type": "stream",
          "name": "stdout",
          "text": [
            "[1296, 1296, 1296, 1296, 1296, 1296, 1296, 1296, 1296, 1296, 1296, 1296, 1296, 1296, 1296, 1296, 1296, 1296, 1296, 1296, 1296, 1296, 1296, 1296, 1296, 1296, 1296, 1296, 1296, 1296, 1296, 1296, 1296, 1296, 1296, 1296, 1296, 1296, 1296, 1296, 1296, 1296, 1296, 1296, 1296, 1296, 1296, 1296, 1296, 1296, 1296, 1296, 1296, 1296, 1296, 1296, 1296, 1296, 1296, 1296, 1296, 1296, 1296, 1296, 1296, 1296, 1296, 1296, 1296, 1296, 1296, 1296, 1296, 1296, 1296, 1296, 1296, 1296, 1296, 1296, 1296, 1296, 1296, 1296, 1296, 1296, 1296, 1296, 1296, 1296, 1296, 1296, 1296, 1296, 1296, 1296, 1296, 1296, 1296, 1296, 1296, 1296, 1296, 1296, 1296, 1296, 1296, 1296, 1296, 1296, 1296, 1296, 1296, 1296, 1296, 1296, 1296, 1296, 1296, 1296, 1296, 1296, 1296, 1296, 1296, 1296, 1296, 1296, 1296, 1296, 1296, 1296, 1296, 1296, 1296, 1296, 1296, 1296, 1296, 1296, 1296, 1296, 1296, 1296, 1296, 1296, 1296, 1296, 1296, 1296]\n"
          ]
        }
      ],
      "source": [
        "# Print the sequence lenghts of all available sequences\n",
        "all_sequences = sequences_train + sequences_test + sequences_val\n",
        "\n",
        "seq_lengths = [len(seq) for seq in all_sequences]\n",
        "print(seq_lengths)"
      ]
    },
    {
      "cell_type": "code",
      "execution_count": 12,
      "metadata": {
        "colab": {
          "base_uri": "https://localhost:8080/"
        },
        "id": "pFKeCpWvXPiT",
        "outputId": "2a9cd8a4-b851-424c-8185-d20e869fc6b5"
      },
      "outputs": [
        {
          "output_type": "stream",
          "name": "stdout",
          "text": [
            "Class Weights: tensor([2.3462, 0.6354])\n"
          ]
        }
      ],
      "source": [
        "# Get labels from the training dataset\n",
        "labels = train_dataset[\"labels\"]\n",
        "\n",
        "# Compute class weights so classes seem balanced\n",
        "class_weights = compute_class_weight(\n",
        "    class_weight=\"balanced\",\n",
        "    classes=np.unique(labels),\n",
        "    y=labels\n",
        ")\n",
        "\n",
        "# Convert to PyTorch tensor\n",
        "class_weights_tensor = torch.tensor(class_weights, dtype=torch.float)\n",
        "print(\"Class Weights:\", class_weights_tensor)"
      ]
    },
    {
      "cell_type": "code",
      "execution_count": 13,
      "metadata": {
        "colab": {
          "base_uri": "https://localhost:8080/"
        },
        "id": "8fGg8kfKW18i",
        "outputId": "9c30efff-f8a3-4b2e-de61-066658dfd4d8"
      },
      "outputs": [
        {
          "output_type": "stream",
          "name": "stderr",
          "text": [
            "Some weights of BertForSequenceClassification were not initialized from the model checkpoint at /content/DNABERT/pretrained/dna6 and are newly initialized: ['classifier.bias', 'classifier.weight']\n",
            "You should probably TRAIN this model on a down-stream task to be able to use it for predictions and inference.\n"
          ]
        }
      ],
      "source": [
        "# Define a custom model with weighted loss\n",
        "class WeightedModel(torch.nn.Module):\n",
        "    def __init__(self, model_name, class_weights):\n",
        "        super().__init__()\n",
        "        self.model = BertForSequenceClassification.from_pretrained(model_name, num_labels=len(class_weights))\n",
        "        self.loss_fn = torch.nn.CrossEntropyLoss(weight=class_weights)\n",
        "\n",
        "    def forward(self, input_ids, attention_mask, labels=None):\n",
        "        outputs = self.model(input_ids=input_ids, attention_mask=attention_mask)\n",
        "        logits = outputs.logits\n",
        "\n",
        "        if labels is not None:\n",
        "            loss = self.loss_fn(logits, labels)\n",
        "            return {\"loss\": loss, \"logits\": logits}\n",
        "        else:\n",
        "            return {\"logits\": logits}\n",
        "\n",
        "# Initialize the model with class weights\n",
        "model = WeightedModel(\"/content/DNABERT/pretrained/dna6\", class_weights_tensor)\n"
      ]
    },
    {
      "cell_type": "code",
      "execution_count": 14,
      "metadata": {
        "colab": {
          "base_uri": "https://localhost:8080/"
        },
        "id": "yUi378jjmVc5",
        "outputId": "9863fb8f-0c24-4e33-bfe5-3b50b9647002"
      },
      "outputs": [
        {
          "output_type": "stream",
          "name": "stdout",
          "text": [
            "Vocabulary file created at: /content/DNABERT/pretrained/dna6/vocab.txt\n"
          ]
        }
      ],
      "source": [
        "def create_kmer_vocab(k):\n",
        "    # Generate all possible k-mers using the alphabet \"A\", \"T\", \"C\", \"G\"\n",
        "    alphabet = \"ATCG\"\n",
        "    kmers = [''.join(p) for p in product(alphabet, repeat=k)]\n",
        "    return kmers\n",
        "\n",
        "# Set k-mer size\n",
        "k = 6\n",
        "\n",
        "# Generate vocabulary\n",
        "vocab = create_kmer_vocab(k)\n",
        "\n",
        "# Save the vocabulary to a file\n",
        "vocab_file_path = \"/content/DNABERT/pretrained/dna6/vocab.txt\"\n",
        "with open(vocab_file_path, \"w\") as f:\n",
        "    f.write(\"\\n\".join(vocab))\n",
        "\n",
        "print(f\"Vocabulary file created at: {vocab_file_path}\")\n",
        "\n",
        "# Load the tokenizer with the new vocabulary file\n",
        "tokenizer = BertTokenizer.from_pretrained(\n",
        "    \"/content/DNABERT/pretrained/dna6\",\n",
        "    vocab_file=\"/content/DNABERT/pretrained/dna6/vocab.txt\"\n",
        ")"
      ]
    },
    {
      "cell_type": "code",
      "execution_count": 15,
      "metadata": {
        "colab": {
          "base_uri": "https://localhost:8080/"
        },
        "id": "zynUn96ymbDc",
        "outputId": "4a710c05-cfea-49b7-fcc6-ae57e27d2556"
      },
      "outputs": [
        {
          "output_type": "stream",
          "name": "stderr",
          "text": [
            "/usr/local/lib/python3.10/dist-packages/transformers/training_args.py:1575: FutureWarning: `evaluation_strategy` is deprecated and will be removed in version 4.46 of 🤗 Transformers. Use `eval_strategy` instead\n",
            "  warnings.warn(\n",
            "Using the `WANDB_DISABLED` environment variable is deprecated and will be removed in v5. Use the --report_to flag to control the integrations used for logging result (for instance --report_to none).\n"
          ]
        }
      ],
      "source": [
        "OUTPUT_PATH = \"/content/DNABERT/output\"  # Define a permanent output directory\n",
        "\n",
        "training_args = TrainingArguments(\n",
        "    output_dir=OUTPUT_PATH,  # Save outputs to a permanent directory\n",
        "    evaluation_strategy=\"epoch\",  # Evaluate at the end of every epoch\n",
        "    logging_strategy=\"epoch\",     # Log training/validation loss every epoch\n",
        "    save_strategy=\"epoch\",        # Save checkpoints at the end of each epoch\n",
        "    save_total_limit=1,           # Keep the last checkpoint\n",
        "    per_device_train_batch_size = 16,\n",
        "    per_device_eval_batch_size = 16,\n",
        "    num_train_epochs=50,\n",
        "    learning_rate=1e-5,\n",
        "    weight_decay=0.01,\n",
        "    logging_dir=f\"{OUTPUT_PATH}/logs\",\n",
        ")\n",
        "\n",
        "os.makedirs(OUTPUT_PATH, exist_ok=True)"
      ]
    },
    {
      "cell_type": "code",
      "execution_count": 16,
      "metadata": {
        "colab": {
          "base_uri": "https://localhost:8080/"
        },
        "id": "ucdIcdt3mgA5",
        "outputId": "29f9f10f-6160-44f7-c349-b3c001131a63"
      },
      "outputs": [
        {
          "output_type": "stream",
          "name": "stderr",
          "text": [
            "<ipython-input-16-373c322edf99>:2: FutureWarning: `tokenizer` is deprecated and will be removed in version 5.0.0 for `Trainer.__init__`. Use `processing_class` instead.\n",
            "  trainer = Trainer(\n"
          ]
        }
      ],
      "source": [
        "# Define Trainer\n",
        "trainer = Trainer(\n",
        "    model=model,\n",
        "    args=training_args,\n",
        "    train_dataset=train_dataset,\n",
        "    eval_dataset=val_dataset,\n",
        "    tokenizer=tokenizer,\n",
        ")"
      ]
    },
    {
      "cell_type": "code",
      "execution_count": 17,
      "metadata": {
        "colab": {
          "base_uri": "https://localhost:8080/",
          "height": 1000
        },
        "id": "uxWc_e5ZmkQz",
        "outputId": "e2449ff8-8f33-4a02-901c-c98447c64a96"
      },
      "outputs": [
        {
          "metadata": {
            "tags": null
          },
          "name": "stdout",
          "output_type": "stream",
          "text": [
            "Starting training...\n"
          ]
        },
        {
          "data": {
            "text/html": [
              "\n",
              "    <div>\n",
              "      \n",
              "      <progress value='262' max='400' style='width:300px; height:20px; vertical-align: middle;'></progress>\n",
              "      [262/400 09:30 < 05:02, 0.46 it/s, Epoch 32.62/50]\n",
              "    </div>\n",
              "    <table border=\"1\" class=\"dataframe\">\n",
              "  <thead>\n",
              " <tr style=\"text-align: left;\">\n",
              "      <th>Epoch</th>\n",
              "      <th>Training Loss</th>\n",
              "      <th>Validation Loss</th>\n",
              "    </tr>\n",
              "  </thead>\n",
              "  <tbody>\n",
              "    <tr>\n",
              "      <td>1</td>\n",
              "      <td>0.710800</td>\n",
              "      <td>0.663993</td>\n",
              "    </tr>\n",
              "    <tr>\n",
              "      <td>2</td>\n",
              "      <td>0.693300</td>\n",
              "      <td>0.687491</td>\n",
              "    </tr>\n",
              "    <tr>\n",
              "      <td>3</td>\n",
              "      <td>0.698000</td>\n",
              "      <td>0.681142</td>\n",
              "    </tr>\n",
              "    <tr>\n",
              "      <td>4</td>\n",
              "      <td>0.657300</td>\n",
              "      <td>0.617824</td>\n",
              "    </tr>\n",
              "    <tr>\n",
              "      <td>5</td>\n",
              "      <td>0.666400</td>\n",
              "      <td>0.606835</td>\n",
              "    </tr>\n",
              "    <tr>\n",
              "      <td>6</td>\n",
              "      <td>0.677200</td>\n",
              "      <td>0.614219</td>\n",
              "    </tr>\n",
              "    <tr>\n",
              "      <td>7</td>\n",
              "      <td>0.658800</td>\n",
              "      <td>0.640529</td>\n",
              "    </tr>\n",
              "    <tr>\n",
              "      <td>8</td>\n",
              "      <td>0.655200</td>\n",
              "      <td>0.648652</td>\n",
              "    </tr>\n",
              "    <tr>\n",
              "      <td>9</td>\n",
              "      <td>0.658900</td>\n",
              "      <td>0.618698</td>\n",
              "    </tr>\n",
              "    <tr>\n",
              "      <td>10</td>\n",
              "      <td>0.650500</td>\n",
              "      <td>0.624025</td>\n",
              "    </tr>\n",
              "    <tr>\n",
              "      <td>11</td>\n",
              "      <td>0.638600</td>\n",
              "      <td>0.659315</td>\n",
              "    </tr>\n",
              "    <tr>\n",
              "      <td>12</td>\n",
              "      <td>0.650500</td>\n",
              "      <td>0.679989</td>\n",
              "    </tr>\n",
              "    <tr>\n",
              "      <td>13</td>\n",
              "      <td>0.638900</td>\n",
              "      <td>0.678679</td>\n",
              "    </tr>\n",
              "    <tr>\n",
              "      <td>14</td>\n",
              "      <td>0.637100</td>\n",
              "      <td>0.660684</td>\n",
              "    </tr>\n",
              "    <tr>\n",
              "      <td>15</td>\n",
              "      <td>0.663400</td>\n",
              "      <td>0.649345</td>\n",
              "    </tr>\n",
              "    <tr>\n",
              "      <td>16</td>\n",
              "      <td>0.624100</td>\n",
              "      <td>0.654351</td>\n",
              "    </tr>\n",
              "    <tr>\n",
              "      <td>17</td>\n",
              "      <td>0.604200</td>\n",
              "      <td>0.647868</td>\n",
              "    </tr>\n",
              "    <tr>\n",
              "      <td>18</td>\n",
              "      <td>0.636100</td>\n",
              "      <td>0.664825</td>\n",
              "    </tr>\n",
              "    <tr>\n",
              "      <td>19</td>\n",
              "      <td>0.616900</td>\n",
              "      <td>0.698721</td>\n",
              "    </tr>\n",
              "    <tr>\n",
              "      <td>20</td>\n",
              "      <td>0.649600</td>\n",
              "      <td>0.663231</td>\n",
              "    </tr>\n",
              "    <tr>\n",
              "      <td>21</td>\n",
              "      <td>0.633000</td>\n",
              "      <td>0.602962</td>\n",
              "    </tr>\n",
              "    <tr>\n",
              "      <td>22</td>\n",
              "      <td>0.610400</td>\n",
              "      <td>0.649585</td>\n",
              "    </tr>\n",
              "    <tr>\n",
              "      <td>23</td>\n",
              "      <td>0.605000</td>\n",
              "      <td>0.667503</td>\n",
              "    </tr>\n",
              "    <tr>\n",
              "      <td>24</td>\n",
              "      <td>0.606900</td>\n",
              "      <td>0.719852</td>\n",
              "    </tr>\n",
              "    <tr>\n",
              "      <td>25</td>\n",
              "      <td>0.635700</td>\n",
              "      <td>0.696705</td>\n",
              "    </tr>\n",
              "    <tr>\n",
              "      <td>26</td>\n",
              "      <td>0.597700</td>\n",
              "      <td>0.640222</td>\n",
              "    </tr>\n",
              "    <tr>\n",
              "      <td>27</td>\n",
              "      <td>0.573100</td>\n",
              "      <td>0.591497</td>\n",
              "    </tr>\n",
              "    <tr>\n",
              "      <td>28</td>\n",
              "      <td>0.574300</td>\n",
              "      <td>0.581679</td>\n",
              "    </tr>\n",
              "    <tr>\n",
              "      <td>29</td>\n",
              "      <td>0.608400</td>\n",
              "      <td>0.626341</td>\n",
              "    </tr>\n",
              "    <tr>\n",
              "      <td>30</td>\n",
              "      <td>0.570500</td>\n",
              "      <td>0.623209</td>\n",
              "    </tr>\n",
              "    <tr>\n",
              "      <td>31</td>\n",
              "      <td>0.545000</td>\n",
              "      <td>0.616087</td>\n",
              "    </tr>\n",
              "    <tr>\n",
              "      <td>32</td>\n",
              "      <td>0.580500</td>\n",
              "      <td>0.607079</td>\n",
              "    </tr>\n",
              "  </tbody>\n",
              "</table><p>"
            ],
            "text/plain": [
              "<IPython.core.display.HTML object>"
            ]
          },
          "metadata": {},
          "output_type": "display_data"
        },
        {
          "output_type": "display_data",
          "data": {
            "text/plain": [
              "<IPython.core.display.HTML object>"
            ],
            "text/html": [
              "\n",
              "    <div>\n",
              "      \n",
              "      <progress value='400' max='400' style='width:300px; height:20px; vertical-align: middle;'></progress>\n",
              "      [400/400 14:46, Epoch 50/50]\n",
              "    </div>\n",
              "    <table border=\"1\" class=\"dataframe\">\n",
              "  <thead>\n",
              " <tr style=\"text-align: left;\">\n",
              "      <th>Epoch</th>\n",
              "      <th>Training Loss</th>\n",
              "      <th>Validation Loss</th>\n",
              "    </tr>\n",
              "  </thead>\n",
              "  <tbody>\n",
              "    <tr>\n",
              "      <td>1</td>\n",
              "      <td>0.710800</td>\n",
              "      <td>0.663993</td>\n",
              "    </tr>\n",
              "    <tr>\n",
              "      <td>2</td>\n",
              "      <td>0.693300</td>\n",
              "      <td>0.687491</td>\n",
              "    </tr>\n",
              "    <tr>\n",
              "      <td>3</td>\n",
              "      <td>0.698000</td>\n",
              "      <td>0.681142</td>\n",
              "    </tr>\n",
              "    <tr>\n",
              "      <td>4</td>\n",
              "      <td>0.657300</td>\n",
              "      <td>0.617824</td>\n",
              "    </tr>\n",
              "    <tr>\n",
              "      <td>5</td>\n",
              "      <td>0.666400</td>\n",
              "      <td>0.606835</td>\n",
              "    </tr>\n",
              "    <tr>\n",
              "      <td>6</td>\n",
              "      <td>0.677200</td>\n",
              "      <td>0.614219</td>\n",
              "    </tr>\n",
              "    <tr>\n",
              "      <td>7</td>\n",
              "      <td>0.658800</td>\n",
              "      <td>0.640529</td>\n",
              "    </tr>\n",
              "    <tr>\n",
              "      <td>8</td>\n",
              "      <td>0.655200</td>\n",
              "      <td>0.648652</td>\n",
              "    </tr>\n",
              "    <tr>\n",
              "      <td>9</td>\n",
              "      <td>0.658900</td>\n",
              "      <td>0.618698</td>\n",
              "    </tr>\n",
              "    <tr>\n",
              "      <td>10</td>\n",
              "      <td>0.650500</td>\n",
              "      <td>0.624025</td>\n",
              "    </tr>\n",
              "    <tr>\n",
              "      <td>11</td>\n",
              "      <td>0.638600</td>\n",
              "      <td>0.659315</td>\n",
              "    </tr>\n",
              "    <tr>\n",
              "      <td>12</td>\n",
              "      <td>0.650500</td>\n",
              "      <td>0.679989</td>\n",
              "    </tr>\n",
              "    <tr>\n",
              "      <td>13</td>\n",
              "      <td>0.638900</td>\n",
              "      <td>0.678679</td>\n",
              "    </tr>\n",
              "    <tr>\n",
              "      <td>14</td>\n",
              "      <td>0.637100</td>\n",
              "      <td>0.660684</td>\n",
              "    </tr>\n",
              "    <tr>\n",
              "      <td>15</td>\n",
              "      <td>0.663400</td>\n",
              "      <td>0.649345</td>\n",
              "    </tr>\n",
              "    <tr>\n",
              "      <td>16</td>\n",
              "      <td>0.624100</td>\n",
              "      <td>0.654351</td>\n",
              "    </tr>\n",
              "    <tr>\n",
              "      <td>17</td>\n",
              "      <td>0.604200</td>\n",
              "      <td>0.647868</td>\n",
              "    </tr>\n",
              "    <tr>\n",
              "      <td>18</td>\n",
              "      <td>0.636100</td>\n",
              "      <td>0.664825</td>\n",
              "    </tr>\n",
              "    <tr>\n",
              "      <td>19</td>\n",
              "      <td>0.616900</td>\n",
              "      <td>0.698721</td>\n",
              "    </tr>\n",
              "    <tr>\n",
              "      <td>20</td>\n",
              "      <td>0.649600</td>\n",
              "      <td>0.663231</td>\n",
              "    </tr>\n",
              "    <tr>\n",
              "      <td>21</td>\n",
              "      <td>0.633000</td>\n",
              "      <td>0.602962</td>\n",
              "    </tr>\n",
              "    <tr>\n",
              "      <td>22</td>\n",
              "      <td>0.610400</td>\n",
              "      <td>0.649585</td>\n",
              "    </tr>\n",
              "    <tr>\n",
              "      <td>23</td>\n",
              "      <td>0.605000</td>\n",
              "      <td>0.667503</td>\n",
              "    </tr>\n",
              "    <tr>\n",
              "      <td>24</td>\n",
              "      <td>0.606900</td>\n",
              "      <td>0.719852</td>\n",
              "    </tr>\n",
              "    <tr>\n",
              "      <td>25</td>\n",
              "      <td>0.635700</td>\n",
              "      <td>0.696705</td>\n",
              "    </tr>\n",
              "    <tr>\n",
              "      <td>26</td>\n",
              "      <td>0.597700</td>\n",
              "      <td>0.640222</td>\n",
              "    </tr>\n",
              "    <tr>\n",
              "      <td>27</td>\n",
              "      <td>0.573100</td>\n",
              "      <td>0.591497</td>\n",
              "    </tr>\n",
              "    <tr>\n",
              "      <td>28</td>\n",
              "      <td>0.574300</td>\n",
              "      <td>0.581679</td>\n",
              "    </tr>\n",
              "    <tr>\n",
              "      <td>29</td>\n",
              "      <td>0.608400</td>\n",
              "      <td>0.626341</td>\n",
              "    </tr>\n",
              "    <tr>\n",
              "      <td>30</td>\n",
              "      <td>0.570500</td>\n",
              "      <td>0.623209</td>\n",
              "    </tr>\n",
              "    <tr>\n",
              "      <td>31</td>\n",
              "      <td>0.545000</td>\n",
              "      <td>0.616087</td>\n",
              "    </tr>\n",
              "    <tr>\n",
              "      <td>32</td>\n",
              "      <td>0.580500</td>\n",
              "      <td>0.607079</td>\n",
              "    </tr>\n",
              "    <tr>\n",
              "      <td>33</td>\n",
              "      <td>0.562000</td>\n",
              "      <td>0.603620</td>\n",
              "    </tr>\n",
              "    <tr>\n",
              "      <td>34</td>\n",
              "      <td>0.539600</td>\n",
              "      <td>0.638264</td>\n",
              "    </tr>\n",
              "    <tr>\n",
              "      <td>35</td>\n",
              "      <td>0.545400</td>\n",
              "      <td>0.625283</td>\n",
              "    </tr>\n",
              "    <tr>\n",
              "      <td>36</td>\n",
              "      <td>0.549900</td>\n",
              "      <td>0.666987</td>\n",
              "    </tr>\n",
              "    <tr>\n",
              "      <td>37</td>\n",
              "      <td>0.550200</td>\n",
              "      <td>0.620349</td>\n",
              "    </tr>\n",
              "    <tr>\n",
              "      <td>38</td>\n",
              "      <td>0.484200</td>\n",
              "      <td>0.606947</td>\n",
              "    </tr>\n",
              "    <tr>\n",
              "      <td>39</td>\n",
              "      <td>0.502000</td>\n",
              "      <td>0.616002</td>\n",
              "    </tr>\n",
              "    <tr>\n",
              "      <td>40</td>\n",
              "      <td>0.502500</td>\n",
              "      <td>0.623052</td>\n",
              "    </tr>\n",
              "    <tr>\n",
              "      <td>41</td>\n",
              "      <td>0.484600</td>\n",
              "      <td>0.626354</td>\n",
              "    </tr>\n",
              "    <tr>\n",
              "      <td>42</td>\n",
              "      <td>0.489300</td>\n",
              "      <td>0.654833</td>\n",
              "    </tr>\n",
              "    <tr>\n",
              "      <td>43</td>\n",
              "      <td>0.484500</td>\n",
              "      <td>0.707916</td>\n",
              "    </tr>\n",
              "    <tr>\n",
              "      <td>44</td>\n",
              "      <td>0.513300</td>\n",
              "      <td>0.731322</td>\n",
              "    </tr>\n",
              "    <tr>\n",
              "      <td>45</td>\n",
              "      <td>0.491500</td>\n",
              "      <td>0.719950</td>\n",
              "    </tr>\n",
              "    <tr>\n",
              "      <td>46</td>\n",
              "      <td>0.471400</td>\n",
              "      <td>0.701002</td>\n",
              "    </tr>\n",
              "    <tr>\n",
              "      <td>47</td>\n",
              "      <td>0.496200</td>\n",
              "      <td>0.686535</td>\n",
              "    </tr>\n",
              "    <tr>\n",
              "      <td>48</td>\n",
              "      <td>0.493900</td>\n",
              "      <td>0.673185</td>\n",
              "    </tr>\n",
              "    <tr>\n",
              "      <td>49</td>\n",
              "      <td>0.457300</td>\n",
              "      <td>0.669447</td>\n",
              "    </tr>\n",
              "    <tr>\n",
              "      <td>50</td>\n",
              "      <td>0.473600</td>\n",
              "      <td>0.669454</td>\n",
              "    </tr>\n",
              "  </tbody>\n",
              "</table><p>"
            ]
          },
          "metadata": {}
        },
        {
          "output_type": "stream",
          "name": "stdout",
          "text": [
            "Evaluating model on test set...\n"
          ]
        },
        {
          "output_type": "display_data",
          "data": {
            "text/plain": [
              "<IPython.core.display.HTML object>"
            ],
            "text/html": [
              "\n",
              "    <div>\n",
              "      \n",
              "      <progress value='1' max='1' style='width:300px; height:20px; vertical-align: middle;'></progress>\n",
              "      [1/1 : < :]\n",
              "    </div>\n",
              "    "
            ]
          },
          "metadata": {}
        },
        {
          "output_type": "stream",
          "name": "stdout",
          "text": [
            "Test Results: {'eval_loss': 0.7694844007492065, 'eval_runtime': 0.4444, 'eval_samples_per_second': 31.5, 'eval_steps_per_second': 2.25, 'epoch': 50.0}\n"
          ]
        }
      ],
      "source": [
        "# Train the model\n",
        "print(\"Starting training...\")\n",
        "trainer.train()\n",
        "\n",
        "# Evaluate the model\n",
        "print(\"Evaluating model on test set...\")\n",
        "results = trainer.evaluate(test_dataset)\n",
        "print(\"Test Results:\", results)"
      ]
    },
    {
      "cell_type": "code",
      "execution_count": 18,
      "metadata": {
        "colab": {
          "base_uri": "https://localhost:8080/",
          "height": 466
        },
        "id": "BpMreLFbtxbG",
        "outputId": "3ca323a3-5161-46a1-8c08-2e8697702ab3"
      },
      "outputs": [
        {
          "output_type": "display_data",
          "data": {
            "text/plain": [
              "<Figure size 640x480 with 1 Axes>"
            ],
            "image/png": "[encoded data removed]"
          },
          "metadata": {}
        },
        {
          "output_type": "stream",
          "name": "stdout",
          "text": [
            "51\n"
          ]
        }
      ],
      "source": [
        "history = trainer.state.log_history\n",
        "\n",
        "train_loss = [log[\"loss\"] for log in history if \"loss\" in log]\n",
        "val_loss = [log[\"eval_loss\"] for log in history if \"eval_loss\" in log]\n",
        "\n",
        "plt.plot(train_loss, label=\"Training Loss\")\n",
        "plt.plot(val_loss[:-1], label=\"Validation Loss\")\n",
        "plt.xlabel(\"Steps\")\n",
        "plt.ylabel(\"Loss\")\n",
        "plt.xlim(0, len(train_loss))\n",
        "plt.ylim(0, max(max(train_loss), max(val_loss)))\n",
        "plt.legend()\n",
        "plt.show()\n",
        "\n",
        "print(len(val_loss))"
      ]
    },
    {
      "cell_type": "code",
      "execution_count": 19,
      "metadata": {
        "colab": {
          "base_uri": "https://localhost:8080/",
          "height": 364
        },
        "id": "YAjig5m-rMP8",
        "outputId": "39d3fb0e-0012-4fe8-ee3c-703c418b8628"
      },
      "outputs": [
        {
          "output_type": "display_data",
          "data": {
            "text/plain": [
              "<IPython.core.display.HTML object>"
            ],
            "text/html": []
          },
          "metadata": {}
        },
        {
          "output_type": "stream",
          "name": "stdout",
          "text": [
            "[[-0.7102757   0.8857736 ]\n",
            " [-0.27888814  0.0112363 ]\n",
            " [-0.70985657  0.8767716 ]\n",
            " [-0.7749436   0.66632754]\n",
            " [ 1.0308249  -1.2202767 ]\n",
            " [-0.7312328   0.49195063]\n",
            " [-0.70985657  0.8767716 ]\n",
            " [-0.70985657  0.8767716 ]\n",
            " [-0.74370044  0.8647369 ]\n",
            " [ 0.09105238 -0.29403874]\n",
            " [ 1.0468442  -1.2338412 ]\n",
            " [-0.71436155  0.8539766 ]\n",
            " [ 0.20306826 -0.40001315]\n",
            " [-0.9782546   0.7692427 ]]\n",
            "Predicted Classes: [1 1 1 1 0 1 1 1 1 0 0 1 0 1]\n",
            "True Classes: [0 1 1 0 0 1 1 1 0 0 0 1 0 1]\n",
            "Precision: 0.8500\n",
            "Recall: 0.7857\n",
            "F1 Score: 0.7754\n",
            "Accuracy: 0.7857\n"
          ]
        }
      ],
      "source": [
        "predictions = trainer.predict(test_dataset=test_dataset)\n",
        "print(predictions.predictions)  # Raw logits\n",
        "\n",
        "# Get predicted class labels from logits\n",
        "predicted_classes = np.argmax(predictions.predictions, axis=1)\n",
        "true_labels = predictions.label_ids\n",
        "\n",
        "# Display the predicted class labels\n",
        "print(\"Predicted Classes:\", predicted_classes)\n",
        "print(\"True Classes:\", true_labels)    # True labels\n",
        "\n",
        "def compute_metrics(true_labels, predicted_classes):\n",
        "    precision = precision_score(true_labels, predicted_classes, average=\"weighted\")\n",
        "    recall = recall_score(true_labels, predicted_classes, average=\"weighted\")\n",
        "    f1 = f1_score(true_labels, predicted_classes, average=\"weighted\")\n",
        "    accuracy = accuracy_score(true_labels, predicted_classes)\n",
        "\n",
        "    print(f\"Precision: {precision:.4f}\")\n",
        "    print(f\"Recall: {recall:.4f}\")\n",
        "    print(f\"F1 Score: {f1:.4f}\")\n",
        "    print(f\"Accuracy: {accuracy:.4f}\")\n",
        "\n",
        "    return {\"precision\": precision, \"recall\": recall, \"f1\": f1, \"accuracy\": accuracy}\n",
        "\n",
        "# Call the function\n",
        "metrics = compute_metrics(true_labels, predicted_classes)"
      ]
    },
    {
      "cell_type": "code",
      "execution_count": 20,
      "metadata": {
        "colab": {
          "base_uri": "https://localhost:8080/",
          "height": 472
        },
        "id": "4p0HcQNbz1Q9",
        "outputId": "fb584f4c-a119-4638-ba36-d34b0fd48658"
      },
      "outputs": [
        {
          "output_type": "display_data",
          "data": {
            "text/plain": [
              "<Figure size 640x480 with 2 Axes>"
            ],
            "image/png": "[encoded data removed]"
          },
          "metadata": {}
        }
      ],
      "source": [
        "# Calculate confusion matrix\n",
        "conf_matrix = confusion_matrix(true_labels, predicted_classes)\n",
        "\n",
        "# Display confusion matrix\n",
        "disp = ConfusionMatrixDisplay(confusion_matrix=conf_matrix, display_labels=[0, 1])  # Adjust for more classes\n",
        "disp.plot(cmap=\"Blues\", values_format=\"d\")\n",
        "plt.title(\"Confusion Matrix\")\n",
        "plt.show()\n"
      ]
    },
    {
      "cell_type": "code",
      "execution_count": 21,
      "metadata": {
        "colab": {
          "base_uri": "https://localhost:8080/"
        },
        "id": "MCnjokZy0MJy",
        "outputId": "b7bbb4b4-4dee-47fd-f3d2-0c4b43b2ddb7"
      },
      "outputs": [
        {
          "output_type": "stream",
          "name": "stdout",
          "text": [
            "Classification Report:\n",
            "              precision    recall  f1-score   support\n",
            "\n",
            "     Class 0       1.00      0.57      0.73         7\n",
            "     Class 1       0.70      1.00      0.82         7\n",
            "\n",
            "    accuracy                           0.79        14\n",
            "   macro avg       0.85      0.79      0.78        14\n",
            "weighted avg       0.85      0.79      0.78        14\n",
            "\n"
          ]
        }
      ],
      "source": [
        "# Generate detailed class-wise metrics\n",
        "class_report = classification_report(true_labels, predicted_classes, target_names=[\"Class 0\", \"Class 1\"])\n",
        "print(\"Classification Report:\")\n",
        "print(class_report)"
      ]
    },
    {
      "cell_type": "code",
      "execution_count": 22,
      "metadata": {
        "colab": {
          "base_uri": "https://localhost:8080/",
          "height": 569
        },
        "id": "4Cy4EpON0WTg",
        "outputId": "931b098b-3182-4d07-bc48-4809f7cb7072"
      },
      "outputs": [
        {
          "output_type": "display_data",
          "data": {
            "text/plain": [
              "<Figure size 800x600 with 2 Axes>"
            ],
            "image/png": "[encoded data removed]"
          },
          "metadata": {}
        }
      ],
      "source": [
        "# Assuming binary classification and raw logits\n",
        "probabilities = predictions.predictions[:, 1]  # Probabilities for the positive class\n",
        "precision, recall, thresholds = precision_recall_curve(true_labels, probabilities)\n",
        "\n",
        "# Calculate the area under the precision-recall curve\n",
        "pr_auc = auc(recall, precision)\n",
        "\n",
        "# Plot Precision-Recall Curve\n",
        "plt.figure(figsize=(8, 6))\n",
        "plt.plot(recall, precision, label=f'PR Curve (AUC = {pr_auc:.2f})', color='blue', lw=2)\n",
        "\n",
        "# Highlight threshold points with a larger marker size\n",
        "plt.scatter(recall[:-1], precision[:-1], c=thresholds, cmap='viridis', s=50, edgecolor='k', label='Threshold Points')\n",
        "\n",
        "# Annotate thresholds for clarity (every 3rd point)\n",
        "for i in range(0, len(thresholds), 3):\n",
        "    plt.text(recall[i], precision[i], f'{thresholds[i]:.2f}', fontsize=8, color='black')\n",
        "\n",
        "# Enhancements\n",
        "plt.colorbar(label='Threshold')\n",
        "plt.xlabel('Recall', fontsize=12)\n",
        "plt.ylabel('Precision', fontsize=12)\n",
        "plt.title('Enhanced Precision-Recall Curve', fontsize=14)\n",
        "plt.grid(alpha=0.4)\n",
        "plt.legend(fontsize=12)\n",
        "plt.show()\n"
      ]
    },
    {
      "cell_type": "code",
      "execution_count": 23,
      "metadata": {
        "colab": {
          "base_uri": "https://localhost:8080/"
        },
        "id": "dYNHqy5H0bmj",
        "outputId": "e64090cc-d0ec-4c5e-ae4f-431d7abc814f"
      },
      "outputs": [
        {
          "metadata": {
            "tags": null
          },
          "name": "stdout",
          "output_type": "stream",
          "text": [
            "Class Distribution: {0: 7, 1: 7}\n"
          ]
        }
      ],
      "source": [
        "# Analyze class distribution\n",
        "unique, counts = np.unique(true_labels, return_counts=True)\n",
        "print(\"Class Distribution:\", dict(zip(unique, counts)))"
      ]
    }
  ],
  "metadata": {
    "accelerator": "GPU",
    "colab": {
      "gpuType": "T4",
      "provenance": []
    },
    "kernelspec": {
      "display_name": "Python 3",
      "name": "python3"
    },
    "language_info": {
      "name": "python"
    }
  },
  "nbformat": 4,
  "nbformat_minor": 0
}