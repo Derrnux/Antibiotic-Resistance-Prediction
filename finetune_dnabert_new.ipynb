{
  "nbformat": 4,
  "nbformat_minor": 0,
  "metadata": {
    "colab": {
      "provenance": [],
      "gpuType": "A100"
    },
    "kernelspec": {
      "name": "python3",
      "display_name": "Python 3"
    },
    "language_info": {
      "name": "python"
    },
    "accelerator": "GPU"
  },
  "cells": [
    {
      "cell_type": "markdown",
      "source": [
        "Load Libraries"
      ],
      "metadata": {
        "id": "g851Vzkkh_VR"
      }
    },
    {
      "cell_type": "code",
      "source": [
        "!pip install biopython seaborn\n",
        "%pip install biopython\n",
        "%pip install seaborn\n",
        "!pip install -q biopython transformers datasets huggingface_hub accelerate\n",
        "\n",
        "import os\n",
        "import zipfile\n",
        "import torch\n",
        "import random\n",
        "import sys\n",
        "\n",
        "import matplotlib.pyplot as plt\n",
        "import numpy as np\n",
        "\n",
        "from Bio import SeqIO, Entrez\n",
        "from Bio.Seq import Seq\n",
        "from Bio.SeqRecord import SeqRecord\n",
        "from datasets import Dataset\n",
        "from itertools import product\n",
        "from sklearn.metrics import precision_recall_curve, auc, confusion_matrix, ConfusionMatrixDisplay, classification_report, precision_score, recall_score, f1_score, accuracy_score\n",
        "from sklearn.model_selection import train_test_split\n",
        "from sklearn.utils.class_weight import compute_class_weight\n",
        "from transformers import AutoTokenizer, AutoModelForSequenceClassification, Trainer, TrainingArguments, DataCollatorWithPadding, BertForSequenceClassification, BertTokenizer\n",
        "from tqdm import tqdm\n",
        "\n",
        "os.environ[\"WANDB_DISABLED\"] = \"true\"\n",
        "os.environ[\"WANDB_MODE\"] = \"offline\"\n",
        "\n",
        "# Verify wandb is disabled\n",
        "print(\"WANDB_DISABLED:\", os.environ.get(\"WANDB_DISABLED\"))"
      ],
      "metadata": {
        "colab": {
          "base_uri": "https://localhost:8080/"
        },
        "id": "XSXU0VkviCJ2",
        "outputId": "d3218a6b-d57e-4bd0-a01e-dcadab19a1aa"
      },
      "execution_count": 79,
      "outputs": [
        {
          "output_type": "stream",
          "name": "stdout",
          "text": [
            "Requirement already satisfied: biopython in /usr/local/lib/python3.10/dist-packages (1.84)\n",
            "Requirement already satisfied: seaborn in /usr/local/lib/python3.10/dist-packages (0.13.2)\n",
            "Requirement already satisfied: numpy in /usr/local/lib/python3.10/dist-packages (from biopython) (1.26.4)\n",
            "Requirement already satisfied: pandas>=1.2 in /usr/local/lib/python3.10/dist-packages (from seaborn) (2.2.2)\n",
            "Requirement already satisfied: matplotlib!=3.6.1,>=3.4 in /usr/local/lib/python3.10/dist-packages (from seaborn) (3.8.0)\n",
            "Requirement already satisfied: contourpy>=1.0.1 in /usr/local/lib/python3.10/dist-packages (from matplotlib!=3.6.1,>=3.4->seaborn) (1.3.1)\n",
            "Requirement already satisfied: cycler>=0.10 in /usr/local/lib/python3.10/dist-packages (from matplotlib!=3.6.1,>=3.4->seaborn) (0.12.1)\n",
            "Requirement already satisfied: fonttools>=4.22.0 in /usr/local/lib/python3.10/dist-packages (from matplotlib!=3.6.1,>=3.4->seaborn) (4.55.3)\n",
            "Requirement already satisfied: kiwisolver>=1.0.1 in /usr/local/lib/python3.10/dist-packages (from matplotlib!=3.6.1,>=3.4->seaborn) (1.4.7)\n",
            "Requirement already satisfied: packaging>=20.0 in /usr/local/lib/python3.10/dist-packages (from matplotlib!=3.6.1,>=3.4->seaborn) (24.2)\n",
            "Requirement already satisfied: pillow>=6.2.0 in /usr/local/lib/python3.10/dist-packages (from matplotlib!=3.6.1,>=3.4->seaborn) (11.0.0)\n",
            "Requirement already satisfied: pyparsing>=2.3.1 in /usr/local/lib/python3.10/dist-packages (from matplotlib!=3.6.1,>=3.4->seaborn) (3.2.0)\n",
            "Requirement already satisfied: python-dateutil>=2.7 in /usr/local/lib/python3.10/dist-packages (from matplotlib!=3.6.1,>=3.4->seaborn) (2.8.2)\n",
            "Requirement already satisfied: pytz>=2020.1 in /usr/local/lib/python3.10/dist-packages (from pandas>=1.2->seaborn) (2024.2)\n",
            "Requirement already satisfied: tzdata>=2022.7 in /usr/local/lib/python3.10/dist-packages (from pandas>=1.2->seaborn) (2024.2)\n",
            "Requirement already satisfied: six>=1.5 in /usr/local/lib/python3.10/dist-packages (from python-dateutil>=2.7->matplotlib!=3.6.1,>=3.4->seaborn) (1.17.0)\n",
            "Requirement already satisfied: biopython in /usr/local/lib/python3.10/dist-packages (1.84)\n",
            "Requirement already satisfied: numpy in /usr/local/lib/python3.10/dist-packages (from biopython) (1.26.4)\n",
            "Requirement already satisfied: seaborn in /usr/local/lib/python3.10/dist-packages (0.13.2)\n",
            "Requirement already satisfied: numpy!=1.24.0,>=1.20 in /usr/local/lib/python3.10/dist-packages (from seaborn) (1.26.4)\n",
            "Requirement already satisfied: pandas>=1.2 in /usr/local/lib/python3.10/dist-packages (from seaborn) (2.2.2)\n",
            "Requirement already satisfied: matplotlib!=3.6.1,>=3.4 in /usr/local/lib/python3.10/dist-packages (from seaborn) (3.8.0)\n",
            "Requirement already satisfied: contourpy>=1.0.1 in /usr/local/lib/python3.10/dist-packages (from matplotlib!=3.6.1,>=3.4->seaborn) (1.3.1)\n",
            "Requirement already satisfied: cycler>=0.10 in /usr/local/lib/python3.10/dist-packages (from matplotlib!=3.6.1,>=3.4->seaborn) (0.12.1)\n",
            "Requirement already satisfied: fonttools>=4.22.0 in /usr/local/lib/python3.10/dist-packages (from matplotlib!=3.6.1,>=3.4->seaborn) (4.55.3)\n",
            "Requirement already satisfied: kiwisolver>=1.0.1 in /usr/local/lib/python3.10/dist-packages (from matplotlib!=3.6.1,>=3.4->seaborn) (1.4.7)\n",
            "Requirement already satisfied: packaging>=20.0 in /usr/local/lib/python3.10/dist-packages (from matplotlib!=3.6.1,>=3.4->seaborn) (24.2)\n",
            "Requirement already satisfied: pillow>=6.2.0 in /usr/local/lib/python3.10/dist-packages (from matplotlib!=3.6.1,>=3.4->seaborn) (11.0.0)\n",
            "Requirement already satisfied: pyparsing>=2.3.1 in /usr/local/lib/python3.10/dist-packages (from matplotlib!=3.6.1,>=3.4->seaborn) (3.2.0)\n",
            "Requirement already satisfied: python-dateutil>=2.7 in /usr/local/lib/python3.10/dist-packages (from matplotlib!=3.6.1,>=3.4->seaborn) (2.8.2)\n",
            "Requirement already satisfied: pytz>=2020.1 in /usr/local/lib/python3.10/dist-packages (from pandas>=1.2->seaborn) (2024.2)\n",
            "Requirement already satisfied: tzdata>=2022.7 in /usr/local/lib/python3.10/dist-packages (from pandas>=1.2->seaborn) (2024.2)\n",
            "Requirement already satisfied: six>=1.5 in /usr/local/lib/python3.10/dist-packages (from python-dateutil>=2.7->matplotlib!=3.6.1,>=3.4->seaborn) (1.17.0)\n",
            "WANDB_DISABLED: true\n"
          ]
        }
      ]
    },
    {
      "cell_type": "markdown",
      "source": [
        "Seeding"
      ],
      "metadata": {
        "id": "81O-9-AHj2k7"
      }
    },
    {
      "cell_type": "code",
      "source": [
        "seed = 77\n",
        "\n",
        "random.seed(seed)\n",
        "np.random.seed(seed)\n",
        "torch.manual_seed(seed)\n",
        "torch.cuda.manual_seed_all(seed)\n",
        "torch.backends.cudnn.deterministic = True\n",
        "torch.backends.cudnn.benchmark = False"
      ],
      "metadata": {
        "id": "FunO1_c2j_Vp"
      },
      "execution_count": 80,
      "outputs": []
    },
    {
      "cell_type": "markdown",
      "source": [
        "Clone DNABERT6 Repository"
      ],
      "metadata": {
        "id": "-w5D4JmBQPQw"
      }
    },
    {
      "cell_type": "code",
      "source": [
        "# Install necessary libraries\n",
        "!pip install torch torchvision transformers datasets gdown\n",
        "\n",
        "# Clone the DNA-BERT repository\n",
        "!git clone https://github.com/jerryji1993/DNABERT.git\n"
      ],
      "metadata": {
        "colab": {
          "base_uri": "https://localhost:8080/"
        },
        "id": "2RLP3njkMlzK",
        "outputId": "f30080a0-35ff-41b8-af4b-033f51378d14"
      },
      "execution_count": 81,
      "outputs": [
        {
          "output_type": "stream",
          "name": "stdout",
          "text": [
            "Requirement already satisfied: torch in /usr/local/lib/python3.10/dist-packages (2.5.1+cu121)\n",
            "Requirement already satisfied: torchvision in /usr/local/lib/python3.10/dist-packages (0.20.1+cu121)\n",
            "Requirement already satisfied: transformers in /usr/local/lib/python3.10/dist-packages (4.47.1)\n",
            "Requirement already satisfied: datasets in /usr/local/lib/python3.10/dist-packages (3.2.0)\n",
            "Requirement already satisfied: gdown in /usr/local/lib/python3.10/dist-packages (5.2.0)\n",
            "Requirement already satisfied: filelock in /usr/local/lib/python3.10/dist-packages (from torch) (3.16.1)\n",
            "Requirement already satisfied: typing-extensions>=4.8.0 in /usr/local/lib/python3.10/dist-packages (from torch) (4.12.2)\n",
            "Requirement already satisfied: networkx in /usr/local/lib/python3.10/dist-packages (from torch) (3.4.2)\n",
            "Requirement already satisfied: jinja2 in /usr/local/lib/python3.10/dist-packages (from torch) (3.1.4)\n",
            "Requirement already satisfied: fsspec in /usr/local/lib/python3.10/dist-packages (from torch) (2024.9.0)\n",
            "Requirement already satisfied: sympy==1.13.1 in /usr/local/lib/python3.10/dist-packages (from torch) (1.13.1)\n",
            "Requirement already satisfied: mpmath<1.4,>=1.1.0 in /usr/local/lib/python3.10/dist-packages (from sympy==1.13.1->torch) (1.3.0)\n",
            "Requirement already satisfied: numpy in /usr/local/lib/python3.10/dist-packages (from torchvision) (1.26.4)\n",
            "Requirement already satisfied: pillow!=8.3.*,>=5.3.0 in /usr/local/lib/python3.10/dist-packages (from torchvision) (11.0.0)\n",
            "Requirement already satisfied: huggingface-hub<1.0,>=0.24.0 in /usr/local/lib/python3.10/dist-packages (from transformers) (0.27.0)\n",
            "Requirement already satisfied: packaging>=20.0 in /usr/local/lib/python3.10/dist-packages (from transformers) (24.2)\n",
            "Requirement already satisfied: pyyaml>=5.1 in /usr/local/lib/python3.10/dist-packages (from transformers) (6.0.2)\n",
            "Requirement already satisfied: regex!=2019.12.17 in /usr/local/lib/python3.10/dist-packages (from transformers) (2024.11.6)\n",
            "Requirement already satisfied: requests in /usr/local/lib/python3.10/dist-packages (from transformers) (2.32.3)\n",
            "Requirement already satisfied: tokenizers<0.22,>=0.21 in /usr/local/lib/python3.10/dist-packages (from transformers) (0.21.0)\n",
            "Requirement already satisfied: safetensors>=0.4.1 in /usr/local/lib/python3.10/dist-packages (from transformers) (0.4.5)\n",
            "Requirement already satisfied: tqdm>=4.27 in /usr/local/lib/python3.10/dist-packages (from transformers) (4.67.1)\n",
            "Requirement already satisfied: pyarrow>=15.0.0 in /usr/local/lib/python3.10/dist-packages (from datasets) (17.0.0)\n",
            "Requirement already satisfied: dill<0.3.9,>=0.3.0 in /usr/local/lib/python3.10/dist-packages (from datasets) (0.3.8)\n",
            "Requirement already satisfied: pandas in /usr/local/lib/python3.10/dist-packages (from datasets) (2.2.2)\n",
            "Requirement already satisfied: xxhash in /usr/local/lib/python3.10/dist-packages (from datasets) (3.5.0)\n",
            "Requirement already satisfied: multiprocess<0.70.17 in /usr/local/lib/python3.10/dist-packages (from datasets) (0.70.16)\n",
            "Requirement already satisfied: aiohttp in /usr/local/lib/python3.10/dist-packages (from datasets) (3.11.10)\n",
            "Requirement already satisfied: beautifulsoup4 in /usr/local/lib/python3.10/dist-packages (from gdown) (4.12.3)\n",
            "Requirement already satisfied: aiohappyeyeballs>=2.3.0 in /usr/local/lib/python3.10/dist-packages (from aiohttp->datasets) (2.4.4)\n",
            "Requirement already satisfied: aiosignal>=1.1.2 in /usr/local/lib/python3.10/dist-packages (from aiohttp->datasets) (1.3.2)\n",
            "Requirement already satisfied: async-timeout<6.0,>=4.0 in /usr/local/lib/python3.10/dist-packages (from aiohttp->datasets) (4.0.3)\n",
            "Requirement already satisfied: attrs>=17.3.0 in /usr/local/lib/python3.10/dist-packages (from aiohttp->datasets) (24.3.0)\n",
            "Requirement already satisfied: frozenlist>=1.1.1 in /usr/local/lib/python3.10/dist-packages (from aiohttp->datasets) (1.5.0)\n",
            "Requirement already satisfied: multidict<7.0,>=4.5 in /usr/local/lib/python3.10/dist-packages (from aiohttp->datasets) (6.1.0)\n",
            "Requirement already satisfied: propcache>=0.2.0 in /usr/local/lib/python3.10/dist-packages (from aiohttp->datasets) (0.2.1)\n",
            "Requirement already satisfied: yarl<2.0,>=1.17.0 in /usr/local/lib/python3.10/dist-packages (from aiohttp->datasets) (1.18.3)\n",
            "Requirement already satisfied: charset-normalizer<4,>=2 in /usr/local/lib/python3.10/dist-packages (from requests->transformers) (3.4.0)\n",
            "Requirement already satisfied: idna<4,>=2.5 in /usr/local/lib/python3.10/dist-packages (from requests->transformers) (3.10)\n",
            "Requirement already satisfied: urllib3<3,>=1.21.1 in /usr/local/lib/python3.10/dist-packages (from requests->transformers) (2.2.3)\n",
            "Requirement already satisfied: certifi>=2017.4.17 in /usr/local/lib/python3.10/dist-packages (from requests->transformers) (2024.12.14)\n",
            "Requirement already satisfied: soupsieve>1.2 in /usr/local/lib/python3.10/dist-packages (from beautifulsoup4->gdown) (2.6)\n",
            "Requirement already satisfied: MarkupSafe>=2.0 in /usr/local/lib/python3.10/dist-packages (from jinja2->torch) (3.0.2)\n",
            "Requirement already satisfied: python-dateutil>=2.8.2 in /usr/local/lib/python3.10/dist-packages (from pandas->datasets) (2.8.2)\n",
            "Requirement already satisfied: pytz>=2020.1 in /usr/local/lib/python3.10/dist-packages (from pandas->datasets) (2024.2)\n",
            "Requirement already satisfied: tzdata>=2022.7 in /usr/local/lib/python3.10/dist-packages (from pandas->datasets) (2024.2)\n",
            "Requirement already satisfied: PySocks!=1.5.7,>=1.5.6 in /usr/local/lib/python3.10/dist-packages (from requests[socks]->gdown) (1.7.1)\n",
            "Requirement already satisfied: six>=1.5 in /usr/local/lib/python3.10/dist-packages (from python-dateutil>=2.8.2->pandas->datasets) (1.17.0)\n",
            "fatal: destination path 'DNABERT' already exists and is not an empty directory.\n"
          ]
        }
      ]
    },
    {
      "cell_type": "markdown",
      "source": [
        "NB!!! upload zip file (6-new-12w-0.zip) before continuing else code won't run\n",
        "\n",
        "\n"
      ],
      "metadata": {
        "id": "LB1zwrmyBtxF"
      }
    },
    {
      "cell_type": "code",
      "source": [
        "# Path to the uploaded zip file\n",
        "uploaded_zip_path = '/content/6-new-12w-0.zip'\n",
        "\n",
        "# Define the directory for extraction\n",
        "PRETRAINED_DIR = \"/content/DNABERT/pretrained/dna6\"\n",
        "os.makedirs(PRETRAINED_DIR, exist_ok=True)  # Attempt to create the directory\n",
        "\n",
        "# Extract the zip file\n",
        "try:\n",
        "    with zipfile.ZipFile(uploaded_zip_path, 'r') as zip_ref:\n",
        "        zip_ref.extractall(PRETRAINED_DIR)\n",
        "    print(f\"Extracted DNA-BERT files to: {PRETRAINED_DIR}\")\n",
        "except PermissionError as e:\n",
        "    print(f\"Permission denied: {e}. Check your permissions for '/content'.\")\n",
        "except Exception as e:\n",
        "    print(f\"An error occurred: {e}\")\n"
      ],
      "metadata": {
        "colab": {
          "base_uri": "https://localhost:8080/"
        },
        "id": "iIdMsQJ6PfZ9",
        "outputId": "88c0420c-8c1b-451a-c454-0ef4a4602dc2"
      },
      "execution_count": 82,
      "outputs": [
        {
          "output_type": "stream",
          "name": "stdout",
          "text": [
            "Extracted DNA-BERT files to: /content/DNABERT/pretrained/dna6\n"
          ]
        }
      ]
    },
    {
      "cell_type": "markdown",
      "source": [
        "Clone Seminar Repository"
      ],
      "metadata": {
        "id": "DWywCP2OQY-E"
      }
    },
    {
      "cell_type": "code",
      "source": [
        "directory = \"seminar-dlmb-2024-winter-public\"\n",
        "\n",
        "if os.path.exists(directory) and os.listdir(directory):\n",
        "    print(f\"Directory {directory} exists and is non-empty.\")\n",
        "else:\n",
        "    print(f\"Directory {directory} does not exist or is empty.\")\n",
        "    !!git clone https://github.com/hzi-bifo/seminar-dlmb-2024-winter-public.git"
      ],
      "metadata": {
        "colab": {
          "base_uri": "https://localhost:8080/"
        },
        "id": "bMjGj5fYQm48",
        "outputId": "759f9977-9f3c-4082-d8c3-df658acd0ced"
      },
      "execution_count": 83,
      "outputs": [
        {
          "output_type": "stream",
          "name": "stdout",
          "text": [
            "Directory seminar-dlmb-2024-winter-public exists and is non-empty.\n"
          ]
        }
      ]
    },
    {
      "cell_type": "code",
      "source": [
        "# Define the working device\n",
        "device = torch.device(\"cuda\")\n",
        "\n",
        "if torch.cuda.is_available():\n",
        "    print(f\"GPU: {torch.cuda.get_device_name(0)} is available.\")\n",
        "else:\n",
        "    print(\"No GPU available. Training will run on CPU.\")"
      ],
      "metadata": {
        "colab": {
          "base_uri": "https://localhost:8080/"
        },
        "id": "EGOUMAfBQ0TB",
        "outputId": "cc4f54e7-909e-4fcc-ad23-365408a5112a"
      },
      "execution_count": 84,
      "outputs": [
        {
          "output_type": "stream",
          "name": "stdout",
          "text": [
            "GPU: NVIDIA A100-SXM4-40GB is available.\n"
          ]
        }
      ]
    },
    {
      "cell_type": "markdown",
      "source": [
        "Create Datasets"
      ],
      "metadata": {
        "id": "4czZS3R0Q1nI"
      }
    },
    {
      "cell_type": "code",
      "source": [
        "# Paths\n",
        "base_path = \"seminar-dlmb-2024-winter-public/\"\n",
        "data_path = \"seminar-dlmb-2024-winter-public/data/ds1\"\n",
        "\n",
        "sys.path.append('seminar-dlmb-2024-winter-public/src/')\n",
        "from amr.amr_utility import load_gene_data, create_gene_datasets\n",
        "\n",
        "# Create datasets\n",
        "create_gene_datasets(base_path, data_path)\n",
        "\n",
        "# Load dataset\n",
        "ds = load_gene_data(data_path, \"Staphylococcus_aureus_cefoxitin\", \"pbp4\")\n",
        "\n",
        "sequences_train = [x[1] for x in ds[\"train\"]]\n",
        "labels_train = [x[2] for x in ds[\"train\"]]\n",
        "\n",
        "sequences_test = [x[1] for x in ds[\"test\"]]\n",
        "labels_test = [x[2] for x in ds[\"test\"]]\n",
        "\n",
        "sequences = sequences_train + sequences_test\n",
        "labels = labels_train + labels_test\n",
        "\n",
        "# Separate data by classes\n",
        "class_0 = [(seq, label) for seq, label in zip(sequences, labels) if label == 0]\n",
        "class_1 = [(seq, label) for seq, label in zip(sequences, labels) if label == 1]\n",
        "\n",
        "random.shuffle(class_0)\n",
        "random.shuffle(class_1)\n",
        "\n",
        "test_data = class_0[:7] + class_1[:7]\n",
        "leftover_class_0 = class_0[7:]\n",
        "leftover_class_1 = class_1[7:]\n",
        "\n",
        "val_data = leftover_class_0[:7] + leftover_class_1[:7]\n",
        "leftover_class_0 = leftover_class_0[7:]\n",
        "leftover_class_1 = leftover_class_1[7:]\n",
        "\n",
        "train_data = leftover_class_0 + leftover_class_1\n",
        "\n",
        "# Split train, val, and test data into sequences and labels\n",
        "sequences_train = [seq for seq, label in train_data]\n",
        "labels_train = [label for seq, label in train_data]\n",
        "\n",
        "sequences_val = [seq for seq, label in val_data]\n",
        "labels_val = [label for seq, label in val_data]\n",
        "\n",
        "sequences_test = [seq for seq, label in test_data]\n",
        "labels_test = [label for seq, label in test_data]\n"
      ],
      "metadata": {
        "id": "zmNv5yJGQ3bQ"
      },
      "execution_count": 85,
      "outputs": []
    },
    {
      "cell_type": "code",
      "source": [
        "%cd /content/DNABERT/pretrained/\n",
        "\n",
        "!ls -l /content/DNABERT/pretrained/\n",
        "\n",
        "!mv /content/DNABERT/pretrained/dna6/6-new-12w-0/* /content/DNABERT/pretrained/dna6/\n",
        "\n",
        "!rm -rf /content/DNABERT/pretrained/dna6/6-new-12w-0\n",
        "\n",
        "!ls -l /content/DNABERT/pretrained/dna6"
      ],
      "metadata": {
        "colab": {
          "base_uri": "https://localhost:8080/"
        },
        "id": "NvOwLC4blXPI",
        "outputId": "6f4d1d2f-0f62-41ed-cbaf-abe726e4223b"
      },
      "execution_count": 86,
      "outputs": [
        {
          "output_type": "stream",
          "name": "stdout",
          "text": [
            "/content/DNABERT/pretrained\n",
            "total 12\n",
            "drwxr-xr-x 3 root root 4096 Jan  7 21:52 dna6\n",
            "drwxr-xr-x 7 root root 4096 Jan  7 21:36 DNABERT\n",
            "drwxr-xr-x 5 root root 4096 Jan  7 21:36 seminar-dlmb-2024-winter-public\n",
            "total 350828\n",
            "-rw-r--r-- 1 root root      1110 Jan  7 21:52 config.json\n",
            "-rw-r--r-- 1 root root 359199902 Jan  7 21:52 pytorch_model.bin\n",
            "-rw-r--r-- 1 root root       112 Jan  7 21:52 special_tokens_map.json\n",
            "-rw-r--r-- 1 root root        40 Jan  7 21:52 tokenizer_config.json\n",
            "-rw-r--r-- 1 root root     28703 Jan  7 21:52 vocab.txt\n"
          ]
        }
      ]
    },
    {
      "cell_type": "code",
      "source": [
        "class SEQTokenizer_Kmers:\n",
        "    \"\"\"Custom tokenizer for DNA sequences with k-mers, truncation, and padding.\"\"\"\n",
        "    def __init__(self, k, max_length=512, pad_token_id=0):\n",
        "        self.k = k\n",
        "        self.max_length = max_length\n",
        "        self.pad_token_id = pad_token_id\n",
        "\n",
        "        # Create vocabulary of all possible k-mers\n",
        "        self.vocab = [''.join(kmer) for kmer in product('ATCG', repeat=k)]\n",
        "        self.token_to_id = {token: i for i, token in enumerate(self.vocab)}\n",
        "\n",
        "    def encode(self, sequence):\n",
        "        \"\"\"\n",
        "        Tokenizes the input sequence into k-mers and maps them to token IDs.\n",
        "        Pads and truncates the tokenized output to max_length.\n",
        "\n",
        "        Args:\n",
        "            sequence (str): Input DNA sequence.\n",
        "\n",
        "        Returns:\n",
        "            List[int]: Tokenized sequence with padding and truncation applied.\n",
        "        \"\"\"\n",
        "        # Generate k-mers and convert to token IDs\n",
        "        kmers = [sequence[i:i+self.k] for i in range(len(sequence) - self.k + 1)]\n",
        "        token_ids = [self.token_to_id[kmer] for kmer in kmers if kmer in self.token_to_id]\n",
        "\n",
        "        # Truncate to max_length\n",
        "        token_ids = token_ids[:self.max_length]\n",
        "\n",
        "        # Pad if the sequence is shorter than max_length\n",
        "        if len(token_ids) < self.max_length:\n",
        "            token_ids += [self.pad_token_id] * (self.max_length - len(token_ids))\n",
        "\n",
        "        return token_ids\n",
        "\n",
        "tokenizer = SEQTokenizer_Kmers(k=6)"
      ],
      "metadata": {
        "id": "ATzFDB3ek-Mz"
      },
      "execution_count": 102,
      "outputs": []
    },
    {
      "cell_type": "code",
      "source": [
        "# Tokenize the datasets using the encode method\n",
        "train_tokenized = [tokenizer.encode(seq) for seq in sequences_train]\n",
        "test_tokenized = [tokenizer.encode(seq) for seq in sequences_test]\n",
        "val_tokenized = [tokenizer.encode(seq) for seq in sequences_val]\n",
        "\n",
        "# Convert the tokenized data into Hugging Face Dataset objects\n",
        "train_dataset = Dataset.from_dict({\"input_ids\": train_tokenized})\n",
        "test_dataset = Dataset.from_dict({\"input_ids\": test_tokenized})\n",
        "val_dataset = Dataset.from_dict({\"input_ids\": val_tokenized})\n",
        "\n",
        "# Add the labels to each dataset\n",
        "train_dataset = train_dataset.add_column(\"labels\", labels_train)\n",
        "test_dataset = test_dataset.add_column(\"labels\", labels_test)\n",
        "val_dataset = val_dataset.add_column(\"labels\", labels_val)\n",
        "\n",
        "# Shuffle the datasets\n",
        "train_dataset = train_dataset.shuffle(seed=seed)\n",
        "test_dataset = test_dataset.shuffle(seed=seed)\n",
        "val_dataset = val_dataset.shuffle(seed=seed)\n",
        "\n",
        "# Print the first training example\n",
        "print(train_dataset[0])"
      ],
      "metadata": {
        "colab": {
          "base_uri": "https://localhost:8080/"
        },
        "id": "XGizrBCTlu4a",
        "outputId": "9cc53c8c-11d7-4b8f-cfcd-05e451ef444a"
      },
      "execution_count": 103,
      "outputs": [
        {
          "output_type": "stream",
          "name": "stdout",
          "text": [
            "{'input_ids': [1109, 342, 1369, 1381, 1429, 1621, 2389, 1366, 1369, 1380, 1424, 1600, 2305, 1028, 16, 64, 258, 1035, 44, 177, 709, 2839, 3164, 369, 1477, 1812, 3153, 326, 1304, 1121, 388, 1553, 2119, 284, 1136, 450, 1800, 3104, 129, 517, 2068, 83, 333, 1335, 1246, 889, 3556, 1936, 3649, 2310, 1050, 104, 419, 1678, 2619, 2284, 946, 3785, 2852, 3219, 591, 2366, 1272, 993, 3975, 3614, 2168, 482, 1930, 3624, 2210, 650, 2600, 2208, 641, 2567, 2076, 113, 452, 1811, 3149, 311, 1244, 880, 3521, 1796, 3088, 65, 263, 1055, 124, 497, 1991, 3869, 3189, 470, 1881, 3431, 1438, 1658, 2538, 1960, 3746, 2696, 2593, 2180, 530, 2121, 293, 1173, 597, 2388, 1363, 1358, 1336, 1248, 898, 3592, 2083, 141, 564, 2257, 837, 3349, 1111, 350, 1402, 1513, 1957, 3733, 2645, 2391, 1372, 1392, 1473, 1796, 3088, 65, 261, 1047, 95, 382, 1529, 2023, 3996, 3697, 2503, 1820, 3184, 450, 1801, 3109, 150, 601, 2404, 1426, 1608, 2339, 1165, 565, 2263, 863, 3452, 1523, 1999, 3901, 3318, 986, 3944, 3489, 1668, 2576, 2113, 262, 1049, 101, 405, 1620, 2385, 1349, 1300, 1104, 321, 1284, 1040, 64, 257, 1029, 22, 89, 358, 1433, 1637, 2455, 1631, 2428, 1521, 1988, 3859, 3149, 310, 1242, 875, 3502, 1723, 2797, 2999, 3805, 2932, 3538, 1865, 3365, 1173, 596, 2386, 1354, 1320, 1185, 646, 2585, 2149, 406, 1627, 2412, 1458, 1737, 2852, 3218, 584, 2336, 1155, 525, 2101, 213, 852, 3409, 1348, 1296, 1089, 262, 1049, 101, 405, 1621, 2389, 1365, 1364, 1362, 1353, 1316, 1168, 576, 2304, 1025, 6, 24, 98, 393, 1573, 2199, 607, 2429, 1524, 2000, 3904, 3328, 1026, 8, 33, 134, 539, 2157, 436, 1744, 2880, 3331, 1036, 49, 198, 795, 3181, 437, 1749, 2901, 3414, 1368, 1376, 1410, 1544, 2081, 132, 528, 2113, 260, 1041, 69, 277, 1110, 345, 1381, 1428, 1618, 2378, 1320, 1185, 645, 2581, 2132, 337, 1350, 1306, 1129, 421, 1685, 2647, 2398, 1401, 1510, 1944, 3682, 2442, 1577, 2213, 661, 2644, 2387, 1356, 1330, 1224, 800, 3201, 516, 2065, 69, 277, 1109, 341, 1364, 1362, 1352, 1313, 1156, 529, 2117, 277, 1108, 337, 1348, 1298, 1097, 295, 1180, 625, 2502, 1816, 3168, 384, 1537, 2055, 28, 115, 462, 1851, 3309, 949, 3798, 2906, 3432, 1441, 1669, 2580, 2128, 321, 1287, 1054, 120, 481, 1925, 3606, 2138, 362, 1450, 1704, 2721, 2694, 2584, 2145, 388, 1553, 2117, 276, 1106, 331, 1325, 1205, 727, 2910, 3449, 1509, 1942, 3673, 2406, 1435, 1646, 2490, 1768, 2978, 3722, 2600, 2208, 643, 2575, 2109, 245, 981, 3925, 3413, 1364, 1361, 1348, 1299, 1101, 310, 1241, 870, 3482, 1642, 2475, 1710, 2744, 2786, 2954, 3626, 2216, 673, 2695, 2588, 2161, 452, 1808, 3138, 265, 1061, 151, 604, 2417, 1477, 1812, 3152, 321, 1285, 1046, 89, 356, 1424, 1600, 2305, 1029, 21, 84, 338, 1354, 1321, 1190, 667, 2669, 2485, 1749, 2903, 3423, 1405, 1524, 2003, 3917, 3380, 1232, 833, 3334, 1051, 109, 436, 1745, 2887, 3359, 1149, 501, 2007, 3933, 3444, 1488, 1857, 3333, 1045, 87, 350, 1401, 1511, 1949, 3700, 2513, 1862, 3352, 1122, 393, 1573, 2199, 604, 2417, 1478, 1818, 3176, 419, 1677, 2613, 2261, 853, 3413, 1364, 1360, 1344, 1282, 1034, 40, 161, 646, 2585, 2151, 413, 1652, 2514, 1866, 3368, 1187, 655, 2622, 2296, 992, 3968, 3586, 2057, 38, 152, 609, 2437, 1557, 2133, 341, 1367, 1374, 1400, 1506, 1930, 3625, 2213, 662, 2650, 2408, 1440, 1665, 2567, 2076, 112, 448, 1792, 3075, 13, 53, 215, 860, 3440, 1473, 1799, 3101, 119, 477, 1908, 3536, 1857, 3332, 1042, 75, 301, 1204, 720, 2882, 3337, 1063, 158, 632, 2529, 1927, 3614, 2171, 493, 1973, 3799, 2909, 3445, 1495, 1887, 3453, 1527, 2014, 3961, 3556, 1936, 3650, 2313, 1063, 158, 633, 2533, 1941, 3671, 2397, 1396, 1488, 1856, 3331, 1037, 54, 217, 868, 3472, 1601, 2308, 1041, 69, 277, 1109, 340, 1363, 1359, 1341, 1271, 989, 3958, 3545, 1894, 3481, 1637, 2453, 1620, 2384, 1345, 1286, 1048, 98, 395, 1581, 2231, 733, 2932, 3536, 1856, 3329, 1030, 25, 100, 400, 1600, 2304, 1025, 7, 31, 126, 504, 2017, 3972, 3603, 2125, 310, 1241, 870, 3481, 1636, 2451, 1614, 2360, 1251, 909, 3638, 2267, 877, 3509, 1748, 2898, 3400, 1315, 1165, 564, 2258, 843, 3373, 1205, 726, 2905, 3429, 1431, 1631, 2429, 1526, 2009, 3941, 3477, 1620, 2385, 1348, 1298, 1097, 293, 1173, 599, 2397, 1397, 1495, 1887, 3453, 1527, 2014, 3960, 3552, 1920, 3585, 2055, 29, 116, 466, 1867, 3373, 1204, 720, 2881, 3334, 1049, 101, 407, 1628, 2416, 1473, 1797, 3093, 85, 342, 1368, 1379, 1422, 1592, 2274, 906, 3626, 2219, 685, 2741, 2775, 2911, 3452, 1521, 1989, 3863, 3164, 370, 1483, 1836, 3248, 704, 2817, 3079, 29, 119, 477, 1908, 3537, 1861, 3349, 1109, 341, 1366, 1368, 1377, 1413, 1558, 2138, 363, 1452, 1713, 2756, 2835, 3150, 313, 1253, 917, 3668, 2387, 1358, 1337, 1253, 917, 3671, 2397, 1397, 1492, 1873, 3397, 1302, 1112, 353, 1413, 1556, 2128, 320, 1281, 1030, 24, 96, 386, 1547, 2092, 176, 704, 2817, 3078, 27, 110, 441, 1767, 2975, 3709, 2551, 2013, 3957, 3541, 1877, 3413, 1365, 1367, 1372, 1393, 1476, 1810, 3146, 297, 1189, 662, 2649, 2405, 1428, 1619, 2382, 1337, 1252, 912, 3648, 2304, 1025, 5, 20, 80, 321, 1287, 1054, 122, 491, 1966, 3771, 2799, 3006, 3832, 3041, 3973, 3604, 2130, 329, 1316, 1171, 588, 2352, 1217, 773, 3092, 83, 332, 1329, 1220, 786, 3145, 295, 1181, 628, 2512, 1857, 3333, 1045, 87, 349, 1396, 1488, 1857, 3332, 1043, 79, 317, 1270, 985, 3943, 3486, 1659, 2540, 1969, 3781, 2839, 3165, 374, 1498, 1896, 3489, 1668, 2578, 2121, 293, 1175, 605, 2422, 1498, 1896, 3491, 1679, 2620, 2289, 964, 3857, 3140, 275, 1101, 309, 1237, 854, 3419, 1389, 1460, 1745, 2885, 3348, 1106, 329, 1318, 1176, 608, 2434, 1545, 2086, 152, 611, 2447, 1597, 2292, 979, 3917, 3383, 1245, 884, 3539, 1868, 3378, 1224, 801, 3204, 528, 2113, 260, 1041, 68, 273, 1093, 278, 1113, 357, 1429, 1623, 2397, 1397, 1494, 1883, 3437, 1462, 1752, 2913, 3461, 1559, 2141, 375, 1500, 1906, 3528, 1827, 3213, 565, 2261, 854, 3416, 1377, 1414, 1560, 2144, 387, 1549, 2103, 220, 880, 3520, 1795, 3086, 57, 231, 926, 3706, 2538, 1962, 3753, 2725, 2708, 2641, 2373, 1301], 'labels': 1}\n"
          ]
        }
      ]
    },
    {
      "cell_type": "code",
      "source": [
        "# Print the sequence lenghts of all available sequences\n",
        "all_sequences = sequences_train + sequences_test + sequences_val\n",
        "\n",
        "seq_lengths = [len(seq) for seq in all_sequences]\n",
        "print(seq_lengths)"
      ],
      "metadata": {
        "colab": {
          "base_uri": "https://localhost:8080/"
        },
        "id": "_PF3-BTwumzB",
        "outputId": "dd78345b-fb8c-4c39-d560-ac85ca2b797f"
      },
      "execution_count": 104,
      "outputs": [
        {
          "output_type": "stream",
          "name": "stdout",
          "text": [
            "[1296, 1296, 1296, 1296, 1296, 1296, 1296, 1296, 1296, 1296, 1296, 1296, 1296, 1296, 1296, 1296, 1296, 1296, 1296, 1296, 1296, 1296, 1296, 1296, 1296, 1296, 1296, 1296, 1296, 1296, 1296, 1296, 1296, 1296, 1296, 1296, 1296, 1296, 1296, 1296, 1296, 1296, 1296, 1296, 1296, 1296, 1296, 1296, 1296, 1296, 1296, 1296, 1296, 1296, 1296, 1296, 1296, 1296, 1296, 1296, 1296, 1296, 1296, 1296, 1296, 1296, 1296, 1296, 1296, 1296, 1296, 1296, 1296, 1296, 1296, 1296, 1296, 1296, 1296, 1296, 1296, 1296, 1296, 1296, 1296, 1296, 1296, 1296, 1296, 1296, 1296, 1296, 1296, 1296, 1296, 1296, 1296, 1296, 1296, 1296, 1296, 1296, 1296, 1296, 1296, 1296, 1296, 1296, 1296, 1296, 1296, 1296, 1296, 1296, 1296, 1296, 1296, 1296, 1296, 1296, 1296, 1296, 1296, 1296, 1296, 1296, 1296, 1296, 1296, 1296, 1296, 1296, 1296, 1296, 1296, 1296, 1296, 1296, 1296, 1296, 1296, 1296, 1296, 1296, 1296, 1296, 1296, 1296, 1296, 1296]\n"
          ]
        }
      ]
    },
    {
      "cell_type": "code",
      "source": [
        "# Get labels from the training dataset\n",
        "labels = train_dataset[\"labels\"]\n",
        "\n",
        "# Compute class weights so classes seem balanced\n",
        "class_weights = compute_class_weight(\n",
        "    class_weight=\"balanced\",\n",
        "    classes=np.unique(labels),\n",
        "    y=labels\n",
        ")\n",
        "\n",
        "# Convert to PyTorch tensor\n",
        "class_weights_tensor = torch.tensor(class_weights, dtype=torch.float)\n",
        "print(\"Class Weights:\", class_weights_tensor)"
      ],
      "metadata": {
        "colab": {
          "base_uri": "https://localhost:8080/"
        },
        "id": "pFKeCpWvXPiT",
        "outputId": "6dabb50d-9c05-42f4-e977-826589cac07e"
      },
      "execution_count": 105,
      "outputs": [
        {
          "output_type": "stream",
          "name": "stdout",
          "text": [
            "Class Weights: tensor([2.3462, 0.6354])\n"
          ]
        }
      ]
    },
    {
      "cell_type": "code",
      "source": [
        "# Define a custom model with weighted loss\n",
        "class WeightedModel(torch.nn.Module):\n",
        "    def __init__(self, model_name, class_weights):\n",
        "        super().__init__()\n",
        "        self.model = BertForSequenceClassification.from_pretrained(model_name, num_labels=len(class_weights))\n",
        "        self.loss_fn = torch.nn.CrossEntropyLoss(weight=class_weights)\n",
        "\n",
        "    def forward(self, input_ids, attention_mask, labels=None):\n",
        "        outputs = self.model(input_ids=input_ids, attention_mask=attention_mask)\n",
        "        logits = outputs.logits\n",
        "\n",
        "        if labels is not None:\n",
        "            loss = self.loss_fn(logits, labels)\n",
        "            return {\"loss\": loss, \"logits\": logits}\n",
        "        else:\n",
        "            return {\"logits\": logits}\n",
        "\n",
        "# Initialize the model with class weights\n",
        "model = WeightedModel(\"/content/DNABERT/pretrained/dna6\", class_weights_tensor)\n"
      ],
      "metadata": {
        "colab": {
          "base_uri": "https://localhost:8080/"
        },
        "id": "8fGg8kfKW18i",
        "outputId": "37329a01-26c5-44e1-d6f4-3234f0a28da6"
      },
      "execution_count": 106,
      "outputs": [
        {
          "output_type": "stream",
          "name": "stderr",
          "text": [
            "Some weights of BertForSequenceClassification were not initialized from the model checkpoint at /content/DNABERT/pretrained/dna6 and are newly initialized: ['classifier.bias', 'classifier.weight']\n",
            "You should probably TRAIN this model on a down-stream task to be able to use it for predictions and inference.\n"
          ]
        }
      ]
    },
    {
      "cell_type": "code",
      "source": [
        "def create_kmer_vocab(k):\n",
        "    # Generate all possible k-mers using the alphabet \"A\", \"T\", \"C\", \"G\"\n",
        "    alphabet = \"ATCG\"\n",
        "    kmers = [''.join(p) for p in product(alphabet, repeat=k)]\n",
        "    return kmers\n",
        "\n",
        "# Set k-mer size\n",
        "k = 6\n",
        "\n",
        "# Generate vocabulary\n",
        "vocab = create_kmer_vocab(k)\n",
        "\n",
        "# Save the vocabulary to a file\n",
        "vocab_file_path = \"/content/DNABERT/pretrained/dna6/vocab.txt\"\n",
        "with open(vocab_file_path, \"w\") as f:\n",
        "    f.write(\"\\n\".join(vocab))\n",
        "\n",
        "print(f\"Vocabulary file created at: {vocab_file_path}\")\n",
        "\n",
        "# Load the tokenizer with the new vocabulary file\n",
        "tokenizer = BertTokenizer.from_pretrained(\n",
        "    \"/content/DNABERT/pretrained/dna6\",\n",
        "    vocab_file=\"/content/DNABERT/pretrained/dna6/vocab.txt\"\n",
        ")"
      ],
      "metadata": {
        "colab": {
          "base_uri": "https://localhost:8080/"
        },
        "id": "yUi378jjmVc5",
        "outputId": "c38d2877-bb48-4a0a-d56d-f560569e0b6e"
      },
      "execution_count": 107,
      "outputs": [
        {
          "output_type": "stream",
          "name": "stdout",
          "text": [
            "Vocabulary file created at: /content/DNABERT/pretrained/dna6/vocab.txt\n"
          ]
        }
      ]
    },
    {
      "cell_type": "code",
      "source": [
        "OUTPUT_PATH = \"/content/DNABERT/output\"  # Define a permanent output directory\n",
        "\n",
        "training_args = TrainingArguments(\n",
        "    output_dir=OUTPUT_PATH,  # Save outputs to a permanent directory\n",
        "    evaluation_strategy=\"epoch\",  # Evaluate at the end of every epoch\n",
        "    logging_strategy=\"epoch\",     # Log training/validation loss every epoch\n",
        "    save_strategy=\"epoch\",        # Save checkpoints at the end of each epoch\n",
        "    save_total_limit=1,           # Keep the last checkpoint\n",
        "    per_device_train_batch_size = 16,\n",
        "    per_device_eval_batch_size = 16,\n",
        "    num_train_epochs=100,\n",
        "    learning_rate=1e-5,\n",
        "    weight_decay=0.01,\n",
        "    logging_dir=f\"{OUTPUT_PATH}/logs\",\n",
        ")\n",
        "\n",
        "os.makedirs(OUTPUT_PATH, exist_ok=True)"
      ],
      "metadata": {
        "colab": {
          "base_uri": "https://localhost:8080/"
        },
        "id": "zynUn96ymbDc",
        "outputId": "9c6fe035-df05-417d-a714-a0a7486c1538"
      },
      "execution_count": 108,
      "outputs": [
        {
          "output_type": "stream",
          "name": "stderr",
          "text": [
            "/usr/local/lib/python3.10/dist-packages/transformers/training_args.py:1575: FutureWarning: `evaluation_strategy` is deprecated and will be removed in version 4.46 of 🤗 Transformers. Use `eval_strategy` instead\n",
            "  warnings.warn(\n",
            "Using the `WANDB_DISABLED` environment variable is deprecated and will be removed in v5. Use the --report_to flag to control the integrations used for logging result (for instance --report_to none).\n"
          ]
        }
      ]
    },
    {
      "cell_type": "code",
      "source": [
        "# Define Trainer\n",
        "trainer = Trainer(\n",
        "    model=model,\n",
        "    args=training_args,\n",
        "    train_dataset=train_dataset,\n",
        "    eval_dataset=val_dataset,\n",
        "    tokenizer=tokenizer,\n",
        ")"
      ],
      "metadata": {
        "colab": {
          "base_uri": "https://localhost:8080/"
        },
        "id": "ucdIcdt3mgA5",
        "outputId": "c1f8d39a-99b4-4f22-c91a-4ac2bdf8aa64"
      },
      "execution_count": 109,
      "outputs": [
        {
          "output_type": "stream",
          "name": "stderr",
          "text": [
            "<ipython-input-109-373c322edf99>:2: FutureWarning: `tokenizer` is deprecated and will be removed in version 5.0.0 for `Trainer.__init__`. Use `processing_class` instead.\n",
            "  trainer = Trainer(\n"
          ]
        }
      ]
    },
    {
      "cell_type": "code",
      "source": [
        "# Train the model\n",
        "print(\"Starting training...\")\n",
        "trainer.train()\n",
        "\n",
        "# Evaluate the model\n",
        "print(\"Evaluating model on test set...\")\n",
        "results = trainer.evaluate(test_dataset)\n",
        "print(\"Test Results:\", results)"
      ],
      "metadata": {
        "colab": {
          "base_uri": "https://localhost:8080/",
          "height": 478
        },
        "id": "uxWc_e5ZmkQz",
        "outputId": "637ae9ce-088c-4431-fefa-466adbb48f56"
      },
      "execution_count": 110,
      "outputs": [
        {
          "output_type": "stream",
          "name": "stdout",
          "text": [
            "Starting training...\n"
          ]
        },
        {
          "output_type": "error",
          "ename": "RuntimeError",
          "evalue": "The expanded size of the tensor (1024) must match the existing size (512) at non-singleton dimension 1.  Target sizes: [16, 1024].  Tensor sizes: [1, 512]",
          "traceback": [
            "\u001b[0;31m---------------------------------------------------------------------------\u001b[0m",
            "\u001b[0;31mRuntimeError\u001b[0m                              Traceback (most recent call last)",
            "\u001b[0;32m<ipython-input-110-3bf0e5d82c54>\u001b[0m in \u001b[0;36m<cell line: 3>\u001b[0;34m()\u001b[0m\n\u001b[1;32m      1\u001b[0m \u001b[0;31m# Train the model\u001b[0m\u001b[0;34m\u001b[0m\u001b[0;34m\u001b[0m\u001b[0m\n\u001b[1;32m      2\u001b[0m \u001b[0mprint\u001b[0m\u001b[0;34m(\u001b[0m\u001b[0;34m\"Starting training...\"\u001b[0m\u001b[0;34m)\u001b[0m\u001b[0;34m\u001b[0m\u001b[0;34m\u001b[0m\u001b[0m\n\u001b[0;32m----> 3\u001b[0;31m \u001b[0mtrainer\u001b[0m\u001b[0;34m.\u001b[0m\u001b[0mtrain\u001b[0m\u001b[0;34m(\u001b[0m\u001b[0;34m)\u001b[0m\u001b[0;34m\u001b[0m\u001b[0;34m\u001b[0m\u001b[0m\n\u001b[0m\u001b[1;32m      4\u001b[0m \u001b[0;34m\u001b[0m\u001b[0m\n\u001b[1;32m      5\u001b[0m \u001b[0;31m# Evaluate the model\u001b[0m\u001b[0;34m\u001b[0m\u001b[0;34m\u001b[0m\u001b[0m\n",
            "\u001b[0;32m/usr/local/lib/python3.10/dist-packages/transformers/trainer.py\u001b[0m in \u001b[0;36mtrain\u001b[0;34m(self, resume_from_checkpoint, trial, ignore_keys_for_eval, **kwargs)\u001b[0m\n\u001b[1;32m   2162\u001b[0m                 \u001b[0mhf_hub_utils\u001b[0m\u001b[0;34m.\u001b[0m\u001b[0menable_progress_bars\u001b[0m\u001b[0;34m(\u001b[0m\u001b[0;34m)\u001b[0m\u001b[0;34m\u001b[0m\u001b[0;34m\u001b[0m\u001b[0m\n\u001b[1;32m   2163\u001b[0m         \u001b[0;32melse\u001b[0m\u001b[0;34m:\u001b[0m\u001b[0;34m\u001b[0m\u001b[0;34m\u001b[0m\u001b[0m\n\u001b[0;32m-> 2164\u001b[0;31m             return inner_training_loop(\n\u001b[0m\u001b[1;32m   2165\u001b[0m                 \u001b[0margs\u001b[0m\u001b[0;34m=\u001b[0m\u001b[0margs\u001b[0m\u001b[0;34m,\u001b[0m\u001b[0;34m\u001b[0m\u001b[0;34m\u001b[0m\u001b[0m\n\u001b[1;32m   2166\u001b[0m                 \u001b[0mresume_from_checkpoint\u001b[0m\u001b[0;34m=\u001b[0m\u001b[0mresume_from_checkpoint\u001b[0m\u001b[0;34m,\u001b[0m\u001b[0;34m\u001b[0m\u001b[0;34m\u001b[0m\u001b[0m\n",
            "\u001b[0;32m/usr/local/lib/python3.10/dist-packages/transformers/trainer.py\u001b[0m in \u001b[0;36m_inner_training_loop\u001b[0;34m(self, batch_size, args, resume_from_checkpoint, trial, ignore_keys_for_eval)\u001b[0m\n\u001b[1;32m   2522\u001b[0m                     )\n\u001b[1;32m   2523\u001b[0m                     \u001b[0;32mwith\u001b[0m \u001b[0mcontext\u001b[0m\u001b[0;34m(\u001b[0m\u001b[0;34m)\u001b[0m\u001b[0;34m:\u001b[0m\u001b[0;34m\u001b[0m\u001b[0;34m\u001b[0m\u001b[0m\n\u001b[0;32m-> 2524\u001b[0;31m                         \u001b[0mtr_loss_step\u001b[0m \u001b[0;34m=\u001b[0m \u001b[0mself\u001b[0m\u001b[0;34m.\u001b[0m\u001b[0mtraining_step\u001b[0m\u001b[0;34m(\u001b[0m\u001b[0mmodel\u001b[0m\u001b[0;34m,\u001b[0m \u001b[0minputs\u001b[0m\u001b[0;34m,\u001b[0m \u001b[0mnum_items_in_batch\u001b[0m\u001b[0;34m)\u001b[0m\u001b[0;34m\u001b[0m\u001b[0;34m\u001b[0m\u001b[0m\n\u001b[0m\u001b[1;32m   2525\u001b[0m \u001b[0;34m\u001b[0m\u001b[0m\n\u001b[1;32m   2526\u001b[0m                     if (\n",
            "\u001b[0;32m/usr/local/lib/python3.10/dist-packages/transformers/trainer.py\u001b[0m in \u001b[0;36mtraining_step\u001b[0;34m(self, model, inputs, num_items_in_batch)\u001b[0m\n\u001b[1;32m   3652\u001b[0m \u001b[0;34m\u001b[0m\u001b[0m\n\u001b[1;32m   3653\u001b[0m         \u001b[0;32mwith\u001b[0m \u001b[0mself\u001b[0m\u001b[0;34m.\u001b[0m\u001b[0mcompute_loss_context_manager\u001b[0m\u001b[0;34m(\u001b[0m\u001b[0;34m)\u001b[0m\u001b[0;34m:\u001b[0m\u001b[0;34m\u001b[0m\u001b[0;34m\u001b[0m\u001b[0m\n\u001b[0;32m-> 3654\u001b[0;31m             \u001b[0mloss\u001b[0m \u001b[0;34m=\u001b[0m \u001b[0mself\u001b[0m\u001b[0;34m.\u001b[0m\u001b[0mcompute_loss\u001b[0m\u001b[0;34m(\u001b[0m\u001b[0mmodel\u001b[0m\u001b[0;34m,\u001b[0m \u001b[0minputs\u001b[0m\u001b[0;34m,\u001b[0m \u001b[0mnum_items_in_batch\u001b[0m\u001b[0;34m=\u001b[0m\u001b[0mnum_items_in_batch\u001b[0m\u001b[0;34m)\u001b[0m\u001b[0;34m\u001b[0m\u001b[0;34m\u001b[0m\u001b[0m\n\u001b[0m\u001b[1;32m   3655\u001b[0m \u001b[0;34m\u001b[0m\u001b[0m\n\u001b[1;32m   3656\u001b[0m         \u001b[0;32mdel\u001b[0m \u001b[0minputs\u001b[0m\u001b[0;34m\u001b[0m\u001b[0;34m\u001b[0m\u001b[0m\n",
            "\u001b[0;32m/usr/local/lib/python3.10/dist-packages/transformers/trainer.py\u001b[0m in \u001b[0;36mcompute_loss\u001b[0;34m(self, model, inputs, return_outputs, num_items_in_batch)\u001b[0m\n\u001b[1;32m   3706\u001b[0m                 \u001b[0mloss_kwargs\u001b[0m\u001b[0;34m[\u001b[0m\u001b[0;34m\"num_items_in_batch\"\u001b[0m\u001b[0;34m]\u001b[0m \u001b[0;34m=\u001b[0m \u001b[0mnum_items_in_batch\u001b[0m\u001b[0;34m\u001b[0m\u001b[0;34m\u001b[0m\u001b[0m\n\u001b[1;32m   3707\u001b[0m             \u001b[0minputs\u001b[0m \u001b[0;34m=\u001b[0m \u001b[0;34m{\u001b[0m\u001b[0;34m**\u001b[0m\u001b[0minputs\u001b[0m\u001b[0;34m,\u001b[0m \u001b[0;34m**\u001b[0m\u001b[0mloss_kwargs\u001b[0m\u001b[0;34m}\u001b[0m\u001b[0;34m\u001b[0m\u001b[0;34m\u001b[0m\u001b[0m\n\u001b[0;32m-> 3708\u001b[0;31m         \u001b[0moutputs\u001b[0m \u001b[0;34m=\u001b[0m \u001b[0mmodel\u001b[0m\u001b[0;34m(\u001b[0m\u001b[0;34m**\u001b[0m\u001b[0minputs\u001b[0m\u001b[0;34m)\u001b[0m\u001b[0;34m\u001b[0m\u001b[0;34m\u001b[0m\u001b[0m\n\u001b[0m\u001b[1;32m   3709\u001b[0m         \u001b[0;31m# Save past state if it exists\u001b[0m\u001b[0;34m\u001b[0m\u001b[0;34m\u001b[0m\u001b[0m\n\u001b[1;32m   3710\u001b[0m         \u001b[0;31m# TODO: this needs to be fixed and made cleaner later.\u001b[0m\u001b[0;34m\u001b[0m\u001b[0;34m\u001b[0m\u001b[0m\n",
            "\u001b[0;32m/usr/local/lib/python3.10/dist-packages/torch/nn/modules/module.py\u001b[0m in \u001b[0;36m_wrapped_call_impl\u001b[0;34m(self, *args, **kwargs)\u001b[0m\n\u001b[1;32m   1734\u001b[0m             \u001b[0;32mreturn\u001b[0m \u001b[0mself\u001b[0m\u001b[0;34m.\u001b[0m\u001b[0m_compiled_call_impl\u001b[0m\u001b[0;34m(\u001b[0m\u001b[0;34m*\u001b[0m\u001b[0margs\u001b[0m\u001b[0;34m,\u001b[0m \u001b[0;34m**\u001b[0m\u001b[0mkwargs\u001b[0m\u001b[0;34m)\u001b[0m  \u001b[0;31m# type: ignore[misc]\u001b[0m\u001b[0;34m\u001b[0m\u001b[0;34m\u001b[0m\u001b[0m\n\u001b[1;32m   1735\u001b[0m         \u001b[0;32melse\u001b[0m\u001b[0;34m:\u001b[0m\u001b[0;34m\u001b[0m\u001b[0;34m\u001b[0m\u001b[0m\n\u001b[0;32m-> 1736\u001b[0;31m             \u001b[0;32mreturn\u001b[0m \u001b[0mself\u001b[0m\u001b[0;34m.\u001b[0m\u001b[0m_call_impl\u001b[0m\u001b[0;34m(\u001b[0m\u001b[0;34m*\u001b[0m\u001b[0margs\u001b[0m\u001b[0;34m,\u001b[0m \u001b[0;34m**\u001b[0m\u001b[0mkwargs\u001b[0m\u001b[0;34m)\u001b[0m\u001b[0;34m\u001b[0m\u001b[0;34m\u001b[0m\u001b[0m\n\u001b[0m\u001b[1;32m   1737\u001b[0m \u001b[0;34m\u001b[0m\u001b[0m\n\u001b[1;32m   1738\u001b[0m     \u001b[0;31m# torchrec tests the code consistency with the following code\u001b[0m\u001b[0;34m\u001b[0m\u001b[0;34m\u001b[0m\u001b[0m\n",
            "\u001b[0;32m/usr/local/lib/python3.10/dist-packages/torch/nn/modules/module.py\u001b[0m in \u001b[0;36m_call_impl\u001b[0;34m(self, *args, **kwargs)\u001b[0m\n\u001b[1;32m   1745\u001b[0m                 \u001b[0;32mor\u001b[0m \u001b[0m_global_backward_pre_hooks\u001b[0m \u001b[0;32mor\u001b[0m \u001b[0m_global_backward_hooks\u001b[0m\u001b[0;34m\u001b[0m\u001b[0;34m\u001b[0m\u001b[0m\n\u001b[1;32m   1746\u001b[0m                 or _global_forward_hooks or _global_forward_pre_hooks):\n\u001b[0;32m-> 1747\u001b[0;31m             \u001b[0;32mreturn\u001b[0m \u001b[0mforward_call\u001b[0m\u001b[0;34m(\u001b[0m\u001b[0;34m*\u001b[0m\u001b[0margs\u001b[0m\u001b[0;34m,\u001b[0m \u001b[0;34m**\u001b[0m\u001b[0mkwargs\u001b[0m\u001b[0;34m)\u001b[0m\u001b[0;34m\u001b[0m\u001b[0;34m\u001b[0m\u001b[0m\n\u001b[0m\u001b[1;32m   1748\u001b[0m \u001b[0;34m\u001b[0m\u001b[0m\n\u001b[1;32m   1749\u001b[0m         \u001b[0mresult\u001b[0m \u001b[0;34m=\u001b[0m \u001b[0;32mNone\u001b[0m\u001b[0;34m\u001b[0m\u001b[0;34m\u001b[0m\u001b[0m\n",
            "\u001b[0;32m<ipython-input-106-1aa9d6298465>\u001b[0m in \u001b[0;36mforward\u001b[0;34m(self, input_ids, attention_mask, labels)\u001b[0m\n\u001b[1;32m      7\u001b[0m \u001b[0;34m\u001b[0m\u001b[0m\n\u001b[1;32m      8\u001b[0m     \u001b[0;32mdef\u001b[0m \u001b[0mforward\u001b[0m\u001b[0;34m(\u001b[0m\u001b[0mself\u001b[0m\u001b[0;34m,\u001b[0m \u001b[0minput_ids\u001b[0m\u001b[0;34m,\u001b[0m \u001b[0mattention_mask\u001b[0m\u001b[0;34m,\u001b[0m \u001b[0mlabels\u001b[0m\u001b[0;34m=\u001b[0m\u001b[0;32mNone\u001b[0m\u001b[0;34m)\u001b[0m\u001b[0;34m:\u001b[0m\u001b[0;34m\u001b[0m\u001b[0;34m\u001b[0m\u001b[0m\n\u001b[0;32m----> 9\u001b[0;31m         \u001b[0moutputs\u001b[0m \u001b[0;34m=\u001b[0m \u001b[0mself\u001b[0m\u001b[0;34m.\u001b[0m\u001b[0mmodel\u001b[0m\u001b[0;34m(\u001b[0m\u001b[0minput_ids\u001b[0m\u001b[0;34m=\u001b[0m\u001b[0minput_ids\u001b[0m\u001b[0;34m,\u001b[0m \u001b[0mattention_mask\u001b[0m\u001b[0;34m=\u001b[0m\u001b[0mattention_mask\u001b[0m\u001b[0;34m)\u001b[0m\u001b[0;34m\u001b[0m\u001b[0;34m\u001b[0m\u001b[0m\n\u001b[0m\u001b[1;32m     10\u001b[0m         \u001b[0mlogits\u001b[0m \u001b[0;34m=\u001b[0m \u001b[0moutputs\u001b[0m\u001b[0;34m.\u001b[0m\u001b[0mlogits\u001b[0m\u001b[0;34m\u001b[0m\u001b[0;34m\u001b[0m\u001b[0m\n\u001b[1;32m     11\u001b[0m \u001b[0;34m\u001b[0m\u001b[0m\n",
            "\u001b[0;32m/usr/local/lib/python3.10/dist-packages/torch/nn/modules/module.py\u001b[0m in \u001b[0;36m_wrapped_call_impl\u001b[0;34m(self, *args, **kwargs)\u001b[0m\n\u001b[1;32m   1734\u001b[0m             \u001b[0;32mreturn\u001b[0m \u001b[0mself\u001b[0m\u001b[0;34m.\u001b[0m\u001b[0m_compiled_call_impl\u001b[0m\u001b[0;34m(\u001b[0m\u001b[0;34m*\u001b[0m\u001b[0margs\u001b[0m\u001b[0;34m,\u001b[0m \u001b[0;34m**\u001b[0m\u001b[0mkwargs\u001b[0m\u001b[0;34m)\u001b[0m  \u001b[0;31m# type: ignore[misc]\u001b[0m\u001b[0;34m\u001b[0m\u001b[0;34m\u001b[0m\u001b[0m\n\u001b[1;32m   1735\u001b[0m         \u001b[0;32melse\u001b[0m\u001b[0;34m:\u001b[0m\u001b[0;34m\u001b[0m\u001b[0;34m\u001b[0m\u001b[0m\n\u001b[0;32m-> 1736\u001b[0;31m             \u001b[0;32mreturn\u001b[0m \u001b[0mself\u001b[0m\u001b[0;34m.\u001b[0m\u001b[0m_call_impl\u001b[0m\u001b[0;34m(\u001b[0m\u001b[0;34m*\u001b[0m\u001b[0margs\u001b[0m\u001b[0;34m,\u001b[0m \u001b[0;34m**\u001b[0m\u001b[0mkwargs\u001b[0m\u001b[0;34m)\u001b[0m\u001b[0;34m\u001b[0m\u001b[0;34m\u001b[0m\u001b[0m\n\u001b[0m\u001b[1;32m   1737\u001b[0m \u001b[0;34m\u001b[0m\u001b[0m\n\u001b[1;32m   1738\u001b[0m     \u001b[0;31m# torchrec tests the code consistency with the following code\u001b[0m\u001b[0;34m\u001b[0m\u001b[0;34m\u001b[0m\u001b[0m\n",
            "\u001b[0;32m/usr/local/lib/python3.10/dist-packages/torch/nn/modules/module.py\u001b[0m in \u001b[0;36m_call_impl\u001b[0;34m(self, *args, **kwargs)\u001b[0m\n\u001b[1;32m   1745\u001b[0m                 \u001b[0;32mor\u001b[0m \u001b[0m_global_backward_pre_hooks\u001b[0m \u001b[0;32mor\u001b[0m \u001b[0m_global_backward_hooks\u001b[0m\u001b[0;34m\u001b[0m\u001b[0;34m\u001b[0m\u001b[0m\n\u001b[1;32m   1746\u001b[0m                 or _global_forward_hooks or _global_forward_pre_hooks):\n\u001b[0;32m-> 1747\u001b[0;31m             \u001b[0;32mreturn\u001b[0m \u001b[0mforward_call\u001b[0m\u001b[0;34m(\u001b[0m\u001b[0;34m*\u001b[0m\u001b[0margs\u001b[0m\u001b[0;34m,\u001b[0m \u001b[0;34m**\u001b[0m\u001b[0mkwargs\u001b[0m\u001b[0;34m)\u001b[0m\u001b[0;34m\u001b[0m\u001b[0;34m\u001b[0m\u001b[0m\n\u001b[0m\u001b[1;32m   1748\u001b[0m \u001b[0;34m\u001b[0m\u001b[0m\n\u001b[1;32m   1749\u001b[0m         \u001b[0mresult\u001b[0m \u001b[0;34m=\u001b[0m \u001b[0;32mNone\u001b[0m\u001b[0;34m\u001b[0m\u001b[0;34m\u001b[0m\u001b[0m\n",
            "\u001b[0;32m/usr/local/lib/python3.10/dist-packages/transformers/models/bert/modeling_bert.py\u001b[0m in \u001b[0;36mforward\u001b[0;34m(self, input_ids, attention_mask, token_type_ids, position_ids, head_mask, inputs_embeds, labels, output_attentions, output_hidden_states, return_dict)\u001b[0m\n\u001b[1;32m   1663\u001b[0m         \u001b[0mreturn_dict\u001b[0m \u001b[0;34m=\u001b[0m \u001b[0mreturn_dict\u001b[0m \u001b[0;32mif\u001b[0m \u001b[0mreturn_dict\u001b[0m \u001b[0;32mis\u001b[0m \u001b[0;32mnot\u001b[0m \u001b[0;32mNone\u001b[0m \u001b[0;32melse\u001b[0m \u001b[0mself\u001b[0m\u001b[0;34m.\u001b[0m\u001b[0mconfig\u001b[0m\u001b[0;34m.\u001b[0m\u001b[0muse_return_dict\u001b[0m\u001b[0;34m\u001b[0m\u001b[0;34m\u001b[0m\u001b[0m\n\u001b[1;32m   1664\u001b[0m \u001b[0;34m\u001b[0m\u001b[0m\n\u001b[0;32m-> 1665\u001b[0;31m         outputs = self.bert(\n\u001b[0m\u001b[1;32m   1666\u001b[0m             \u001b[0minput_ids\u001b[0m\u001b[0;34m,\u001b[0m\u001b[0;34m\u001b[0m\u001b[0;34m\u001b[0m\u001b[0m\n\u001b[1;32m   1667\u001b[0m             \u001b[0mattention_mask\u001b[0m\u001b[0;34m=\u001b[0m\u001b[0mattention_mask\u001b[0m\u001b[0;34m,\u001b[0m\u001b[0;34m\u001b[0m\u001b[0;34m\u001b[0m\u001b[0m\n",
            "\u001b[0;32m/usr/local/lib/python3.10/dist-packages/torch/nn/modules/module.py\u001b[0m in \u001b[0;36m_wrapped_call_impl\u001b[0;34m(self, *args, **kwargs)\u001b[0m\n\u001b[1;32m   1734\u001b[0m             \u001b[0;32mreturn\u001b[0m \u001b[0mself\u001b[0m\u001b[0;34m.\u001b[0m\u001b[0m_compiled_call_impl\u001b[0m\u001b[0;34m(\u001b[0m\u001b[0;34m*\u001b[0m\u001b[0margs\u001b[0m\u001b[0;34m,\u001b[0m \u001b[0;34m**\u001b[0m\u001b[0mkwargs\u001b[0m\u001b[0;34m)\u001b[0m  \u001b[0;31m# type: ignore[misc]\u001b[0m\u001b[0;34m\u001b[0m\u001b[0;34m\u001b[0m\u001b[0m\n\u001b[1;32m   1735\u001b[0m         \u001b[0;32melse\u001b[0m\u001b[0;34m:\u001b[0m\u001b[0;34m\u001b[0m\u001b[0;34m\u001b[0m\u001b[0m\n\u001b[0;32m-> 1736\u001b[0;31m             \u001b[0;32mreturn\u001b[0m \u001b[0mself\u001b[0m\u001b[0;34m.\u001b[0m\u001b[0m_call_impl\u001b[0m\u001b[0;34m(\u001b[0m\u001b[0;34m*\u001b[0m\u001b[0margs\u001b[0m\u001b[0;34m,\u001b[0m \u001b[0;34m**\u001b[0m\u001b[0mkwargs\u001b[0m\u001b[0;34m)\u001b[0m\u001b[0;34m\u001b[0m\u001b[0;34m\u001b[0m\u001b[0m\n\u001b[0m\u001b[1;32m   1737\u001b[0m \u001b[0;34m\u001b[0m\u001b[0m\n\u001b[1;32m   1738\u001b[0m     \u001b[0;31m# torchrec tests the code consistency with the following code\u001b[0m\u001b[0;34m\u001b[0m\u001b[0;34m\u001b[0m\u001b[0m\n",
            "\u001b[0;32m/usr/local/lib/python3.10/dist-packages/torch/nn/modules/module.py\u001b[0m in \u001b[0;36m_call_impl\u001b[0;34m(self, *args, **kwargs)\u001b[0m\n\u001b[1;32m   1745\u001b[0m                 \u001b[0;32mor\u001b[0m \u001b[0m_global_backward_pre_hooks\u001b[0m \u001b[0;32mor\u001b[0m \u001b[0m_global_backward_hooks\u001b[0m\u001b[0;34m\u001b[0m\u001b[0;34m\u001b[0m\u001b[0m\n\u001b[1;32m   1746\u001b[0m                 or _global_forward_hooks or _global_forward_pre_hooks):\n\u001b[0;32m-> 1747\u001b[0;31m             \u001b[0;32mreturn\u001b[0m \u001b[0mforward_call\u001b[0m\u001b[0;34m(\u001b[0m\u001b[0;34m*\u001b[0m\u001b[0margs\u001b[0m\u001b[0;34m,\u001b[0m \u001b[0;34m**\u001b[0m\u001b[0mkwargs\u001b[0m\u001b[0;34m)\u001b[0m\u001b[0;34m\u001b[0m\u001b[0;34m\u001b[0m\u001b[0m\n\u001b[0m\u001b[1;32m   1748\u001b[0m \u001b[0;34m\u001b[0m\u001b[0m\n\u001b[1;32m   1749\u001b[0m         \u001b[0mresult\u001b[0m \u001b[0;34m=\u001b[0m \u001b[0;32mNone\u001b[0m\u001b[0;34m\u001b[0m\u001b[0;34m\u001b[0m\u001b[0m\n",
            "\u001b[0;32m/usr/local/lib/python3.10/dist-packages/transformers/models/bert/modeling_bert.py\u001b[0m in \u001b[0;36mforward\u001b[0;34m(self, input_ids, attention_mask, token_type_ids, position_ids, head_mask, inputs_embeds, encoder_hidden_states, encoder_attention_mask, past_key_values, use_cache, output_attentions, output_hidden_states, return_dict)\u001b[0m\n\u001b[1;32m   1071\u001b[0m             \u001b[0;32mif\u001b[0m \u001b[0mhasattr\u001b[0m\u001b[0;34m(\u001b[0m\u001b[0mself\u001b[0m\u001b[0;34m.\u001b[0m\u001b[0membeddings\u001b[0m\u001b[0;34m,\u001b[0m \u001b[0;34m\"token_type_ids\"\u001b[0m\u001b[0;34m)\u001b[0m\u001b[0;34m:\u001b[0m\u001b[0;34m\u001b[0m\u001b[0;34m\u001b[0m\u001b[0m\n\u001b[1;32m   1072\u001b[0m                 \u001b[0mbuffered_token_type_ids\u001b[0m \u001b[0;34m=\u001b[0m \u001b[0mself\u001b[0m\u001b[0;34m.\u001b[0m\u001b[0membeddings\u001b[0m\u001b[0;34m.\u001b[0m\u001b[0mtoken_type_ids\u001b[0m\u001b[0;34m[\u001b[0m\u001b[0;34m:\u001b[0m\u001b[0;34m,\u001b[0m \u001b[0;34m:\u001b[0m\u001b[0mseq_length\u001b[0m\u001b[0;34m]\u001b[0m\u001b[0;34m\u001b[0m\u001b[0;34m\u001b[0m\u001b[0m\n\u001b[0;32m-> 1073\u001b[0;31m                 \u001b[0mbuffered_token_type_ids_expanded\u001b[0m \u001b[0;34m=\u001b[0m \u001b[0mbuffered_token_type_ids\u001b[0m\u001b[0;34m.\u001b[0m\u001b[0mexpand\u001b[0m\u001b[0;34m(\u001b[0m\u001b[0mbatch_size\u001b[0m\u001b[0;34m,\u001b[0m \u001b[0mseq_length\u001b[0m\u001b[0;34m)\u001b[0m\u001b[0;34m\u001b[0m\u001b[0;34m\u001b[0m\u001b[0m\n\u001b[0m\u001b[1;32m   1074\u001b[0m                 \u001b[0mtoken_type_ids\u001b[0m \u001b[0;34m=\u001b[0m \u001b[0mbuffered_token_type_ids_expanded\u001b[0m\u001b[0;34m\u001b[0m\u001b[0;34m\u001b[0m\u001b[0m\n\u001b[1;32m   1075\u001b[0m             \u001b[0;32melse\u001b[0m\u001b[0;34m:\u001b[0m\u001b[0;34m\u001b[0m\u001b[0;34m\u001b[0m\u001b[0m\n",
            "\u001b[0;31mRuntimeError\u001b[0m: The expanded size of the tensor (1024) must match the existing size (512) at non-singleton dimension 1.  Target sizes: [16, 1024].  Tensor sizes: [1, 512]"
          ]
        }
      ]
    },
    {
      "cell_type": "code",
      "source": [
        "history = trainer.state.log_history\n",
        "\n",
        "train_loss = [log[\"loss\"] for log in history if \"loss\" in log]\n",
        "val_loss = [log[\"eval_loss\"] for log in history if \"eval_loss\" in log]\n",
        "\n",
        "plt.plot(train_loss, label=\"Training Loss\")\n",
        "plt.plot(val_loss[:-1], label=\"Validation Loss\")\n",
        "plt.xlabel(\"Steps\")\n",
        "plt.ylabel(\"Loss\")\n",
        "plt.xlim(0, len(train_loss))\n",
        "plt.ylim(0, max(max(train_loss), max(val_loss)))\n",
        "plt.legend()\n",
        "plt.show()\n",
        "\n",
        "print(len(val_loss))"
      ],
      "metadata": {
        "colab": {
          "base_uri": "https://localhost:8080/",
          "height": 466
        },
        "id": "BpMreLFbtxbG",
        "outputId": "f23f3b71-a845-417e-a178-4e1d9c6b6301"
      },
      "execution_count": 96,
      "outputs": [
        {
          "output_type": "display_data",
          "data": {
            "text/plain": [
              "<Figure size 640x480 with 1 Axes>"
            ],
            "image/png": "[encoded data removed]"
          },
          "metadata": {}
        },
        {
          "output_type": "stream",
          "name": "stdout",
          "text": [
            "101\n"
          ]
        }
      ]
    },
    {
      "cell_type": "code",
      "source": [
        "predictions = trainer.predict(test_dataset=test_dataset)\n",
        "print(predictions.predictions)  # Raw logits\n",
        "\n",
        "# Get predicted class labels from logits\n",
        "predicted_classes = np.argmax(predictions.predictions, axis=1)\n",
        "true_labels = predictions.label_ids\n",
        "\n",
        "# Display the predicted class labels\n",
        "print(\"Predicted Classes:\", predicted_classes)\n",
        "print(\"True Classes:\", true_labels)    # True labels\n",
        "\n",
        "def compute_metrics(true_labels, predicted_classes):\n",
        "    precision = precision_score(true_labels, predicted_classes, average=\"weighted\")\n",
        "    recall = recall_score(true_labels, predicted_classes, average=\"weighted\")\n",
        "    f1 = f1_score(true_labels, predicted_classes, average=\"weighted\")\n",
        "    accuracy = accuracy_score(true_labels, predicted_classes)\n",
        "\n",
        "    print(f\"Precision: {precision:.4f}\")\n",
        "    print(f\"Recall: {recall:.4f}\")\n",
        "    print(f\"F1 Score: {f1:.4f}\")\n",
        "    print(f\"Accuracy: {accuracy:.4f}\")\n",
        "\n",
        "    return {\"precision\": precision, \"recall\": recall, \"f1\": f1, \"accuracy\": accuracy}\n",
        "\n",
        "# Call the function\n",
        "metrics = compute_metrics(true_labels, predicted_classes)"
      ],
      "metadata": {
        "colab": {
          "base_uri": "https://localhost:8080/",
          "height": 364
        },
        "id": "YAjig5m-rMP8",
        "outputId": "7f78f08f-3de2-4376-b40c-9ed71605ccf3"
      },
      "execution_count": 97,
      "outputs": [
        {
          "output_type": "display_data",
          "data": {
            "text/plain": [
              "<IPython.core.display.HTML object>"
            ],
            "text/html": []
          },
          "metadata": {}
        },
        {
          "output_type": "stream",
          "name": "stdout",
          "text": [
            "[[-0.6499603   0.55521446]\n",
            " [ 1.5008082  -1.6635929 ]\n",
            " [ 1.4878762  -1.655727  ]\n",
            " [-0.25183454  0.5187531 ]\n",
            " [-1.0500218   1.1115035 ]\n",
            " [-0.94915885  0.6651509 ]\n",
            " [-0.92325944  1.0611184 ]\n",
            " [-0.93974805  1.0556698 ]\n",
            " [-0.7638464   0.6111928 ]\n",
            " [ 1.5008082  -1.6635929 ]\n",
            " [-0.75686795  0.61362237]\n",
            " [-0.93974805  1.0556698 ]\n",
            " [-1.0474267   1.1040477 ]\n",
            " [-0.94915885  0.6651509 ]]\n",
            "Predicted Classes: [1 0 0 1 1 1 1 1 1 0 1 1 1 1]\n",
            "True Classes: [1 0 0 0 1 1 0 1 0 0 0 1 1 1]\n",
            "Precision: 0.8182\n",
            "Recall: 0.7143\n",
            "F1 Score: 0.6889\n",
            "Accuracy: 0.7143\n"
          ]
        }
      ]
    },
    {
      "cell_type": "code",
      "source": [
        "# Calculate confusion matrix\n",
        "conf_matrix = confusion_matrix(true_labels, predicted_classes)\n",
        "\n",
        "# Display confusion matrix\n",
        "disp = ConfusionMatrixDisplay(confusion_matrix=conf_matrix, display_labels=[0, 1])  # Adjust for more classes\n",
        "disp.plot(cmap=\"Blues\", values_format=\"d\")\n",
        "plt.title(\"Confusion Matrix\")\n",
        "plt.show()\n"
      ],
      "metadata": {
        "colab": {
          "base_uri": "https://localhost:8080/",
          "height": 472
        },
        "id": "4p0HcQNbz1Q9",
        "outputId": "ebac10a6-69e3-473e-9ceb-13fee296a468"
      },
      "execution_count": 98,
      "outputs": [
        {
          "output_type": "display_data",
          "data": {
            "text/plain": [
              "<Figure size 640x480 with 2 Axes>"
            ],
            "image/png": "[encoded data removed]"
          },
          "metadata": {}
        }
      ]
    },
    {
      "cell_type": "code",
      "source": [
        "# Generate detailed class-wise metrics\n",
        "class_report = classification_report(true_labels, predicted_classes, target_names=[\"Class 0\", \"Class 1\"])\n",
        "print(\"Classification Report:\")\n",
        "print(class_report)"
      ],
      "metadata": {
        "colab": {
          "base_uri": "https://localhost:8080/"
        },
        "id": "MCnjokZy0MJy",
        "outputId": "6e5c4fc9-8111-453a-c7dd-64bce566f5b8"
      },
      "execution_count": 99,
      "outputs": [
        {
          "output_type": "stream",
          "name": "stdout",
          "text": [
            "Classification Report:\n",
            "              precision    recall  f1-score   support\n",
            "\n",
            "     Class 0       1.00      0.43      0.60         7\n",
            "     Class 1       0.64      1.00      0.78         7\n",
            "\n",
            "    accuracy                           0.71        14\n",
            "   macro avg       0.82      0.71      0.69        14\n",
            "weighted avg       0.82      0.71      0.69        14\n",
            "\n"
          ]
        }
      ]
    },
    {
      "cell_type": "code",
      "source": [
        "# Assuming binary classification and raw logits\n",
        "probabilities = predictions.predictions[:, 1]  # Probabilities for the positive class\n",
        "precision, recall, thresholds = precision_recall_curve(true_labels, probabilities)\n",
        "\n",
        "# Calculate the area under the precision-recall curve\n",
        "pr_auc = auc(recall, precision)\n",
        "\n",
        "# Plot Precision-Recall Curve\n",
        "plt.figure(figsize=(8, 6))\n",
        "plt.plot(recall, precision, label=f'PR Curve (AUC = {pr_auc:.2f})', color='blue', lw=2)\n",
        "\n",
        "# Highlight threshold points with a larger marker size\n",
        "plt.scatter(recall[:-1], precision[:-1], c=thresholds, cmap='viridis', s=50, edgecolor='k', label='Threshold Points')\n",
        "\n",
        "# Annotate thresholds for clarity (every 3rd point)\n",
        "for i in range(0, len(thresholds), 3):\n",
        "    plt.text(recall[i], precision[i], f'{thresholds[i]:.2f}', fontsize=8, color='black')\n",
        "\n",
        "# Enhancements\n",
        "plt.colorbar(label='Threshold')\n",
        "plt.xlabel('Recall', fontsize=12)\n",
        "plt.ylabel('Precision', fontsize=12)\n",
        "plt.title('Enhanced Precision-Recall Curve', fontsize=14)\n",
        "plt.grid(alpha=0.4)\n",
        "plt.legend(fontsize=12)\n",
        "plt.show()\n"
      ],
      "metadata": {
        "colab": {
          "base_uri": "https://localhost:8080/",
          "height": 559
        },
        "id": "4Cy4EpON0WTg",
        "outputId": "de26bdc8-76ed-4c77-df00-36613b4d93e4"
      },
      "execution_count": 100,
      "outputs": [
        {
          "output_type": "display_data",
          "data": {
            "text/plain": [
              "<Figure size 800x600 with 2 Axes>"
            ],
            "image/png": "[encoded data removed]"
          },
          "metadata": {}
        }
      ]
    },
    {
      "cell_type": "code",
      "source": [
        "# Analyze class distribution\n",
        "unique, counts = np.unique(true_labels, return_counts=True)\n",
        "print(\"Class Distribution:\", dict(zip(unique, counts)))"
      ],
      "metadata": {
        "colab": {
          "base_uri": "https://localhost:8080/"
        },
        "id": "dYNHqy5H0bmj",
        "outputId": "62b098b0-6839-46a0-ab37-6313b422e456"
      },
      "execution_count": 101,
      "outputs": [
        {
          "output_type": "stream",
          "name": "stdout",
          "text": [
            "Class Distribution: {0: 7, 1: 7}\n"
          ]
        }
      ]
    }
  ]
}