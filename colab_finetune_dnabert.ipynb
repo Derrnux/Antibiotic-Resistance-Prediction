{
 "cells": [
  {
   "cell_type": "markdown",
   "metadata": {
    "id": "axTOJSHkqibr"
   },
   "source": [
    "# Get Data and Code from Github"
   ]
  },
  {
   "cell_type": "code",
   "execution_count": 1,
   "metadata": {
    "colab": {
     "base_uri": "https://localhost:8080/"
    },
    "id": "bP74fsDaqibt",
    "outputId": "ae867d46-9c93-4795-9ccd-a3ff3d29f0c5"
   },
   "outputs": [
    {
     "name": "stdout",
     "output_type": "stream",
     "text": [
      "Directory seminar-dlmb-2024-winter-public does not exist or is empty.\n"
     ]
    }
   ],
   "source": [
    "import os\n",
    "directory = \"seminar-dlmb-2024-winter-public\"\n",
    "\n",
    "if os.path.exists(directory) and os.listdir(directory):\n",
    "    print(f\"Directory {directory} exists and is non-empty.\")\n",
    "else:\n",
    "    print(f\"Directory {directory} does not exist or is empty.\")\n",
    "    !!git clone https://github.com/hzi-bifo/seminar-dlmb-2024-winter-public.git"
   ]
  },
  {
   "cell_type": "markdown",
   "metadata": {
    "id": "jBheEOtnqibu"
   },
   "source": [
    "# Install Some Stuff"
   ]
  },
  {
   "cell_type": "code",
   "execution_count": 2,
   "metadata": {
    "colab": {
     "base_uri": "https://localhost:8080/"
    },
    "id": "cBkEdWwJqibu",
    "outputId": "dba3b87f-63f1-4b9c-c96b-d3693c84c6fe"
   },
   "outputs": [
    {
     "name": "stdout",
     "output_type": "stream",
     "text": [
      "Collecting biopython\n",
      "  Downloading biopython-1.84-cp310-cp310-manylinux_2_17_x86_64.manylinux2014_x86_64.whl.metadata (12 kB)\n",
      "Requirement already satisfied: seaborn in /usr/local/lib/python3.10/dist-packages (0.13.2)\n",
      "Requirement already satisfied: numpy in /usr/local/lib/python3.10/dist-packages (from biopython) (1.26.4)\n",
      "Requirement already satisfied: pandas>=1.2 in /usr/local/lib/python3.10/dist-packages (from seaborn) (2.2.2)\n",
      "Requirement already satisfied: matplotlib!=3.6.1,>=3.4 in /usr/local/lib/python3.10/dist-packages (from seaborn) (3.8.0)\n",
      "Requirement already satisfied: contourpy>=1.0.1 in /usr/local/lib/python3.10/dist-packages (from matplotlib!=3.6.1,>=3.4->seaborn) (1.3.1)\n",
      "Requirement already satisfied: cycler>=0.10 in /usr/local/lib/python3.10/dist-packages (from matplotlib!=3.6.1,>=3.4->seaborn) (0.12.1)\n",
      "Requirement already satisfied: fonttools>=4.22.0 in /usr/local/lib/python3.10/dist-packages (from matplotlib!=3.6.1,>=3.4->seaborn) (4.55.3)\n",
      "Requirement already satisfied: kiwisolver>=1.0.1 in /usr/local/lib/python3.10/dist-packages (from matplotlib!=3.6.1,>=3.4->seaborn) (1.4.7)\n",
      "Requirement already satisfied: packaging>=20.0 in /usr/local/lib/python3.10/dist-packages (from matplotlib!=3.6.1,>=3.4->seaborn) (24.2)\n",
      "Requirement already satisfied: pillow>=6.2.0 in /usr/local/lib/python3.10/dist-packages (from matplotlib!=3.6.1,>=3.4->seaborn) (11.0.0)\n",
      "Requirement already satisfied: pyparsing>=2.3.1 in /usr/local/lib/python3.10/dist-packages (from matplotlib!=3.6.1,>=3.4->seaborn) (3.2.0)\n",
      "Requirement already satisfied: python-dateutil>=2.7 in /usr/local/lib/python3.10/dist-packages (from matplotlib!=3.6.1,>=3.4->seaborn) (2.8.2)\n",
      "Requirement already satisfied: pytz>=2020.1 in /usr/local/lib/python3.10/dist-packages (from pandas>=1.2->seaborn) (2024.2)\n",
      "Requirement already satisfied: tzdata>=2022.7 in /usr/local/lib/python3.10/dist-packages (from pandas>=1.2->seaborn) (2024.2)\n",
      "Requirement already satisfied: six>=1.5 in /usr/local/lib/python3.10/dist-packages (from python-dateutil>=2.7->matplotlib!=3.6.1,>=3.4->seaborn) (1.17.0)\n",
      "Downloading biopython-1.84-cp310-cp310-manylinux_2_17_x86_64.manylinux2014_x86_64.whl (3.2 MB)\n",
      "\u001b[2K   \u001b[90m━━━━━━━━━━━━━━━━━━━━━━━━━━━━━━━━━━━━━━━━\u001b[0m \u001b[32m3.2/3.2 MB\u001b[0m \u001b[31m32.9 MB/s\u001b[0m eta \u001b[36m0:00:00\u001b[0m\n",
      "\u001b[?25hInstalling collected packages: biopython\n",
      "Successfully installed biopython-1.84\n",
      "Requirement already satisfied: biopython in /usr/local/lib/python3.10/dist-packages (1.84)\n",
      "Requirement already satisfied: numpy in /usr/local/lib/python3.10/dist-packages (from biopython) (1.26.4)\n",
      "Requirement already satisfied: seaborn in /usr/local/lib/python3.10/dist-packages (0.13.2)\n",
      "Requirement already satisfied: numpy!=1.24.0,>=1.20 in /usr/local/lib/python3.10/dist-packages (from seaborn) (1.26.4)\n",
      "Requirement already satisfied: pandas>=1.2 in /usr/local/lib/python3.10/dist-packages (from seaborn) (2.2.2)\n",
      "Requirement already satisfied: matplotlib!=3.6.1,>=3.4 in /usr/local/lib/python3.10/dist-packages (from seaborn) (3.8.0)\n",
      "Requirement already satisfied: contourpy>=1.0.1 in /usr/local/lib/python3.10/dist-packages (from matplotlib!=3.6.1,>=3.4->seaborn) (1.3.1)\n",
      "Requirement already satisfied: cycler>=0.10 in /usr/local/lib/python3.10/dist-packages (from matplotlib!=3.6.1,>=3.4->seaborn) (0.12.1)\n",
      "Requirement already satisfied: fonttools>=4.22.0 in /usr/local/lib/python3.10/dist-packages (from matplotlib!=3.6.1,>=3.4->seaborn) (4.55.3)\n",
      "Requirement already satisfied: kiwisolver>=1.0.1 in /usr/local/lib/python3.10/dist-packages (from matplotlib!=3.6.1,>=3.4->seaborn) (1.4.7)\n",
      "Requirement already satisfied: packaging>=20.0 in /usr/local/lib/python3.10/dist-packages (from matplotlib!=3.6.1,>=3.4->seaborn) (24.2)\n",
      "Requirement already satisfied: pillow>=6.2.0 in /usr/local/lib/python3.10/dist-packages (from matplotlib!=3.6.1,>=3.4->seaborn) (11.0.0)\n",
      "Requirement already satisfied: pyparsing>=2.3.1 in /usr/local/lib/python3.10/dist-packages (from matplotlib!=3.6.1,>=3.4->seaborn) (3.2.0)\n",
      "Requirement already satisfied: python-dateutil>=2.7 in /usr/local/lib/python3.10/dist-packages (from matplotlib!=3.6.1,>=3.4->seaborn) (2.8.2)\n",
      "Requirement already satisfied: pytz>=2020.1 in /usr/local/lib/python3.10/dist-packages (from pandas>=1.2->seaborn) (2024.2)\n",
      "Requirement already satisfied: tzdata>=2022.7 in /usr/local/lib/python3.10/dist-packages (from pandas>=1.2->seaborn) (2024.2)\n",
      "Requirement already satisfied: six>=1.5 in /usr/local/lib/python3.10/dist-packages (from python-dateutil>=2.7->matplotlib!=3.6.1,>=3.4->seaborn) (1.17.0)\n",
      "\u001b[2K   \u001b[90m━━━━━━━━━━━━━━━━━━━━━━━━━━━━━━━━━━━━━━━━\u001b[0m \u001b[32m480.6/480.6 kB\u001b[0m \u001b[31m9.5 MB/s\u001b[0m eta \u001b[36m0:00:00\u001b[0m\n",
      "\u001b[2K   \u001b[90m━━━━━━━━━━━━━━━━━━━━━━━━━━━━━━━━━━━━━━━━\u001b[0m \u001b[32m116.3/116.3 kB\u001b[0m \u001b[31m9.5 MB/s\u001b[0m eta \u001b[36m0:00:00\u001b[0m\n",
      "\u001b[2K   \u001b[90m━━━━━━━━━━━━━━━━━━━━━━━━━━━━━━━━━━━━━━━━\u001b[0m \u001b[32m179.3/179.3 kB\u001b[0m \u001b[31m14.2 MB/s\u001b[0m eta \u001b[36m0:00:00\u001b[0m\n",
      "\u001b[2K   \u001b[90m━━━━━━━━━━━━━━━━━━━━━━━━━━━━━━━━━━━━━━━━\u001b[0m \u001b[32m134.8/134.8 kB\u001b[0m \u001b[31m11.2 MB/s\u001b[0m eta \u001b[36m0:00:00\u001b[0m\n",
      "\u001b[2K   \u001b[90m━━━━━━━━━━━━━━━━━━━━━━━━━━━━━━━━━━━━━━━━\u001b[0m \u001b[32m194.1/194.1 kB\u001b[0m \u001b[31m14.9 MB/s\u001b[0m eta \u001b[36m0:00:00\u001b[0m\n",
      "\u001b[?25h\u001b[31mERROR: pip's dependency resolver does not currently take into account all the packages that are installed. This behaviour is the source of the following dependency conflicts.\n",
      "gcsfs 2024.10.0 requires fsspec==2024.10.0, but you have fsspec 2024.9.0 which is incompatible.\u001b[0m\u001b[31m\n",
      "\u001b[0m"
     ]
    }
   ],
   "source": [
    "%pip install biopython seaborn\n",
    "%pip install biopython\n",
    "%pip install seaborn\n",
    "%pip install -q biopython transformers datasets huggingface_hub accelerate"
   ]
  },
  {
   "cell_type": "code",
   "execution_count": 3,
   "metadata": {
    "colab": {
     "base_uri": "https://localhost:8080/"
    },
    "id": "ZqN-nzbkqibu",
    "outputId": "10c7eaf3-1624-43b8-a43d-3dfd30000ce0"
   },
   "outputs": [
    {
     "name": "stdout",
     "output_type": "stream",
     "text": [
      "\u001b[31mERROR: Could not open requirements file: [Errno 2] No such file or directory: 'pytorch'\u001b[0m\u001b[31m\n",
      "\u001b[0mCloning into 'DNABERT'...\n",
      "remote: Enumerating objects: 778, done.\u001b[K\n",
      "remote: Counting objects: 100% (778/778), done.\u001b[K\n",
      "remote: Compressing objects: 100% (348/348), done.\u001b[K\n",
      "remote: Total 778 (delta 420), reused 721 (delta 407), pack-reused 0 (from 0)\u001b[K\n",
      "Receiving objects: 100% (778/778), 11.66 MiB | 18.99 MiB/s, done.\n",
      "Resolving deltas: 100% (420/420), done.\n",
      "\u001b[31mERROR: Directory '.' is not installable. Neither 'setup.py' nor 'pyproject.toml' found.\u001b[0m\u001b[31m\n",
      "\u001b[0m/bin/bash: line 1: cd: examples: No such file or directory\n",
      "\u001b[31mERROR: Could not open requirements file: [Errno 2] No such file or directory: 'requirements.txt'\u001b[0m\u001b[31m\n",
      "\u001b[0m"
     ]
    }
   ],
   "source": [
    "%pip install pytorch torchvision cudatoolkit=10.0 -c pytorch\n",
    "\n",
    "!git clone https://github.com/jerryji1993/DNABERT\n",
    "!cd DNABERT\n",
    "%pip install -r --editable .\n",
    "!cd examples\n",
    "%pip install -r requirements.txt"
   ]
  },
  {
   "cell_type": "markdown",
   "metadata": {
    "id": "RuITuZKPqibv"
   },
   "source": [
    "# Copy of Custom Classes (see git)"
   ]
  },
  {
   "cell_type": "code",
   "execution_count": 4,
   "metadata": {
    "id": "qF03MSpQrxTz"
   },
   "outputs": [],
   "source": [
    "import random\n",
    "import sys\n",
    "\n",
    "class SEQData():\n",
    "    def __init__(self, seed):\n",
    "        random.seed(seed)\n",
    "        # make sure that \"/seminar-dlmb-2024-winter-public\" exists\n",
    "\n",
    "        sys.path.insert(0, 'seminar-dlmb-2024-winter-public/src/')\n",
    "\n",
    "        from amr.amr_utility import load_gene_data, create_gene_datasets\n",
    "\n",
    "        create_gene_datasets(\"seminar-dlmb-2024-winter-public/\", \"seminar-dlmb-2024-winter-public/data/ds1\")\n",
    "        ds = load_gene_data(\"seminar-dlmb-2024-winter-public/data/ds1\", \"Staphylococcus_aureus_cefoxitin\", \"pbp4\")\n",
    "\n",
    "        sequences_train = [x[1] for x in ds[\"train\"]]\n",
    "        labels_train = [x[2] for x in ds[\"train\"]]\n",
    "\n",
    "        sequences_test = [x[1] for x in ds[\"test\"]]\n",
    "        labels_test = [x[2] for x in ds[\"test\"]]\n",
    "\n",
    "        sequences = sequences_train + sequences_test\n",
    "        labels = labels_train + labels_test\n",
    "\n",
    "        class_0 = [(seq, label) for seq, label in zip(sequences, labels) if label == 0]\n",
    "        class_1 = [(seq, label) for seq, label in zip(sequences, labels) if label == 1]\n",
    "\n",
    "        random.shuffle(class_0)\n",
    "        random.shuffle(class_1)\n",
    "\n",
    "        test_data = class_0[:7] + class_1[:7]\n",
    "        leftover_class_0 = class_0[7:]\n",
    "        leftover_class_1 = class_1[7:]\n",
    "\n",
    "        val_data = leftover_class_0[:7] + leftover_class_1[:7]\n",
    "        leftover_class_0 = leftover_class_0[7:]\n",
    "        leftover_class_1 = leftover_class_1[7:]\n",
    "\n",
    "        train_data = leftover_class_0 + leftover_class_1\n",
    "\n",
    "        self.test_sequences = [seq for seq, label in test_data]\n",
    "        self.test_labels = [label for seq, label in test_data]\n",
    "\n",
    "        self.val_sequences = [seq for seq, label in val_data]\n",
    "        self.val_labels = [label for seq, label in val_data]\n",
    "\n",
    "        self.train_sequences = [seq for seq, label in train_data]\n",
    "        self.train_labels = [label for seq, label in train_data]"
   ]
  },
  {
   "cell_type": "code",
   "execution_count": 5,
   "metadata": {
    "id": "oqwWDVXyqibv"
   },
   "outputs": [],
   "source": [
    "from itertools import product\n",
    "\n",
    "class SEQTokenizer_Kmers():\n",
    "    \"\"\"Custom tokenizer for DNA sequences with k-mers.\"\"\"\n",
    "    def __init__(self, k):\n",
    "        self.k = k\n",
    "\n",
    "        self.vocab = [''.join(kmer) for kmer in product('ATCG', repeat=k)]\n",
    "        self.token_to_id = {token: i for i, token in enumerate(self.vocab)}\n",
    "\n",
    "    def encode(self, sequence):\n",
    "        kmers = [sequence[i:i+self.k] for i in range(len(sequence) - self.k + 1)]\n",
    "        return [self.token_to_id[kmer] for kmer in kmers if kmer in self.token_to_id]\n",
    "\n",
    "    def token_id_tensor_to_id_array(self, token_id_tensor):\n",
    "        return [token_id.item() for token_id in token_id_tensor]\n"
   ]
  },
  {
   "cell_type": "code",
   "execution_count": 6,
   "metadata": {
    "id": "8XHkkmOOqibv"
   },
   "outputs": [],
   "source": [
    "import torch\n",
    "\n",
    "class SEQDataset(torch.utils.data.Dataset):\n",
    "    def __init__(self, sequences, labels, tokenizer):\n",
    "        self.sequences = sequences\n",
    "        self.labels = labels\n",
    "        self.tokenizer = tokenizer\n",
    "\n",
    "    def __len__(self):\n",
    "        return len(self.sequences)\n",
    "\n",
    "    def __getitem__(self, idx):\n",
    "        sequence = self.sequences[idx]\n",
    "        label = self.labels[idx]\n",
    "        tokens = self.tokenizer.encode(sequence)\n",
    "        return torch.tensor(tokens, dtype=torch.long), torch.tensor(label, dtype=torch.long)"
   ]
  },
  {
   "cell_type": "markdown",
   "metadata": {
    "id": "nU4GJ6jsqibv"
   },
   "source": [
    "# Load, Tokenize and save Data as Dataset"
   ]
  },
  {
   "cell_type": "code",
   "execution_count": 7,
   "metadata": {
    "id": "YytLtmviqibv"
   },
   "outputs": [],
   "source": [
    "import random\n",
    "\n",
    "random.seed(42)"
   ]
  },
  {
   "cell_type": "code",
   "execution_count": 8,
   "metadata": {
    "id": "web6ULbEqibv"
   },
   "outputs": [],
   "source": [
    "tokenizer = SEQTokenizer_Kmers(6)\n",
    "\n",
    "#loat genetic sequence data from the seminar-dlmb-2024-winter-public repository\n",
    "data = SEQData(42)\n",
    "\n",
    "# create datasets of type torch.utils.data.Dataset\n",
    "train_dataset = SEQDataset(data.train_sequences, data.train_labels, tokenizer)\n",
    "val_dataset = SEQDataset(data.val_sequences, data.val_labels, tokenizer)\n",
    "test_dataset = SEQDataset(data.test_sequences, data.test_labels, tokenizer)\n",
    "\n",
    "\n",
    "def create_dict(dataset, name):\n",
    "    dataset_sequences = []\n",
    "    dataset_labels = []\n",
    "\n",
    "    print(f\"Creating dict for set '{name}'...\")\n",
    "\n",
    "    for token, label in dataset:\n",
    "        tokens = tokenizer.token_id_tensor_to_id_array(token)\n",
    "\n",
    "        tokens = tokens[:512]\n",
    "\n",
    "        dataset_sequences.append(tokens)\n",
    "        dataset_labels.append(label.item())\n",
    "\n",
    "    random.shuffle(dataset_sequences) # with same seed!!!\n",
    "    random.shuffle(dataset_labels)\n",
    "\n",
    "    return dataset_sequences, dataset_labels"
   ]
  },
  {
   "cell_type": "code",
   "execution_count": 9,
   "metadata": {
    "colab": {
     "base_uri": "https://localhost:8080/"
    },
    "id": "3NEepYvOqibv",
    "outputId": "cff7f64b-6178-4c35-9d7f-ee1decf8037c"
   },
   "outputs": [
    {
     "name": "stdout",
     "output_type": "stream",
     "text": [
      "Creating dict for set 'train'...\n",
      "Creating dict for set 'validation'...\n",
      "Creating dict for set 'test'...\n"
     ]
    }
   ],
   "source": [
    "train_seq, train_y = create_dict(train_dataset, 'train')\n",
    "val_seq, val_y = create_dict(val_dataset, 'validation')\n",
    "test_seq, test_y = create_dict(test_dataset, 'test')"
   ]
  },
  {
   "cell_type": "code",
   "execution_count": 10,
   "metadata": {
    "id": "97FGpJyYstRM"
   },
   "outputs": [],
   "source": [
    "train_dict = {'input_ids': train_seq}\n",
    "val_dict = {'input_ids': val_seq}\n",
    "test_dict = {'input_ids': test_seq}"
   ]
  },
  {
   "cell_type": "code",
   "execution_count": 11,
   "metadata": {
    "colab": {
     "base_uri": "https://localhost:8080/"
    },
    "id": "jMtqwodhqibw",
    "outputId": "6374b6c8-d6d6-48ea-84d0-a63ac614a462"
   },
   "outputs": [
    {
     "name": "stdout",
     "output_type": "stream",
     "text": [
      "{'input_ids': [1792, 3072, 1, 5, 21, 84, 336, 1345, 1284, 1041, 70, 281, 1124, 401, 1605, 2324, 1105, 326, 1304, 1121, 390, 1560, 2145, 389, 1557, 2133, 340, 1361, 1351, 1309, 1141, 469, 1876, 3408, 1346, 1288, 1057, 133, 532, 2128, 323, 1293, 1076, 209, 837, 3348, 1105, 327, 1308, 1138, 456, 1826, 3210, 552, 2209, 644, 2577, 2119, 286, 1144, 482, 1928, 3616, 2179, 526, 2105, 231, 926, 3705, 2532, 1936, 3650, 2312, 1059, 141, 567, 2268, 882, 3531, 1837, 3252, 720, 2882, 3338, 1066, 170, 681, 2727, 2717, 2676, 2514, 1864, 3360, 1155, 526, 2104, 227, 910, 3640, 2272, 896, 3585, 2054, 24, 96, 385, 1540, 2065, 71, 287, 1149, 501, 2004, 3921, 3399, 1310, 1144, 483, 1935, 3645, 2293, 981, 3927, 3421, 1398, 1499, 1903, 3518, 1785, 3047, 3998, 3704, 2529, 1924, 3602, 2123, 300, 1200, 706, 2826, 3115, 172, 690, 2763, 2860, 3251, 717, 2871, 3294, 889, 3559, 1949, 3701, 2516, 1872, 3393, 1287, 1053, 117, 468, 1875, 3405, 1334, 1240, 864, 3456, 1538, 2057, 39, 159, 636, 2546, 1992, 3872, 3201, 517, 2068, 82, 329, 1319, 1181, 628, 2513, 1862, 3352, 1120, 385, 1540, 2066, 72, 288, 1153, 516, 2065, 70, 283, 1132, 433, 1732, 2834, 3145, 292, 1168, 579, 2317, 1079, 223, 892, 3568, 1985, 3846, 3098, 104, 419, 1678, 2619, 2285, 950, 3801, 2916, 3473, 1607, 2332, 1138, 457, 1828, 3216, 576, 2305, 1029, 20, 80, 321, 1287, 1052, 114, 456, 1824, 3201, 519, 2077, 116, 466, 1865, 3365, 1172, 592, 2370, 1288, 1057, 133, 535, 2143, 380, 1520, 1987, 3854, 3129, 231, 925, 3700, 2512, 1856, 3329, 1028, 16, 67, 271, 1087, 255, 1022, 4088, 4067, 3982, 3641, 2277, 917, 3670, 2392, 1378, 1417, 1573, 2199, 604, 2417, 1479, 1820, 3186, 456, 1826, 3208, 547, 2189, 566, 2264, 866, 3464, 1568, 2177, 519, 2076, 114, 459, 1836, 3248, 706, 2824, 3104, 128, 515, 2060, 48, 193, 772, 3089, 68, 273, 1093, 276, 1105, 327, 1309, 1142, 473, 1892, 3474, 1608, 2338, 1161, 548, 2194, 586, 2345, 1191, 668, 2675, 2509, 1845, 3287, 860, 3443, 1485, 1844, 3280, 833, 3332, 1042, 75, 300, 1200, 704, 2818, 3081, 36, 145, 580, 2321, 1094, 282, 1129, 423, 1695, 2684, 2546, 1992, 3872, 3203, 525, 2100, 209, 839, 3359, 1148, 498, 1992, 3872, 3201, 518, 2075, 110, 440, 1763, 2956, 3634, 2250, 809, 3236, 657, 2629, 2324, 1106, 328, 1312, 1152, 513, 2053, 20, 82, 328, 1315, 1165, 564, 2257, 838, 3353, 1124, 400, 1601, 2309, 1046, 89, 356, 1427, 1613, 2356, 1232, 833, 3335, 1054, 122, 491, 1966, 3771, 2799, 3006, 3832, 3041, 3973, 3604, 2128, 321, 1285, 1045, 85, 340, 1363, 1358, 1337, 1252, 912, 3651, 2316, 1072, 195, 783, 3133, 244, 977, 3910, 3352, 1120, 384, 1536, 2048, 0, 2, 8, 34, 138, 552, 2211, 654, 2619, 2284, 945, 3781, 2837, 3158, 347, 1389, 1461, 1751, 2908, 3441, 1477, 1813, 3156, 336, 1345, 1287, 1052, 112, 449, 1796, 3088, 66, 264, 1056, 128, 515, 2062, 57, 228, 912, 3648, 2307, 1038, 57, 228, 913, 3654, 2331, 1135, 444, 1776, 3009, 3847, 3100, 112, 448, 1792, 3072], 'labels': 1}\n"
     ]
    }
   ],
   "source": [
    "from datasets import Dataset\n",
    "\n",
    "train_dataset = Dataset.from_dict(train_dict)\n",
    "val_dataset = Dataset.from_dict(val_dict)\n",
    "test_dataset = Dataset.from_dict(test_dict)\n",
    "\n",
    "train_dataset = train_dataset.add_column('labels', train_y)\n",
    "val_dataset = val_dataset.add_column('labels', val_y)\n",
    "test_dataset = test_dataset.add_column('labels', test_y)\n",
    "\n",
    "print(train_dataset[0])"
   ]
  },
  {
   "cell_type": "markdown",
   "metadata": {
    "id": "r9KBQlCVqibw"
   },
   "source": [
    "# Compute Class Weights"
   ]
  },
  {
   "cell_type": "code",
   "execution_count": 12,
   "metadata": {
    "colab": {
     "base_uri": "https://localhost:8080/"
    },
    "id": "H4cjD3Azqibw",
    "outputId": "bba507c4-d6fd-4842-9307-2d771a2767c8"
   },
   "outputs": [
    {
     "name": "stdout",
     "output_type": "stream",
     "text": [
      "Class Weights: tensor([2.3462, 0.6354])\n"
     ]
    }
   ],
   "source": [
    "from sklearn.utils.class_weight import compute_class_weight\n",
    "import numpy as np\n",
    "\n",
    "# Get labels from the training dataset\n",
    "labels = train_dataset[\"labels\"]\n",
    "\n",
    "# Compute class weights\n",
    "class_weights = compute_class_weight(\n",
    "    class_weight=\"balanced\",  # Automatically calculate balanced weights\n",
    "    classes=np.unique(labels),  # Unique classes in the dataset\n",
    "    y=labels                  # Labels of the dataset\n",
    ")\n",
    "\n",
    "# Convert to PyTorch tensor\n",
    "class_weights_tensor = torch.tensor(class_weights, dtype=torch.float)\n",
    "print(\"Class Weights:\", class_weights_tensor)\n"
   ]
  },
  {
   "cell_type": "markdown",
   "metadata": {
    "id": "3kmBTOPLqibw"
   },
   "source": [
    "# Define Transfomer Model"
   ]
  },
  {
   "cell_type": "code",
   "execution_count": 13,
   "metadata": {
    "colab": {
     "base_uri": "https://localhost:8080/",
     "height": 240,
     "referenced_widgets": [
      "5cb9649092b94d3dbe8b384781cb73fe",
      "d9d083278fb14254b4b494525357f797",
      "a2161c63e36c44d9809f40427e19a0a1",
      "ad82d14214274171a895ceba8ea68e6c",
      "4173b0ebc9f24eb8afae5d883cf7c0cc",
      "327847d568624aaebea4ab1330349f8e",
      "cebc60538d2143ec88ad51864d1c96be",
      "82d7573994cf4f62ab5c6bad2d1e24c0",
      "b62c1e85306c46c79e74fa701b10aae3",
      "9d9eb3f900604698b277a2ab87774fed",
      "812fbe0f32ef40849d0b244dc001b0b5",
      "2426bcbae93548c2967d380e83484a0d",
      "b156f4dbb31c4b329d989447b02da725",
      "5393e6545b2e42c3b3e6924f7261b891",
      "a35e94e82b2c46d8b30857f5181e0f7c",
      "c198ea2f9b444faba4b58de2ca20daac",
      "035a335c130141319ba54fcc2e90a709",
      "b6b8a4d857044a45908dd20d934b56a3",
      "ccf255d3b56047148dad7b392fe5f9e4",
      "cb7cf51fb7194b888592b4e990dd6c55",
      "ec428330168d46368cb4ba8c6c640d99",
      "2b2b8a5de95a4258ac67bfce0fdbb8b7"
     ]
    },
    "id": "iQ4GBS8Yqibw",
    "outputId": "96f5802b-3863-4581-b243-b284139d6ada"
   },
   "outputs": [
    {
     "name": "stderr",
     "output_type": "stream",
     "text": [
      "/usr/local/lib/python3.10/dist-packages/huggingface_hub/utils/_auth.py:94: UserWarning: \n",
      "The secret `HF_TOKEN` does not exist in your Colab secrets.\n",
      "To authenticate with the Hugging Face Hub, create a token in your settings tab (https://huggingface.co/settings/tokens), set it as secret in your Google Colab and restart your session.\n",
      "You will be able to reuse this secret in all of your notebooks.\n",
      "Please note that authentication is recommended but still optional to access public models or datasets.\n",
      "  warnings.warn(\n"
     ]
    },
    {
     "data": {
      "application/vnd.jupyter.widget-view+json": {
       "model_id": "5cb9649092b94d3dbe8b384781cb73fe",
       "version_major": 2,
       "version_minor": 0
      },
      "text/plain": [
       "config.json:   0%|          | 0.00/1.45k [00:00<?, ?B/s]"
      ]
     },
     "metadata": {},
     "output_type": "display_data"
    },
    {
     "data": {
      "application/vnd.jupyter.widget-view+json": {
       "model_id": "2426bcbae93548c2967d380e83484a0d",
       "version_major": 2,
       "version_minor": 0
      },
      "text/plain": [
       "pytorch_model.bin:   0%|          | 0.00/359M [00:00<?, ?B/s]"
      ]
     },
     "metadata": {},
     "output_type": "display_data"
    },
    {
     "name": "stderr",
     "output_type": "stream",
     "text": [
      "Some weights of BertForSequenceClassification were not initialized from the model checkpoint at zhihan1996/DNA_bert_6 and are newly initialized: ['classifier.bias', 'classifier.weight']\n",
      "You should probably TRAIN this model on a down-stream task to be able to use it for predictions and inference.\n"
     ]
    }
   ],
   "source": [
    "from transformers import AutoModelForSequenceClassification\n",
    "\n",
    "# Define a custom model with weighted loss\n",
    "class WeightedModel(torch.nn.Module):\n",
    "    def __init__(self, model_name, class_weights):\n",
    "        super().__init__()\n",
    "        self.model = AutoModelForSequenceClassification.from_pretrained(model_name, num_labels=len(class_weights))\n",
    "        self.loss_fn = torch.nn.CrossEntropyLoss(weight=class_weights)\n",
    "\n",
    "    def forward(self, input_ids, attention_mask, labels=None):\n",
    "        outputs = self.model(input_ids=input_ids, attention_mask=attention_mask)\n",
    "        logits = outputs.logits\n",
    "\n",
    "        if labels is not None:  # Compute weighted loss if labels are provided\n",
    "            loss = self.loss_fn(logits, labels)\n",
    "            return {\"loss\": loss, \"logits\": logits}\n",
    "        else:\n",
    "            return {\"logits\": logits}\n",
    "\n",
    "# Initialize the model with class weights\n",
    "model = WeightedModel('zhihan1996/DNA_bert_6', class_weights_tensor)"
   ]
  },
  {
   "cell_type": "markdown",
   "metadata": {
    "id": "reDN_fKwqibw"
   },
   "source": [
    "# Fine-Tuning of the Model"
   ]
  },
  {
   "cell_type": "code",
   "execution_count": 16,
   "metadata": {
    "colab": {
     "base_uri": "https://localhost:8080/"
    },
    "id": "pV2orqKlqibw",
    "outputId": "fc095012-889d-41ae-9706-14177ed586a6"
   },
   "outputs": [
    {
     "name": "stderr",
     "output_type": "stream",
     "text": [
      "/usr/local/lib/python3.10/dist-packages/transformers/training_args.py:1575: FutureWarning: `evaluation_strategy` is deprecated and will be removed in version 4.46 of 🤗 Transformers. Use `eval_strategy` instead\n",
      "  warnings.warn(\n",
      "<ipython-input-16-094f3c3a7fdd>:22: FutureWarning: `tokenizer` is deprecated and will be removed in version 5.0.0 for `Trainer.__init__`. Use `processing_class` instead.\n",
      "  trainer = Trainer(\n"
     ]
    }
   ],
   "source": [
    "from transformers import AutoTokenizer, Trainer, TrainingArguments, DataCollatorWithPadding\n",
    "\n",
    "# Define the data collator\n",
    "tokenizer = AutoTokenizer.from_pretrained(\"zhihan1996/DNA_bert_6\")\n",
    "data_collator = DataCollatorWithPadding(tokenizer=tokenizer)\n",
    "\n",
    "training_args = TrainingArguments(\n",
    "    output_dir=\"./results\",\n",
    "    evaluation_strategy=\"epoch\",  # Evaluate at the end of each epoch\n",
    "    logging_strategy=\"steps\",     # Log training metrics every few steps\n",
    "    logging_steps=1,             # Log every 10 steps\n",
    "    learning_rate=1e-5,\n",
    "    per_device_train_batch_size=32,\n",
    "    per_device_eval_batch_size=32,\n",
    "    num_train_epochs=25,\n",
    "    weight_decay=0.01,\n",
    "    save_total_limit=2,\n",
    "    report_to=\"none\",             # Disable logging to external tools like WandB\n",
    ")\n",
    "\n",
    "# Initialize the Trainer\n",
    "trainer = Trainer(\n",
    "    model=model,\n",
    "    args=training_args,\n",
    "    train_dataset=train_dataset,\n",
    "    eval_dataset=val_dataset,\n",
    "    tokenizer=tokenizer,\n",
    "    data_collator=data_collator,\n",
    ")"
   ]
  },
  {
   "cell_type": "code",
   "execution_count": 17,
   "metadata": {
    "colab": {
     "base_uri": "https://localhost:8080/",
     "height": 894
    },
    "id": "Rzgf4QkCqibw",
    "outputId": "8a89c3e4-df05-4e96-f313-d74d06c95e67"
   },
   "outputs": [
    {
     "data": {
      "text/html": [
       "\n",
       "    <div>\n",
       "      \n",
       "      <progress value='100' max='100' style='width:300px; height:20px; vertical-align: middle;'></progress>\n",
       "      [100/100 00:59, Epoch 25/25]\n",
       "    </div>\n",
       "    <table border=\"1\" class=\"dataframe\">\n",
       "  <thead>\n",
       " <tr style=\"text-align: left;\">\n",
       "      <th>Epoch</th>\n",
       "      <th>Training Loss</th>\n",
       "      <th>Validation Loss</th>\n",
       "    </tr>\n",
       "  </thead>\n",
       "  <tbody>\n",
       "    <tr>\n",
       "      <td>1</td>\n",
       "      <td>0.718700</td>\n",
       "      <td>0.740743</td>\n",
       "    </tr>\n",
       "    <tr>\n",
       "      <td>2</td>\n",
       "      <td>0.648200</td>\n",
       "      <td>0.756176</td>\n",
       "    </tr>\n",
       "    <tr>\n",
       "      <td>3</td>\n",
       "      <td>0.704000</td>\n",
       "      <td>0.698363</td>\n",
       "    </tr>\n",
       "    <tr>\n",
       "      <td>4</td>\n",
       "      <td>0.671200</td>\n",
       "      <td>0.697228</td>\n",
       "    </tr>\n",
       "    <tr>\n",
       "      <td>5</td>\n",
       "      <td>0.677900</td>\n",
       "      <td>0.694992</td>\n",
       "    </tr>\n",
       "    <tr>\n",
       "      <td>6</td>\n",
       "      <td>0.717400</td>\n",
       "      <td>0.701412</td>\n",
       "    </tr>\n",
       "    <tr>\n",
       "      <td>7</td>\n",
       "      <td>0.623000</td>\n",
       "      <td>0.715462</td>\n",
       "    </tr>\n",
       "    <tr>\n",
       "      <td>8</td>\n",
       "      <td>0.633100</td>\n",
       "      <td>0.724039</td>\n",
       "    </tr>\n",
       "    <tr>\n",
       "      <td>9</td>\n",
       "      <td>0.654700</td>\n",
       "      <td>0.754999</td>\n",
       "    </tr>\n",
       "    <tr>\n",
       "      <td>10</td>\n",
       "      <td>0.704200</td>\n",
       "      <td>0.752160</td>\n",
       "    </tr>\n",
       "    <tr>\n",
       "      <td>11</td>\n",
       "      <td>0.659300</td>\n",
       "      <td>0.738799</td>\n",
       "    </tr>\n",
       "    <tr>\n",
       "      <td>12</td>\n",
       "      <td>0.635100</td>\n",
       "      <td>0.730281</td>\n",
       "    </tr>\n",
       "    <tr>\n",
       "      <td>13</td>\n",
       "      <td>0.662700</td>\n",
       "      <td>0.721271</td>\n",
       "    </tr>\n",
       "    <tr>\n",
       "      <td>14</td>\n",
       "      <td>0.658100</td>\n",
       "      <td>0.717005</td>\n",
       "    </tr>\n",
       "    <tr>\n",
       "      <td>15</td>\n",
       "      <td>0.734900</td>\n",
       "      <td>0.709412</td>\n",
       "    </tr>\n",
       "    <tr>\n",
       "      <td>16</td>\n",
       "      <td>0.705500</td>\n",
       "      <td>0.704514</td>\n",
       "    </tr>\n",
       "    <tr>\n",
       "      <td>17</td>\n",
       "      <td>0.664700</td>\n",
       "      <td>0.705367</td>\n",
       "    </tr>\n",
       "    <tr>\n",
       "      <td>18</td>\n",
       "      <td>0.698400</td>\n",
       "      <td>0.701714</td>\n",
       "    </tr>\n",
       "    <tr>\n",
       "      <td>19</td>\n",
       "      <td>0.678000</td>\n",
       "      <td>0.702073</td>\n",
       "    </tr>\n",
       "    <tr>\n",
       "      <td>20</td>\n",
       "      <td>0.664400</td>\n",
       "      <td>0.707699</td>\n",
       "    </tr>\n",
       "    <tr>\n",
       "      <td>21</td>\n",
       "      <td>0.688300</td>\n",
       "      <td>0.714061</td>\n",
       "    </tr>\n",
       "    <tr>\n",
       "      <td>22</td>\n",
       "      <td>0.694900</td>\n",
       "      <td>0.718616</td>\n",
       "    </tr>\n",
       "    <tr>\n",
       "      <td>23</td>\n",
       "      <td>0.707200</td>\n",
       "      <td>0.720706</td>\n",
       "    </tr>\n",
       "    <tr>\n",
       "      <td>24</td>\n",
       "      <td>0.633500</td>\n",
       "      <td>0.719870</td>\n",
       "    </tr>\n",
       "    <tr>\n",
       "      <td>25</td>\n",
       "      <td>0.719500</td>\n",
       "      <td>0.720199</td>\n",
       "    </tr>\n",
       "  </tbody>\n",
       "</table><p>"
      ],
      "text/plain": [
       "<IPython.core.display.HTML object>"
      ]
     },
     "metadata": {},
     "output_type": "display_data"
    },
    {
     "data": {
      "text/plain": [
       "TrainOutput(global_step=100, training_loss=0.675241961479187, metrics={'train_runtime': 60.623, 'train_samples_per_second': 50.311, 'train_steps_per_second': 1.65, 'total_flos': 0.0, 'train_loss': 0.675241961479187, 'epoch': 25.0})"
      ]
     },
     "execution_count": 17,
     "metadata": {},
     "output_type": "execute_result"
    }
   ],
   "source": [
    "trainer.train()"
   ]
  },
  {
   "cell_type": "markdown",
   "metadata": {
    "id": "-qPeAg-Jqibx"
   },
   "source": [
    "# Evaluation of the Model"
   ]
  },
  {
   "cell_type": "code",
   "execution_count": 18,
   "metadata": {
    "colab": {
     "base_uri": "https://localhost:8080/",
     "height": 54
    },
    "id": "7-67Zwf_qibx",
    "outputId": "1ce2bbec-ad7c-4db9-fc30-332f08a7288f"
   },
   "outputs": [
    {
     "data": {
      "text/html": [
       "\n",
       "    <div>\n",
       "      \n",
       "      <progress value='1' max='1' style='width:300px; height:20px; vertical-align: middle;'></progress>\n",
       "      [1/1 : < :]\n",
       "    </div>\n",
       "    "
      ],
      "text/plain": [
       "<IPython.core.display.HTML object>"
      ]
     },
     "metadata": {},
     "output_type": "display_data"
    },
    {
     "name": "stdout",
     "output_type": "stream",
     "text": [
      "{'eval_loss': 0.720199465751648, 'eval_runtime': 0.0907, 'eval_samples_per_second': 154.334, 'eval_steps_per_second': 11.024, 'epoch': 25.0}\n"
     ]
    }
   ],
   "source": [
    "# Evaluate the model\n",
    "results = trainer.evaluate(eval_dataset=val_dataset)\n",
    "print(results)"
   ]
  },
  {
   "cell_type": "code",
   "execution_count": 19,
   "metadata": {
    "colab": {
     "base_uri": "https://localhost:8080/",
     "height": 364
    },
    "id": "aELehqxzqibx",
    "outputId": "e306a367-f207-4523-c3bf-066611521894"
   },
   "outputs": [
    {
     "data": {
      "text/html": [],
      "text/plain": [
       "<IPython.core.display.HTML object>"
      ]
     },
     "metadata": {},
     "output_type": "display_data"
    },
    {
     "name": "stdout",
     "output_type": "stream",
     "text": [
      "[[-0.19189407  0.14240378]\n",
      " [ 0.1358451   0.01074923]\n",
      " [ 0.14235814  0.02645456]\n",
      " [-0.20289828  0.15455388]\n",
      " [ 0.14235814  0.02645456]\n",
      " [ 0.14729264  0.02621548]\n",
      " [-0.16945182  0.1936451 ]\n",
      " [ 0.14235814  0.02645456]\n",
      " [-0.2004354   0.15956615]\n",
      " [ 0.13493775  0.02910375]\n",
      " [-0.20170954  0.14722264]\n",
      " [-0.20456882  0.15345126]\n",
      " [-0.17107749  0.19276169]\n",
      " [ 0.15474094  0.03697062]]\n",
      "Predicted Classes: [1 0 0 1 0 0 1 0 1 0 1 1 1 0]\n",
      "True Classes: [0 1 0 1 1 0 0 0 1 1 0 0 1 1]\n",
      "Precision: 0.4286\n",
      "Recall: 0.4286\n",
      "F1 Score: 0.4286\n",
      "Accuracy: 0.4286\n"
     ]
    }
   ],
   "source": [
    "predictions = trainer.predict(test_dataset=test_dataset)\n",
    "print(predictions.predictions)  # Raw logits\n",
    "\n",
    "\n",
    "import numpy as np\n",
    "\n",
    "# Get predicted class labels from logits\n",
    "predicted_classes = np.argmax(predictions.predictions, axis=1)\n",
    "true_labels = predictions.label_ids\n",
    "\n",
    "# Display the predicted class labels\n",
    "print(\"Predicted Classes:\", predicted_classes)\n",
    "print(\"True Classes:\", predictions.label_ids)    # True labels\n",
    "\n",
    "from sklearn.metrics import precision_score, recall_score, f1_score, accuracy_score\n",
    "\n",
    "def compute_metrics(true_labels, predicted_classes):\n",
    "    precision = precision_score(true_labels, predicted_classes, average=\"binary\")\n",
    "    recall = recall_score(true_labels, predicted_classes, average=\"binary\")\n",
    "    f1 = f1_score(true_labels, predicted_classes, average=\"binary\")\n",
    "    accuracy = accuracy_score(true_labels, predicted_classes)\n",
    "\n",
    "    print(f\"Precision: {precision:.4f}\")\n",
    "    print(f\"Recall: {recall:.4f}\")\n",
    "    print(f\"F1 Score: {f1:.4f}\")\n",
    "    print(f\"Accuracy: {accuracy:.4f}\")\n",
    "\n",
    "    return {\"precision\": precision, \"recall\": recall, \"f1\": f1, \"accuracy\": accuracy}\n",
    "\n",
    "# Call the function\n",
    "metrics = compute_metrics(true_labels, predicted_classes)"
   ]
  }
 ],
 "metadata": {
  "accelerator": "GPU",
  "colab": {
   "gpuType": "A100",
   "machine_shape": "hm",
   "provenance": []
  },
  "kernelspec": {
   "display_name": "base",
   "language": "python",
   "name": "python3"
  },
  "language_info": {
   "codemirror_mode": {
    "name": "ipython",
    "version": 3
   },
   "file_extension": ".py",
   "mimetype": "text/x-python",
   "name": "python",
   "nbconvert_exporter": "python",
   "pygments_lexer": "ipython3",
   "version": "3.11.5"
  },
  "widgets": {
   "application/vnd.jupyter.widget-state+json": {
    "035a335c130141319ba54fcc2e90a709": {
     "model_module": "@jupyter-widgets/base",
     "model_module_version": "1.2.0",
     "model_name": "LayoutModel",
     "state": {
      "_model_module": "@jupyter-widgets/base",
      "_model_module_version": "1.2.0",
      "_model_name": "LayoutModel",
      "_view_count": null,
      "_view_module": "@jupyter-widgets/base",
      "_view_module_version": "1.2.0",
      "_view_name": "LayoutView",
      "align_content": null,
      "align_items": null,
      "align_self": null,
      "border": null,
      "bottom": null,
      "display": null,
      "flex": null,
      "flex_flow": null,
      "grid_area": null,
      "grid_auto_columns": null,
      "grid_auto_flow": null,
      "grid_auto_rows": null,
      "grid_column": null,
      "grid_gap": null,
      "grid_row": null,
      "grid_template_areas": null,
      "grid_template_columns": null,
      "grid_template_rows": null,
      "height": null,
      "justify_content": null,
      "justify_items": null,
      "left": null,
      "margin": null,
      "max_height": null,
      "max_width": null,
      "min_height": null,
      "min_width": null,
      "object_fit": null,
      "object_position": null,
      "order": null,
      "overflow": null,
      "overflow_x": null,
      "overflow_y": null,
      "padding": null,
      "right": null,
      "top": null,
      "visibility": null,
      "width": null
     }
    },
    "2426bcbae93548c2967d380e83484a0d": {
     "model_module": "@jupyter-widgets/controls",
     "model_module_version": "1.5.0",
     "model_name": "HBoxModel",
     "state": {
      "_dom_classes": [],
      "_model_module": "@jupyter-widgets/controls",
      "_model_module_version": "1.5.0",
      "_model_name": "HBoxModel",
      "_view_count": null,
      "_view_module": "@jupyter-widgets/controls",
      "_view_module_version": "1.5.0",
      "_view_name": "HBoxView",
      "box_style": "",
      "children": [
       "IPY_MODEL_b156f4dbb31c4b329d989447b02da725",
       "IPY_MODEL_5393e6545b2e42c3b3e6924f7261b891",
       "IPY_MODEL_a35e94e82b2c46d8b30857f5181e0f7c"
      ],
      "layout": "IPY_MODEL_c198ea2f9b444faba4b58de2ca20daac"
     }
    },
    "2b2b8a5de95a4258ac67bfce0fdbb8b7": {
     "model_module": "@jupyter-widgets/controls",
     "model_module_version": "1.5.0",
     "model_name": "DescriptionStyleModel",
     "state": {
      "_model_module": "@jupyter-widgets/controls",
      "_model_module_version": "1.5.0",
      "_model_name": "DescriptionStyleModel",
      "_view_count": null,
      "_view_module": "@jupyter-widgets/base",
      "_view_module_version": "1.2.0",
      "_view_name": "StyleView",
      "description_width": ""
     }
    },
    "327847d568624aaebea4ab1330349f8e": {
     "model_module": "@jupyter-widgets/base",
     "model_module_version": "1.2.0",
     "model_name": "LayoutModel",
     "state": {
      "_model_module": "@jupyter-widgets/base",
      "_model_module_version": "1.2.0",
      "_model_name": "LayoutModel",
      "_view_count": null,
      "_view_module": "@jupyter-widgets/base",
      "_view_module_version": "1.2.0",
      "_view_name": "LayoutView",
      "align_content": null,
      "align_items": null,
      "align_self": null,
      "border": null,
      "bottom": null,
      "display": null,
      "flex": null,
      "flex_flow": null,
      "grid_area": null,
      "grid_auto_columns": null,
      "grid_auto_flow": null,
      "grid_auto_rows": null,
      "grid_column": null,
      "grid_gap": null,
      "grid_row": null,
      "grid_template_areas": null,
      "grid_template_columns": null,
      "grid_template_rows": null,
      "height": null,
      "justify_content": null,
      "justify_items": null,
      "left": null,
      "margin": null,
      "max_height": null,
      "max_width": null,
      "min_height": null,
      "min_width": null,
      "object_fit": null,
      "object_position": null,
      "order": null,
      "overflow": null,
      "overflow_x": null,
      "overflow_y": null,
      "padding": null,
      "right": null,
      "top": null,
      "visibility": null,
      "width": null
     }
    },
    "4173b0ebc9f24eb8afae5d883cf7c0cc": {
     "model_module": "@jupyter-widgets/base",
     "model_module_version": "1.2.0",
     "model_name": "LayoutModel",
     "state": {
      "_model_module": "@jupyter-widgets/base",
      "_model_module_version": "1.2.0",
      "_model_name": "LayoutModel",
      "_view_count": null,
      "_view_module": "@jupyter-widgets/base",
      "_view_module_version": "1.2.0",
      "_view_name": "LayoutView",
      "align_content": null,
      "align_items": null,
      "align_self": null,
      "border": null,
      "bottom": null,
      "display": null,
      "flex": null,
      "flex_flow": null,
      "grid_area": null,
      "grid_auto_columns": null,
      "grid_auto_flow": null,
      "grid_auto_rows": null,
      "grid_column": null,
      "grid_gap": null,
      "grid_row": null,
      "grid_template_areas": null,
      "grid_template_columns": null,
      "grid_template_rows": null,
      "height": null,
      "justify_content": null,
      "justify_items": null,
      "left": null,
      "margin": null,
      "max_height": null,
      "max_width": null,
      "min_height": null,
      "min_width": null,
      "object_fit": null,
      "object_position": null,
      "order": null,
      "overflow": null,
      "overflow_x": null,
      "overflow_y": null,
      "padding": null,
      "right": null,
      "top": null,
      "visibility": null,
      "width": null
     }
    },
    "5393e6545b2e42c3b3e6924f7261b891": {
     "model_module": "@jupyter-widgets/controls",
     "model_module_version": "1.5.0",
     "model_name": "FloatProgressModel",
     "state": {
      "_dom_classes": [],
      "_model_module": "@jupyter-widgets/controls",
      "_model_module_version": "1.5.0",
      "_model_name": "FloatProgressModel",
      "_view_count": null,
      "_view_module": "@jupyter-widgets/controls",
      "_view_module_version": "1.5.0",
      "_view_name": "ProgressView",
      "bar_style": "success",
      "description": "",
      "description_tooltip": null,
      "layout": "IPY_MODEL_ccf255d3b56047148dad7b392fe5f9e4",
      "max": 359199902,
      "min": 0,
      "orientation": "horizontal",
      "style": "IPY_MODEL_cb7cf51fb7194b888592b4e990dd6c55",
      "value": 359199902
     }
    },
    "5cb9649092b94d3dbe8b384781cb73fe": {
     "model_module": "@jupyter-widgets/controls",
     "model_module_version": "1.5.0",
     "model_name": "HBoxModel",
     "state": {
      "_dom_classes": [],
      "_model_module": "@jupyter-widgets/controls",
      "_model_module_version": "1.5.0",
      "_model_name": "HBoxModel",
      "_view_count": null,
      "_view_module": "@jupyter-widgets/controls",
      "_view_module_version": "1.5.0",
      "_view_name": "HBoxView",
      "box_style": "",
      "children": [
       "IPY_MODEL_d9d083278fb14254b4b494525357f797",
       "IPY_MODEL_a2161c63e36c44d9809f40427e19a0a1",
       "IPY_MODEL_ad82d14214274171a895ceba8ea68e6c"
      ],
      "layout": "IPY_MODEL_4173b0ebc9f24eb8afae5d883cf7c0cc"
     }
    },
    "812fbe0f32ef40849d0b244dc001b0b5": {
     "model_module": "@jupyter-widgets/controls",
     "model_module_version": "1.5.0",
     "model_name": "DescriptionStyleModel",
     "state": {
      "_model_module": "@jupyter-widgets/controls",
      "_model_module_version": "1.5.0",
      "_model_name": "DescriptionStyleModel",
      "_view_count": null,
      "_view_module": "@jupyter-widgets/base",
      "_view_module_version": "1.2.0",
      "_view_name": "StyleView",
      "description_width": ""
     }
    },
    "82d7573994cf4f62ab5c6bad2d1e24c0": {
     "model_module": "@jupyter-widgets/base",
     "model_module_version": "1.2.0",
     "model_name": "LayoutModel",
     "state": {
      "_model_module": "@jupyter-widgets/base",
      "_model_module_version": "1.2.0",
      "_model_name": "LayoutModel",
      "_view_count": null,
      "_view_module": "@jupyter-widgets/base",
      "_view_module_version": "1.2.0",
      "_view_name": "LayoutView",
      "align_content": null,
      "align_items": null,
      "align_self": null,
      "border": null,
      "bottom": null,
      "display": null,
      "flex": null,
      "flex_flow": null,
      "grid_area": null,
      "grid_auto_columns": null,
      "grid_auto_flow": null,
      "grid_auto_rows": null,
      "grid_column": null,
      "grid_gap": null,
      "grid_row": null,
      "grid_template_areas": null,
      "grid_template_columns": null,
      "grid_template_rows": null,
      "height": null,
      "justify_content": null,
      "justify_items": null,
      "left": null,
      "margin": null,
      "max_height": null,
      "max_width": null,
      "min_height": null,
      "min_width": null,
      "object_fit": null,
      "object_position": null,
      "order": null,
      "overflow": null,
      "overflow_x": null,
      "overflow_y": null,
      "padding": null,
      "right": null,
      "top": null,
      "visibility": null,
      "width": null
     }
    },
    "9d9eb3f900604698b277a2ab87774fed": {
     "model_module": "@jupyter-widgets/base",
     "model_module_version": "1.2.0",
     "model_name": "LayoutModel",
     "state": {
      "_model_module": "@jupyter-widgets/base",
      "_model_module_version": "1.2.0",
      "_model_name": "LayoutModel",
      "_view_count": null,
      "_view_module": "@jupyter-widgets/base",
      "_view_module_version": "1.2.0",
      "_view_name": "LayoutView",
      "align_content": null,
      "align_items": null,
      "align_self": null,
      "border": null,
      "bottom": null,
      "display": null,
      "flex": null,
      "flex_flow": null,
      "grid_area": null,
      "grid_auto_columns": null,
      "grid_auto_flow": null,
      "grid_auto_rows": null,
      "grid_column": null,
      "grid_gap": null,
      "grid_row": null,
      "grid_template_areas": null,
      "grid_template_columns": null,
      "grid_template_rows": null,
      "height": null,
      "justify_content": null,
      "justify_items": null,
      "left": null,
      "margin": null,
      "max_height": null,
      "max_width": null,
      "min_height": null,
      "min_width": null,
      "object_fit": null,
      "object_position": null,
      "order": null,
      "overflow": null,
      "overflow_x": null,
      "overflow_y": null,
      "padding": null,
      "right": null,
      "top": null,
      "visibility": null,
      "width": null
     }
    },
    "a2161c63e36c44d9809f40427e19a0a1": {
     "model_module": "@jupyter-widgets/controls",
     "model_module_version": "1.5.0",
     "model_name": "FloatProgressModel",
     "state": {
      "_dom_classes": [],
      "_model_module": "@jupyter-widgets/controls",
      "_model_module_version": "1.5.0",
      "_model_name": "FloatProgressModel",
      "_view_count": null,
      "_view_module": "@jupyter-widgets/controls",
      "_view_module_version": "1.5.0",
      "_view_name": "ProgressView",
      "bar_style": "success",
      "description": "",
      "description_tooltip": null,
      "layout": "IPY_MODEL_82d7573994cf4f62ab5c6bad2d1e24c0",
      "max": 1445,
      "min": 0,
      "orientation": "horizontal",
      "style": "IPY_MODEL_b62c1e85306c46c79e74fa701b10aae3",
      "value": 1445
     }
    },
    "a35e94e82b2c46d8b30857f5181e0f7c": {
     "model_module": "@jupyter-widgets/controls",
     "model_module_version": "1.5.0",
     "model_name": "HTMLModel",
     "state": {
      "_dom_classes": [],
      "_model_module": "@jupyter-widgets/controls",
      "_model_module_version": "1.5.0",
      "_model_name": "HTMLModel",
      "_view_count": null,
      "_view_module": "@jupyter-widgets/controls",
      "_view_module_version": "1.5.0",
      "_view_name": "HTMLView",
      "description": "",
      "description_tooltip": null,
      "layout": "IPY_MODEL_ec428330168d46368cb4ba8c6c640d99",
      "placeholder": "​",
      "style": "IPY_MODEL_2b2b8a5de95a4258ac67bfce0fdbb8b7",
      "value": " 359M/359M [00:02&lt;00:00, 149MB/s]"
     }
    },
    "ad82d14214274171a895ceba8ea68e6c": {
     "model_module": "@jupyter-widgets/controls",
     "model_module_version": "1.5.0",
     "model_name": "HTMLModel",
     "state": {
      "_dom_classes": [],
      "_model_module": "@jupyter-widgets/controls",
      "_model_module_version": "1.5.0",
      "_model_name": "HTMLModel",
      "_view_count": null,
      "_view_module": "@jupyter-widgets/controls",
      "_view_module_version": "1.5.0",
      "_view_name": "HTMLView",
      "description": "",
      "description_tooltip": null,
      "layout": "IPY_MODEL_9d9eb3f900604698b277a2ab87774fed",
      "placeholder": "​",
      "style": "IPY_MODEL_812fbe0f32ef40849d0b244dc001b0b5",
      "value": " 1.45k/1.45k [00:00&lt;00:00, 115kB/s]"
     }
    },
    "b156f4dbb31c4b329d989447b02da725": {
     "model_module": "@jupyter-widgets/controls",
     "model_module_version": "1.5.0",
     "model_name": "HTMLModel",
     "state": {
      "_dom_classes": [],
      "_model_module": "@jupyter-widgets/controls",
      "_model_module_version": "1.5.0",
      "_model_name": "HTMLModel",
      "_view_count": null,
      "_view_module": "@jupyter-widgets/controls",
      "_view_module_version": "1.5.0",
      "_view_name": "HTMLView",
      "description": "",
      "description_tooltip": null,
      "layout": "IPY_MODEL_035a335c130141319ba54fcc2e90a709",
      "placeholder": "​",
      "style": "IPY_MODEL_b6b8a4d857044a45908dd20d934b56a3",
      "value": "pytorch_model.bin: 100%"
     }
    },
    "b62c1e85306c46c79e74fa701b10aae3": {
     "model_module": "@jupyter-widgets/controls",
     "model_module_version": "1.5.0",
     "model_name": "ProgressStyleModel",
     "state": {
      "_model_module": "@jupyter-widgets/controls",
      "_model_module_version": "1.5.0",
      "_model_name": "ProgressStyleModel",
      "_view_count": null,
      "_view_module": "@jupyter-widgets/base",
      "_view_module_version": "1.2.0",
      "_view_name": "StyleView",
      "bar_color": null,
      "description_width": ""
     }
    },
    "b6b8a4d857044a45908dd20d934b56a3": {
     "model_module": "@jupyter-widgets/controls",
     "model_module_version": "1.5.0",
     "model_name": "DescriptionStyleModel",
     "state": {
      "_model_module": "@jupyter-widgets/controls",
      "_model_module_version": "1.5.0",
      "_model_name": "DescriptionStyleModel",
      "_view_count": null,
      "_view_module": "@jupyter-widgets/base",
      "_view_module_version": "1.2.0",
      "_view_name": "StyleView",
      "description_width": ""
     }
    },
    "c198ea2f9b444faba4b58de2ca20daac": {
     "model_module": "@jupyter-widgets/base",
     "model_module_version": "1.2.0",
     "model_name": "LayoutModel",
     "state": {
      "_model_module": "@jupyter-widgets/base",
      "_model_module_version": "1.2.0",
      "_model_name": "LayoutModel",
      "_view_count": null,
      "_view_module": "@jupyter-widgets/base",
      "_view_module_version": "1.2.0",
      "_view_name": "LayoutView",
      "align_content": null,
      "align_items": null,
      "align_self": null,
      "border": null,
      "bottom": null,
      "display": null,
      "flex": null,
      "flex_flow": null,
      "grid_area": null,
      "grid_auto_columns": null,
      "grid_auto_flow": null,
      "grid_auto_rows": null,
      "grid_column": null,
      "grid_gap": null,
      "grid_row": null,
      "grid_template_areas": null,
      "grid_template_columns": null,
      "grid_template_rows": null,
      "height": null,
      "justify_content": null,
      "justify_items": null,
      "left": null,
      "margin": null,
      "max_height": null,
      "max_width": null,
      "min_height": null,
      "min_width": null,
      "object_fit": null,
      "object_position": null,
      "order": null,
      "overflow": null,
      "overflow_x": null,
      "overflow_y": null,
      "padding": null,
      "right": null,
      "top": null,
      "visibility": null,
      "width": null
     }
    },
    "cb7cf51fb7194b888592b4e990dd6c55": {
     "model_module": "@jupyter-widgets/controls",
     "model_module_version": "1.5.0",
     "model_name": "ProgressStyleModel",
     "state": {
      "_model_module": "@jupyter-widgets/controls",
      "_model_module_version": "1.5.0",
      "_model_name": "ProgressStyleModel",
      "_view_count": null,
      "_view_module": "@jupyter-widgets/base",
      "_view_module_version": "1.2.0",
      "_view_name": "StyleView",
      "bar_color": null,
      "description_width": ""
     }
    },
    "ccf255d3b56047148dad7b392fe5f9e4": {
     "model_module": "@jupyter-widgets/base",
     "model_module_version": "1.2.0",
     "model_name": "LayoutModel",
     "state": {
      "_model_module": "@jupyter-widgets/base",
      "_model_module_version": "1.2.0",
      "_model_name": "LayoutModel",
      "_view_count": null,
      "_view_module": "@jupyter-widgets/base",
      "_view_module_version": "1.2.0",
      "_view_name": "LayoutView",
      "align_content": null,
      "align_items": null,
      "align_self": null,
      "border": null,
      "bottom": null,
      "display": null,
      "flex": null,
      "flex_flow": null,
      "grid_area": null,
      "grid_auto_columns": null,
      "grid_auto_flow": null,
      "grid_auto_rows": null,
      "grid_column": null,
      "grid_gap": null,
      "grid_row": null,
      "grid_template_areas": null,
      "grid_template_columns": null,
      "grid_template_rows": null,
      "height": null,
      "justify_content": null,
      "justify_items": null,
      "left": null,
      "margin": null,
      "max_height": null,
      "max_width": null,
      "min_height": null,
      "min_width": null,
      "object_fit": null,
      "object_position": null,
      "order": null,
      "overflow": null,
      "overflow_x": null,
      "overflow_y": null,
      "padding": null,
      "right": null,
      "top": null,
      "visibility": null,
      "width": null
     }
    },
    "cebc60538d2143ec88ad51864d1c96be": {
     "model_module": "@jupyter-widgets/controls",
     "model_module_version": "1.5.0",
     "model_name": "DescriptionStyleModel",
     "state": {
      "_model_module": "@jupyter-widgets/controls",
      "_model_module_version": "1.5.0",
      "_model_name": "DescriptionStyleModel",
      "_view_count": null,
      "_view_module": "@jupyter-widgets/base",
      "_view_module_version": "1.2.0",
      "_view_name": "StyleView",
      "description_width": ""
     }
    },
    "d9d083278fb14254b4b494525357f797": {
     "model_module": "@jupyter-widgets/controls",
     "model_module_version": "1.5.0",
     "model_name": "HTMLModel",
     "state": {
      "_dom_classes": [],
      "_model_module": "@jupyter-widgets/controls",
      "_model_module_version": "1.5.0",
      "_model_name": "HTMLModel",
      "_view_count": null,
      "_view_module": "@jupyter-widgets/controls",
      "_view_module_version": "1.5.0",
      "_view_name": "HTMLView",
      "description": "",
      "description_tooltip": null,
      "layout": "IPY_MODEL_327847d568624aaebea4ab1330349f8e",
      "placeholder": "​",
      "style": "IPY_MODEL_cebc60538d2143ec88ad51864d1c96be",
      "value": "config.json: 100%"
     }
    },
    "ec428330168d46368cb4ba8c6c640d99": {
     "model_module": "@jupyter-widgets/base",
     "model_module_version": "1.2.0",
     "model_name": "LayoutModel",
     "state": {
      "_model_module": "@jupyter-widgets/base",
      "_model_module_version": "1.2.0",
      "_model_name": "LayoutModel",
      "_view_count": null,
      "_view_module": "@jupyter-widgets/base",
      "_view_module_version": "1.2.0",
      "_view_name": "LayoutView",
      "align_content": null,
      "align_items": null,
      "align_self": null,
      "border": null,
      "bottom": null,
      "display": null,
      "flex": null,
      "flex_flow": null,
      "grid_area": null,
      "grid_auto_columns": null,
      "grid_auto_flow": null,
      "grid_auto_rows": null,
      "grid_column": null,
      "grid_gap": null,
      "grid_row": null,
      "grid_template_areas": null,
      "grid_template_columns": null,
      "grid_template_rows": null,
      "height": null,
      "justify_content": null,
      "justify_items": null,
      "left": null,
      "margin": null,
      "max_height": null,
      "max_width": null,
      "min_height": null,
      "min_width": null,
      "object_fit": null,
      "object_position": null,
      "order": null,
      "overflow": null,
      "overflow_x": null,
      "overflow_y": null,
      "padding": null,
      "right": null,
      "top": null,
      "visibility": null,
      "width": null
     }
    }
   }
  }
 },
 "nbformat": 4,
 "nbformat_minor": 0
}
