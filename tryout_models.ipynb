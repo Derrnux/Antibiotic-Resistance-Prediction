{
 "cells": [
  {
   "cell_type": "markdown",
   "metadata": {},
   "source": [
    "# Try Out and Compare Models based on predefined Hyper-Parameters"
   ]
  },
  {
   "cell_type": "markdown",
   "metadata": {},
   "source": [
    "---\n",
    "### Setup Overhead:"
   ]
  },
  {
   "cell_type": "code",
   "execution_count": 2,
   "metadata": {},
   "outputs": [],
   "source": [
    "from transformer_manager import Transformer"
   ]
  },
  {
   "cell_type": "markdown",
   "metadata": {},
   "source": [
    "---\n",
    "### Training and Comparison of Models:"
   ]
  },
  {
   "cell_type": "code",
   "execution_count": 3,
   "metadata": {},
   "outputs": [
    {
     "name": "stderr",
     "output_type": "stream",
     "text": [
      "c:\\Users\\Daghz\\anaconda3\\Lib\\site-packages\\torch\\nn\\modules\\transformer.py:286: UserWarning: enable_nested_tensor is True, but self.use_nested_tensor is False because encoder_layer.self_attn.batch_first was not True(use batch_first for better inference performance)\n",
      "  warnings.warn(f\"enable_nested_tensor is True, but self.use_nested_tensor is False because {why_not_sparsity_fast_path}\")\n"
     ]
    },
    {
     "name": "stdout",
     "output_type": "stream",
     "text": [
      "[0, 1, 1, 1, 0, 0, 1, 1, 1, 1, 1, 1, 1, 1, 1]\n",
      "[1, 1, 1, 1, 1, 1, 1, 1, 1, 1, 1, 1, 1, 1, 1]\n",
      "              precision    recall  f1-score   support\n",
      "\n",
      "           0       0.00      0.00      0.00         3\n",
      "           1       0.80      1.00      0.89        12\n",
      "\n",
      "    accuracy                           0.80        15\n",
      "   macro avg       0.40      0.50      0.44        15\n",
      "weighted avg       0.64      0.80      0.71        15\n",
      "\n"
     ]
    }
   ],
   "source": [
    "custom_model = Transformer(k_mers_type = 1, attention_layers = 3, batch_size = 32,  balancing_method = 'none', embed_dim = 128, dim_feedforward = 2048)\n",
    "custom_model.evaluate()"
   ]
  },
  {
   "cell_type": "code",
   "execution_count": null,
   "metadata": {},
   "outputs": [
    {
     "name": "stderr",
     "output_type": "stream",
     "text": [
      "c:\\Users\\Daghz\\anaconda3\\Lib\\site-packages\\torch\\nn\\modules\\transformer.py:286: UserWarning: enable_nested_tensor is True, but self.use_nested_tensor is False because encoder_layer.self_attn.batch_first was not True(use batch_first for better inference performance)\n",
      "  warnings.warn(f\"enable_nested_tensor is True, but self.use_nested_tensor is False because {why_not_sparsity_fast_path}\")\n"
     ]
    },
    {
     "name": "stdout",
     "output_type": "stream",
     "text": [
      "Epoch 1/1, Loss: 4.3298\n",
      "[1, 1, 1, 1, 1, 0, 0, 1, 1, 1, 0, 1, 1, 1, 1]\n",
      "[1, 1, 1, 1, 1, 1, 1, 1, 1, 1, 1, 1, 1, 1, 1]\n",
      "              precision    recall  f1-score   support\n",
      "\n",
      "           0       0.00      0.00      0.00         3\n",
      "           1       0.80      1.00      0.89        12\n",
      "\n",
      "    accuracy                           0.80        15\n",
      "   macro avg       0.40      0.50      0.44        15\n",
      "weighted avg       0.64      0.80      0.71        15\n",
      "\n"
     ]
    }
   ],
   "source": [
    "custom_model = Transformer(k_mers_type = 1, attention_layers = 3, batch_size = 32,  balancing_method = 'none', embed_dim = 128, dim_feedforward = 2048)\n",
    "custom_model.train(epochs = 100, learning_rate = 1e-3)\n",
    "custom_model.evaluate()"
   ]
  },
  {
   "cell_type": "code",
   "execution_count": null,
   "metadata": {},
   "outputs": [
    {
     "name": "stderr",
     "output_type": "stream",
     "text": [
      "c:\\Users\\Daghz\\anaconda3\\Lib\\site-packages\\torch\\nn\\modules\\transformer.py:286: UserWarning: enable_nested_tensor is True, but self.use_nested_tensor is False because encoder_layer.self_attn.batch_first was not True(use batch_first for better inference performance)\n",
      "  warnings.warn(f\"enable_nested_tensor is True, but self.use_nested_tensor is False because {why_not_sparsity_fast_path}\")\n"
     ]
    },
    {
     "name": "stdout",
     "output_type": "stream",
     "text": [
      "Epoch 1/50, Loss: 7.4333\n",
      "Epoch 2/50, Loss: 3.4171\n",
      "Epoch 3/50, Loss: 3.5362\n",
      "Epoch 4/50, Loss: 3.5303\n",
      "Epoch 5/50, Loss: 3.5938\n",
      "Epoch 6/50, Loss: 3.6391\n",
      "Epoch 7/50, Loss: 3.4646\n",
      "Epoch 8/50, Loss: 3.4737\n",
      "Epoch 9/50, Loss: 3.4473\n",
      "Epoch 10/50, Loss: 3.5595\n",
      "Epoch 11/50, Loss: 3.3898\n",
      "Epoch 12/50, Loss: 3.6325\n",
      "Epoch 13/50, Loss: 3.4366\n",
      "Epoch 14/50, Loss: 3.4201\n",
      "Epoch 15/50, Loss: 3.4408\n",
      "Epoch 16/50, Loss: 3.3733\n",
      "Epoch 17/50, Loss: 3.3282\n",
      "Epoch 18/50, Loss: 3.3023\n",
      "Epoch 19/50, Loss: 3.3435\n",
      "Epoch 20/50, Loss: 3.2657\n",
      "Epoch 21/50, Loss: 3.4687\n",
      "Epoch 22/50, Loss: 3.3616\n",
      "Epoch 23/50, Loss: 3.3343\n",
      "Epoch 24/50, Loss: 3.5922\n",
      "Epoch 25/50, Loss: 3.3751\n",
      "Epoch 26/50, Loss: 3.3682\n",
      "Epoch 27/50, Loss: 3.5290\n",
      "Epoch 28/50, Loss: 3.5332\n",
      "Epoch 29/50, Loss: 3.4360\n",
      "Epoch 30/50, Loss: 3.3525\n",
      "Epoch 31/50, Loss: 3.3588\n",
      "Epoch 32/50, Loss: 3.4342\n",
      "Epoch 33/50, Loss: 3.3895\n",
      "Epoch 34/50, Loss: 3.2942\n",
      "Epoch 35/50, Loss: 3.3119\n",
      "Epoch 36/50, Loss: 3.2658\n",
      "Epoch 37/50, Loss: 3.3549\n",
      "Epoch 38/50, Loss: 3.2348\n",
      "Epoch 39/50, Loss: 3.2140\n",
      "Epoch 40/50, Loss: 3.4785\n",
      "Epoch 41/50, Loss: 3.5003\n",
      "Epoch 42/50, Loss: 3.4177\n",
      "Epoch 43/50, Loss: 3.5456\n",
      "Epoch 44/50, Loss: 3.3278\n",
      "Epoch 45/50, Loss: 3.3995\n",
      "Epoch 46/50, Loss: 3.3117\n",
      "Epoch 47/50, Loss: 3.3691\n",
      "Epoch 48/50, Loss: 3.2813\n",
      "Epoch 49/50, Loss: 3.2691\n",
      "Epoch 50/50, Loss: 3.4837\n",
      "[1, 1, 0, 1, 0, 1, 1, 1, 1, 0, 1, 1, 1, 1, 1]\n",
      "[1, 1, 0, 0, 0, 0, 1, 1, 1, 0, 0, 1, 1, 1, 0]\n",
      "              precision    recall  f1-score   support\n",
      "\n",
      "           0       0.43      1.00      0.60         3\n",
      "           1       1.00      0.67      0.80        12\n",
      "\n",
      "    accuracy                           0.73        15\n",
      "   macro avg       0.71      0.83      0.70        15\n",
      "weighted avg       0.89      0.73      0.76        15\n",
      "\n"
     ]
    }
   ],
   "source": [
    "custom_model = Transformer(k_mers_type = 1, attention_layers = 3, batch_size = 32,  balancing_method = 'class_weights', embed_dim = 128, dim_feedforward = 2048)\n",
    "custom_model.train(epochs = 100, learning_rate = 1e-3)\n",
    "custom_model.evaluate()"
   ]
  },
  {
   "cell_type": "code",
   "execution_count": 4,
   "metadata": {},
   "outputs": [
    {
     "name": "stdout",
     "output_type": "stream",
     "text": [
      "Directory seminar-dlmb-2024-winter-public exists and is non-empty.\n"
     ]
    },
    {
     "name": "stderr",
     "output_type": "stream",
     "text": [
      "c:\\Users\\Daghz\\anaconda3\\Lib\\site-packages\\torch\\nn\\modules\\transformer.py:286: UserWarning: enable_nested_tensor is True, but self.use_nested_tensor is False because encoder_layer.self_attn.batch_first was not True(use batch_first for better inference performance)\n",
      "  warnings.warn(f\"enable_nested_tensor is True, but self.use_nested_tensor is False because {why_not_sparsity_fast_path}\")\n"
     ]
    },
    {
     "name": "stdout",
     "output_type": "stream",
     "text": [
      "Epoch 1/5, Loss: 10.8394\n",
      "Epoch 2/5, Loss: 12.2408\n",
      "Epoch 3/5, Loss: 3.0903\n",
      "Epoch 4/5, Loss: 2.1481\n",
      "Epoch 5/5, Loss: 2.7473\n",
      "              precision    recall  f1-score   support\n",
      "\n",
      "           0       0.00      0.00      0.00         3\n",
      "           1       0.80      1.00      0.89        12\n",
      "\n",
      "    accuracy                           0.80        15\n",
      "   macro avg       0.40      0.50      0.44        15\n",
      "weighted avg       0.64      0.80      0.71        15\n",
      "\n"
     ]
    }
   ],
   "source": [
    "custom_model = Transformer(k_mers_type = 3, attention_layers = 4, batch_size = 32,  balancing_method = 'class_weights', embed_dim = 256, dim_feedforward = 2048)\n",
    "custom_model.train(epochs = 100, learning_rate = 1e-3)\n",
    "custom_model.evaluate()"
   ]
  },
  {
   "cell_type": "markdown",
   "metadata": {},
   "source": []
  },
  {
   "cell_type": "code",
   "execution_count": 5,
   "metadata": {},
   "outputs": [
    {
     "name": "stdout",
     "output_type": "stream",
     "text": [
      "Directory seminar-dlmb-2024-winter-public exists and is non-empty.\n"
     ]
    },
    {
     "name": "stderr",
     "output_type": "stream",
     "text": [
      "c:\\Users\\Daghz\\anaconda3\\Lib\\site-packages\\torch\\nn\\modules\\transformer.py:286: UserWarning: enable_nested_tensor is True, but self.use_nested_tensor is False because encoder_layer.self_attn.batch_first was not True(use batch_first for better inference performance)\n",
      "  warnings.warn(f\"enable_nested_tensor is True, but self.use_nested_tensor is False because {why_not_sparsity_fast_path}\")\n"
     ]
    },
    {
     "name": "stdout",
     "output_type": "stream",
     "text": [
      "Epoch 1/5, Loss: 48.4672\n",
      "Epoch 2/5, Loss: 21.6105\n",
      "Epoch 3/5, Loss: 6.7114\n",
      "Epoch 4/5, Loss: 4.2099\n",
      "Epoch 5/5, Loss: 3.8111\n",
      "              precision    recall  f1-score   support\n",
      "\n",
      "           0       0.00      0.00      0.00         3\n",
      "           1       0.80      1.00      0.89        12\n",
      "\n",
      "    accuracy                           0.80        15\n",
      "   macro avg       0.40      0.50      0.44        15\n",
      "weighted avg       0.64      0.80      0.71        15\n",
      "\n"
     ]
    }
   ],
   "source": [
    "custom_model = Transformer(k_mers_type = 6, attention_layers = 4, batch_size = 32,  balancing_method = 'oversampling', embed_dim = 256, dim_feedforward = 8192)\n",
    "custom_model.train(epochs = 100, learning_rate = 1e-3)\n",
    "custom_model.evaluate()"
   ]
  },
  {
   "cell_type": "code",
   "execution_count": null,
   "metadata": {},
   "outputs": [],
   "source": [
    "custom_model = Transformer(k_mers_type = 6, attention_layers = 4, batch_size = 32,  balancing_method = 'undersampling', embed_dim = 256, dim_feedforward = 8192)\n",
    "custom_model.train(epochs = 100, learning_rate = 1e-3)\n",
    "custom_model.evaluate()"
   ]
  },
  {
   "cell_type": "code",
   "execution_count": null,
   "metadata": {},
   "outputs": [],
   "source": [
    "custom_model = Transformer(k_mers_type = 6, attention_layers = 4, batch_size = 32,  balancing_method = 'class_weights', embed_dim = 256, dim_feedforward = 8192)\n",
    "custom_model.train(epochs = 100, learning_rate = 1e-3)\n",
    "custom_model.evaluate()"
   ]
  }
 ],
 "metadata": {
  "kernelspec": {
   "display_name": "base",
   "language": "python",
   "name": "python3"
  },
  "language_info": {
   "codemirror_mode": {
    "name": "ipython",
    "version": 3
   },
   "file_extension": ".py",
   "mimetype": "text/x-python",
   "name": "python",
   "nbconvert_exporter": "python",
   "pygments_lexer": "ipython3",
   "version": "3.11.5"
  }
 },
 "nbformat": 4,
 "nbformat_minor": 2
}
